{
 "cells": [
  {
   "cell_type": "markdown",
   "metadata": {},
   "source": [
    "## 3.2 Development of a (Noun - Adjective) Pair Ranker "
   ]
  },
  {
   "cell_type": "markdown",
   "metadata": {},
   "source": [
    "#### Import necessary libraries"
   ]
  },
  {
   "cell_type": "code",
   "execution_count": 1,
   "metadata": {},
   "outputs": [],
   "source": [
    "import pandas as pd\n",
    "import spacy\n",
    "from textblob import TextBlob\n",
    "from textblob.sentiments import NaiveBayesAnalyzer\n",
    "import en_core_web_sm\n",
    "from spacy.lang.en import English\n",
    "nlp = en_core_web_sm.load()\n",
    "from collections import Counter \n",
    "from itertools import chain"
   ]
  },
  {
   "cell_type": "markdown",
   "metadata": {},
   "source": [
    "#### Co-referencing was done on the original text file and saved as 'resolved.csv' as shown in 'Assignment_1_3.2_coreferencing.py'"
   ]
  },
  {
   "cell_type": "markdown",
   "metadata": {},
   "source": [
    "#### Read the csv file (one saved after co-referencing) and create the appropriate DataFrame"
   ]
  },
  {
   "cell_type": "code",
   "execution_count": 2,
   "metadata": {},
   "outputs": [],
   "source": [
    "df = pd.read_csv('resolved_data.csv')\n",
    "df = df.iloc[:, [1]]\n",
    "df = pd.DataFrame(df)\n",
    "df.rename(columns = {0:'text'}, inplace = True) \n",
    "text_doc = ' '.join(df.resolved)"
   ]
  },
  {
   "cell_type": "markdown",
   "metadata": {},
   "source": [
    "#### (1) Preparing the DataFrame to be used by NLP libraries. \n",
    "#### (2) Identifying the <noun, adjective> pairs using the POS tags"
   ]
  },
  {
   "cell_type": "code",
   "execution_count": 14,
   "metadata": {},
   "outputs": [],
   "source": [
    "#preparing the text using nlp() function\n",
    "\n",
    "text_doc_nlp = nlp(text_doc)\n",
    "\n",
    "def quote(string):\n",
    "    return \"{}\" .format(string)\n",
    "\n",
    "noun_adj_pairs2 = []\n",
    "for i,token in enumerate(text_doc_nlp):\n",
    "    if token.pos_ not in ('NOUN'):\n",
    "        continue\n",
    "    for j in range(i+1,len(text_doc_nlp)):\n",
    "        if text_doc_nlp[j].pos_ == 'ADJ':\n",
    "            word1 = quote(token)\n",
    "            word2 = quote(text_doc_nlp[j])\n",
    "            noun_adj_pairs2.append((word1,word2))\n",
    "            break"
   ]
  },
  {
   "cell_type": "markdown",
   "metadata": {},
   "source": [
    "#### Using the Counter library to find the most frequent pairs and their counts"
   ]
  },
  {
   "cell_type": "code",
   "execution_count": 27,
   "metadata": {},
   "outputs": [
    {
     "name": "stdout",
     "output_type": "stream",
     "text": [
      "[(('food', 'good'), 6), (('food', 'great'), 6), (('view', 'great'), 4), (('place', 'good'), 4), (('year', 'old'), 4)]\n"
     ]
    }
   ],
   "source": [
    "#Using counter to extract the most common pairs\n",
    "\n",
    "c = Counter(noun_adj_pairs2)\n",
    "print(c.most_common(5))"
   ]
  },
  {
   "cell_type": "code",
   "execution_count": 28,
   "metadata": {},
   "outputs": [],
   "source": [
    "#counting the frequency of the most common pairs\n",
    "\n",
    "def CountFrequency(my_list): \n",
    "    freq = {} \n",
    "    \n",
    "    for item in my_list: \n",
    "        if (item in freq):\n",
    "            freq[item] += 1\n",
    "            \n",
    "        else: \n",
    "            freq[item] = 1\n",
    "    return freq"
   ]
  },
  {
   "cell_type": "code",
   "execution_count": 29,
   "metadata": {},
   "outputs": [],
   "source": [
    "c = Counter(noun_adj_pairs2) \n",
    "\n",
    "print(c.most_common(30))"
   ]
  },
  {
   "cell_type": "markdown",
   "metadata": {},
   "source": [
    "#### Preparing a dictionary with the nouns as keys and the adjectives in a list as the value. Each of the adjectives chosen to \n",
    "#### be in the list such that all these respective noun-adjective pairs appear with equal frequency"
   ]
  },
  {
   "cell_type": "code",
   "execution_count": 31,
   "metadata": {},
   "outputs": [],
   "source": [
    "fdict = {}\n",
    "freq_dcit = {}\n",
    "for a, b in c.most_common(30):\n",
    "    word1 = a[0]\n",
    "    word2 = a[1]\n",
    "    if word1 not in fdict:\n",
    "        freq_dcit[word1] = b\n",
    "        fdict[word1] = []\n",
    "        fdict[word1].append(word2)\n",
    "    else:\n",
    "        if b == freq_dcit[word1]:\n",
    "            fdict[word1].append(word2)"
   ]
  },
  {
   "cell_type": "code",
   "execution_count": 32,
   "metadata": {},
   "outputs": [
    {
     "data": {
      "text/plain": [
       "({'food': 6,\n",
       "  'view': 4,\n",
       "  'place': 4,\n",
       "  'year': 4,\n",
       "  'drinks': 3,\n",
       "  'kids': 3,\n",
       "  'sandwich': 3,\n",
       "  'friend': 2,\n",
       "  'sister': 2,\n",
       "  'mother': 2,\n",
       "  'omelet': 2,\n",
       "  'family': 2,\n",
       "  'service': 2,\n",
       "  'times': 2,\n",
       "  'meal': 2,\n",
       "  'hour': 2,\n",
       "  'menu': 2},\n",
       " {'food': ['good', 'great'],\n",
       "  'view': ['great'],\n",
       "  'place': ['good'],\n",
       "  'year': ['old'],\n",
       "  'drinks': ['great'],\n",
       "  'kids': ['fresh', 'good'],\n",
       "  'sandwich': ['good'],\n",
       "  'friend': ['first'],\n",
       "  'sister': ['confusing'],\n",
       "  'mother': ['confusing'],\n",
       "  'omelet': ['disappointed'],\n",
       "  'family': ['regular', 'nice'],\n",
       "  'service': ['friendly'],\n",
       "  'times': ['latest'],\n",
       "  'meal': ['simple'],\n",
       "  'hour': ['good'],\n",
       "  'menu': ['good']})"
      ]
     },
     "execution_count": 32,
     "metadata": {},
     "output_type": "execute_result"
    }
   ],
   "source": [
    "#Showing the output of the nouns and the respective adjectives used to describe the nouns with the same frequency value\n",
    "\n",
    "freq_dcit, fdict"
   ]
  },
  {
   "cell_type": "markdown",
   "metadata": {},
   "source": [
    "#### Now to rank the pairs (unique nouns that appear with each adjective appear with equal frequency), we use TextBlob's \n",
    "#### scorer. Example) Ranking 'good food', .great food' and 'fresh food' to choose which is the msot appropriate <noun, adj> \n",
    "#### pair to be chosen"
   ]
  },
  {
   "cell_type": "code",
   "execution_count": 33,
   "metadata": {},
   "outputs": [],
   "source": [
    "outdict = []\n",
    "for i in fdict.keys():\n",
    "    indict = []\n",
    "    for j in fdict[i]:\n",
    "        string1 = j + \" \" + i\n",
    "        indict.append(string1)\n",
    "    outdict.append(indict)"
   ]
  },
  {
   "cell_type": "code",
   "execution_count": 34,
   "metadata": {},
   "outputs": [],
   "source": [
    "# Using TextBlob to get the sentiment and the polarity of the phrase \n",
    "\n",
    "polArr = []\n",
    "for i in range(len(outdict)):\n",
    "    curPol = []\n",
    "    for j in range(len(outdict[i])):\n",
    "        curPol.append(TextBlob(outdict[i][j]).sentiment.polarity)\n",
    "    polArr.append(curPol)"
   ]
  },
  {
   "cell_type": "code",
   "execution_count": 35,
   "metadata": {},
   "outputs": [
    {
     "data": {
      "text/plain": [
       "[[0.7, 0.8],\n",
       " [0.8],\n",
       " [0.7],\n",
       " [0.1],\n",
       " [0.8],\n",
       " [0.3, 0.7],\n",
       " [0.7],\n",
       " [0.25],\n",
       " [-0.3],\n",
       " [-0.3],\n",
       " [-0.75],\n",
       " [0.0, 0.6],\n",
       " [0.375],\n",
       " [0.5],\n",
       " [0.0],\n",
       " [0.7],\n",
       " [0.7]]"
      ]
     },
     "execution_count": 35,
     "metadata": {},
     "output_type": "execute_result"
    }
   ],
   "source": [
    "#output of the polarities of each (noun, adjective) phrase for each unique noun\n",
    "\n",
    "polArr"
   ]
  }
 ],
 "metadata": {
  "kernelspec": {
   "display_name": "Python 3",
   "language": "python",
   "name": "python3"
  },
  "language_info": {
   "codemirror_mode": {
    "name": "ipython",
    "version": 3
   },
   "file_extension": ".py",
   "mimetype": "text/x-python",
   "name": "python",
   "nbconvert_exporter": "python",
   "pygments_lexer": "ipython3",
   "version": "3.7.6"
  }
 },
 "nbformat": 4,
 "nbformat_minor": 4
}