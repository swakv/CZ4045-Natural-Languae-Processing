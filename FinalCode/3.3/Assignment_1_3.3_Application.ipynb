{
 "cells": [
  {
   "cell_type": "markdown",
   "metadata": {},
   "source": [
    "## 3.3 Application"
   ]
  },
  {
   "cell_type": "markdown",
   "metadata": {},
   "source": [
    "#### Importing necessary libraries"
   ]
  },
  {
   "cell_type": "code",
   "execution_count": 1,
   "metadata": {},
   "outputs": [
    {
     "data": {
      "text/html": [
       "        <script type=\"text/javascript\">\n",
       "        window.PlotlyConfig = {MathJaxConfig: 'local'};\n",
       "        if (window.MathJax) {MathJax.Hub.Config({SVG: {font: \"STIX-Web\"}});}\n",
       "        if (typeof require !== 'undefined') {\n",
       "        require.undef(\"plotly\");\n",
       "        requirejs.config({\n",
       "            paths: {\n",
       "                'plotly': ['https://cdn.plot.ly/plotly-latest.min']\n",
       "            }\n",
       "        });\n",
       "        require(['plotly'], function(Plotly) {\n",
       "            window._Plotly = Plotly;\n",
       "        });\n",
       "        }\n",
       "        </script>\n",
       "        "
      ]
     },
     "metadata": {},
     "output_type": "display_data"
    }
   ],
   "source": [
    "import numpy as np\n",
    "from scipy import spatial\n",
    "import matplotlib.pyplot as plt\n",
    "import pandas as pd\n",
    "from textblob import TextBlob\n",
    "from textblob.sentiments import NaiveBayesAnalyzer\n",
    "import csv\n",
    "import plotly.graph_objs as go  \n",
    "from sklearn.feature_extraction.text import CountVectorizer\n",
    "import chart_studio.plotly as py\n",
    "from wordcloud import WordCloud, STOPWORDS, ImageColorGenerator\n",
    "# Cufflinks connects Plotly with pandas to produce the interactive data visualizations.\n",
    "import cufflinks as cf\n",
    "cf.go_offline()\n",
    "cf.set_config_file(offline=False, world_readable=True)"
   ]
  },
  {
   "cell_type": "markdown",
   "metadata": {},
   "source": [
    "#### The reviews collected for 3.2 are stored in a csv file after performing co-referencing on them"
   ]
  },
  {
   "cell_type": "code",
   "execution_count": 2,
   "metadata": {
    "tags": []
   },
   "outputs": [
    {
     "data": {
      "text/html": [
       "<div>\n",
       "<style scoped>\n",
       "    .dataframe tbody tr th:only-of-type {\n",
       "        vertical-align: middle;\n",
       "    }\n",
       "\n",
       "    .dataframe tbody tr th {\n",
       "        vertical-align: top;\n",
       "    }\n",
       "\n",
       "    .dataframe thead th {\n",
       "        text-align: right;\n",
       "    }\n",
       "</style>\n",
       "<table border=\"1\" class=\"dataframe\">\n",
       "  <thead>\n",
       "    <tr style=\"text-align: right;\">\n",
       "      <th></th>\n",
       "      <th>resolved</th>\n",
       "    </tr>\n",
       "  </thead>\n",
       "  <tbody>\n",
       "    <tr>\n",
       "      <th>0</th>\n",
       "      <td>Visit:  Weekend Brunch, Saturday, Nov. 14, 201...</td>\n",
       "    </tr>\n",
       "    <tr>\n",
       "      <th>1</th>\n",
       "      <td>The view is great. The view is overlooking the...</td>\n",
       "    </tr>\n",
       "    <tr>\n",
       "      <th>2</th>\n",
       "      <td>First time visitor this past Sunday.  I took m...</td>\n",
       "    </tr>\n",
       "    <tr>\n",
       "      <th>3</th>\n",
       "      <td>The Good:\\nexcellent tasting food\\nhealthy cho...</td>\n",
       "    </tr>\n",
       "    <tr>\n",
       "      <th>4</th>\n",
       "      <td>One of the best museum Cafes around! My family...</td>\n",
       "    </tr>\n",
       "    <tr>\n",
       "      <th>5</th>\n",
       "      <td>The restaurant did have a positive vibe. one o...</td>\n",
       "    </tr>\n",
       "    <tr>\n",
       "      <th>6</th>\n",
       "      <td>Love this place. One of our secret \"locals\" sp...</td>\n",
       "    </tr>\n",
       "    <tr>\n",
       "      <th>7</th>\n",
       "      <td>I've been up here about 5 times now and the la...</td>\n",
       "    </tr>\n",
       "    <tr>\n",
       "      <th>8</th>\n",
       "      <td>Talk about a hidden gem! My friend and I came ...</td>\n",
       "    </tr>\n",
       "    <tr>\n",
       "      <th>9</th>\n",
       "      <td>Love this place \\nFood is great\\nLove the grea...</td>\n",
       "    </tr>\n",
       "    <tr>\n",
       "      <th>10</th>\n",
       "      <td>I absolutely love the ambiance. My kids love h...</td>\n",
       "    </tr>\n",
       "    <tr>\n",
       "      <th>11</th>\n",
       "      <td>Great Thursday evening happy hour, with live m...</td>\n",
       "    </tr>\n",
       "    <tr>\n",
       "      <th>12</th>\n",
       "      <td>I love Divine Cafe. \\n\\nThe prices are expensi...</td>\n",
       "    </tr>\n",
       "    <tr>\n",
       "      <th>13</th>\n",
       "      <td>Best snack ever! Perfect for me and my nephew...</td>\n",
       "    </tr>\n",
       "    <tr>\n",
       "      <th>14</th>\n",
       "      <td>I love taking the kids and our visitors to the...</td>\n",
       "    </tr>\n",
       "    <tr>\n",
       "      <th>15</th>\n",
       "      <td>Great spot for lunch. \\nGreat view of the stri...</td>\n",
       "    </tr>\n",
       "    <tr>\n",
       "      <th>16</th>\n",
       "      <td>New name and menu and improved food.  Checked ...</td>\n",
       "    </tr>\n",
       "    <tr>\n",
       "      <th>17</th>\n",
       "      <td>ABSOLETELY love the food here. Haven't ordered...</td>\n",
       "    </tr>\n",
       "    <tr>\n",
       "      <th>18</th>\n",
       "      <td>Divine Café is one of Vegas's best kept secret...</td>\n",
       "    </tr>\n",
       "    <tr>\n",
       "      <th>19</th>\n",
       "      <td>The food was good. but the service was excelle...</td>\n",
       "    </tr>\n",
       "    <tr>\n",
       "      <th>20</th>\n",
       "      <td>excellent service, can't beat the HH prices, ...</td>\n",
       "    </tr>\n",
       "    <tr>\n",
       "      <th>21</th>\n",
       "      <td>The springs cafe has changed. New name and new...</td>\n",
       "    </tr>\n",
       "    <tr>\n",
       "      <th>22</th>\n",
       "      <td>The menu was disappointing.\\nWe are not a fan ...</td>\n",
       "    </tr>\n",
       "    <tr>\n",
       "      <th>23</th>\n",
       "      <td>Ordered lunch here before exploring PS - prese...</td>\n",
       "    </tr>\n",
       "    <tr>\n",
       "      <th>24</th>\n",
       "      <td>A Monte Cristo is by God a sandwich AND A Mont...</td>\n",
       "    </tr>\n",
       "    <tr>\n",
       "      <th>25</th>\n",
       "      <td>You can tell all the food was prepared the day...</td>\n",
       "    </tr>\n",
       "    <tr>\n",
       "      <th>26</th>\n",
       "      <td>My little LOVES the kids Mac and cheese. I've ...</td>\n",
       "    </tr>\n",
       "    <tr>\n",
       "      <th>27</th>\n",
       "      <td>We love this café! It's We second time here in...</td>\n",
       "    </tr>\n",
       "    <tr>\n",
       "      <th>28</th>\n",
       "      <td>Great view, great food, great prices and close...</td>\n",
       "    </tr>\n",
       "    <tr>\n",
       "      <th>29</th>\n",
       "      <td>The Springs Cafe has excellent food for a grea...</td>\n",
       "    </tr>\n",
       "  </tbody>\n",
       "</table>\n",
       "</div>"
      ],
      "text/plain": [
       "                                             resolved\n",
       "0   Visit:  Weekend Brunch, Saturday, Nov. 14, 201...\n",
       "1   The view is great. The view is overlooking the...\n",
       "2   First time visitor this past Sunday.  I took m...\n",
       "3   The Good:\\nexcellent tasting food\\nhealthy cho...\n",
       "4   One of the best museum Cafes around! My family...\n",
       "5   The restaurant did have a positive vibe. one o...\n",
       "6   Love this place. One of our secret \"locals\" sp...\n",
       "7   I've been up here about 5 times now and the la...\n",
       "8   Talk about a hidden gem! My friend and I came ...\n",
       "9   Love this place \\nFood is great\\nLove the grea...\n",
       "10  I absolutely love the ambiance. My kids love h...\n",
       "11  Great Thursday evening happy hour, with live m...\n",
       "12  I love Divine Cafe. \\n\\nThe prices are expensi...\n",
       "13   Best snack ever! Perfect for me and my nephew...\n",
       "14  I love taking the kids and our visitors to the...\n",
       "15  Great spot for lunch. \\nGreat view of the stri...\n",
       "16  New name and menu and improved food.  Checked ...\n",
       "17  ABSOLETELY love the food here. Haven't ordered...\n",
       "18  Divine Café is one of Vegas's best kept secret...\n",
       "19  The food was good. but the service was excelle...\n",
       "20   excellent service, can't beat the HH prices, ...\n",
       "21  The springs cafe has changed. New name and new...\n",
       "22  The menu was disappointing.\\nWe are not a fan ...\n",
       "23  Ordered lunch here before exploring PS - prese...\n",
       "24  A Monte Cristo is by God a sandwich AND A Mont...\n",
       "25  You can tell all the food was prepared the day...\n",
       "26  My little LOVES the kids Mac and cheese. I've ...\n",
       "27  We love this café! It's We second time here in...\n",
       "28  Great view, great food, great prices and close...\n",
       "29  The Springs Cafe has excellent food for a grea..."
      ]
     },
     "execution_count": 2,
     "metadata": {},
     "output_type": "execute_result"
    }
   ],
   "source": [
    "df = pd.read_csv('resolved_data.csv')\n",
    "df = df.iloc[:, [1]]\n",
    "df = pd.DataFrame(df)\n",
    "# df.rename(columns = {0:'text'}, inplace = True) \n",
    "text_doc = ' '.join(df.resolved)\n",
    "df"
   ]
  },
  {
   "cell_type": "markdown",
   "metadata": {},
   "source": [
    "#### The Sentiment of each review is calculated using TextBlob. Based on the polarity, we can determine whether it is a positive text or negative or neutral. For TextBlog, if the polarity is >0, it is considered positive, <0 -is considered negative and == 0 is considered neutral."
   ]
  },
  {
   "cell_type": "markdown",
   "metadata": {},
   "source": [
    "#### The Length and Word Count of each review is also obtained for further analysis"
   ]
  },
  {
   "cell_type": "code",
   "execution_count": 15,
   "metadata": {},
   "outputs": [
    {
     "data": {
      "text/html": [
       "<div>\n",
       "<style scoped>\n",
       "    .dataframe tbody tr th:only-of-type {\n",
       "        vertical-align: middle;\n",
       "    }\n",
       "\n",
       "    .dataframe tbody tr th {\n",
       "        vertical-align: top;\n",
       "    }\n",
       "\n",
       "    .dataframe thead th {\n",
       "        text-align: right;\n",
       "    }\n",
       "</style>\n",
       "<table border=\"1\" class=\"dataframe\">\n",
       "  <thead>\n",
       "    <tr style=\"text-align: right;\">\n",
       "      <th></th>\n",
       "      <th>resolved</th>\n",
       "      <th>polarity</th>\n",
       "      <th>len</th>\n",
       "      <th>word_count</th>\n",
       "    </tr>\n",
       "  </thead>\n",
       "  <tbody>\n",
       "    <tr>\n",
       "      <th>0</th>\n",
       "      <td>Visit:  Weekend Brunch, Saturday, Nov. 14, 201...</td>\n",
       "      <td>0.374058</td>\n",
       "      <td>919</td>\n",
       "      <td>163</td>\n",
       "    </tr>\n",
       "    <tr>\n",
       "      <th>1</th>\n",
       "      <td>The view is great. The view is overlooking the...</td>\n",
       "      <td>0.370833</td>\n",
       "      <td>309</td>\n",
       "      <td>57</td>\n",
       "    </tr>\n",
       "    <tr>\n",
       "      <th>2</th>\n",
       "      <td>First time visitor this past Sunday.  I took m...</td>\n",
       "      <td>-0.232143</td>\n",
       "      <td>606</td>\n",
       "      <td>113</td>\n",
       "    </tr>\n",
       "    <tr>\n",
       "      <th>3</th>\n",
       "      <td>The Good:\\nexcellent tasting food\\nhealthy cho...</td>\n",
       "      <td>0.188290</td>\n",
       "      <td>423</td>\n",
       "      <td>66</td>\n",
       "    </tr>\n",
       "    <tr>\n",
       "      <th>4</th>\n",
       "      <td>One of the best museum Cafes around! My family...</td>\n",
       "      <td>0.258400</td>\n",
       "      <td>787</td>\n",
       "      <td>140</td>\n",
       "    </tr>\n",
       "    <tr>\n",
       "      <th>5</th>\n",
       "      <td>The restaurant did have a positive vibe. one o...</td>\n",
       "      <td>0.550884</td>\n",
       "      <td>463</td>\n",
       "      <td>83</td>\n",
       "    </tr>\n",
       "    <tr>\n",
       "      <th>6</th>\n",
       "      <td>Love this place. One of our secret \"locals\" sp...</td>\n",
       "      <td>0.261354</td>\n",
       "      <td>697</td>\n",
       "      <td>124</td>\n",
       "    </tr>\n",
       "    <tr>\n",
       "      <th>7</th>\n",
       "      <td>I've been up here about 5 times now and the la...</td>\n",
       "      <td>0.400000</td>\n",
       "      <td>499</td>\n",
       "      <td>88</td>\n",
       "    </tr>\n",
       "    <tr>\n",
       "      <th>8</th>\n",
       "      <td>Talk about a hidden gem! My friend and I came ...</td>\n",
       "      <td>0.353855</td>\n",
       "      <td>468</td>\n",
       "      <td>84</td>\n",
       "    </tr>\n",
       "    <tr>\n",
       "      <th>9</th>\n",
       "      <td>Love this place \\nFood is great\\nLove the grea...</td>\n",
       "      <td>0.639286</td>\n",
       "      <td>165</td>\n",
       "      <td>30</td>\n",
       "    </tr>\n",
       "    <tr>\n",
       "      <th>10</th>\n",
       "      <td>I absolutely love the ambiance. My kids love h...</td>\n",
       "      <td>0.497500</td>\n",
       "      <td>396</td>\n",
       "      <td>71</td>\n",
       "    </tr>\n",
       "    <tr>\n",
       "      <th>11</th>\n",
       "      <td>Great Thursday evening happy hour, with live m...</td>\n",
       "      <td>0.662338</td>\n",
       "      <td>263</td>\n",
       "      <td>43</td>\n",
       "    </tr>\n",
       "    <tr>\n",
       "      <th>12</th>\n",
       "      <td>I love Divine Cafe. \\n\\nThe prices are expensi...</td>\n",
       "      <td>0.358974</td>\n",
       "      <td>638</td>\n",
       "      <td>119</td>\n",
       "    </tr>\n",
       "    <tr>\n",
       "      <th>13</th>\n",
       "      <td>Best snack ever! Perfect for me and my nephew...</td>\n",
       "      <td>0.608333</td>\n",
       "      <td>402</td>\n",
       "      <td>69</td>\n",
       "    </tr>\n",
       "    <tr>\n",
       "      <th>14</th>\n",
       "      <td>I love taking the kids and our visitors to the...</td>\n",
       "      <td>0.280247</td>\n",
       "      <td>976</td>\n",
       "      <td>181</td>\n",
       "    </tr>\n",
       "    <tr>\n",
       "      <th>15</th>\n",
       "      <td>Great spot for lunch. \\nGreat view of the stri...</td>\n",
       "      <td>0.615000</td>\n",
       "      <td>222</td>\n",
       "      <td>38</td>\n",
       "    </tr>\n",
       "    <tr>\n",
       "      <th>16</th>\n",
       "      <td>New name and menu and improved food.  Checked ...</td>\n",
       "      <td>0.308038</td>\n",
       "      <td>955</td>\n",
       "      <td>180</td>\n",
       "    </tr>\n",
       "    <tr>\n",
       "      <th>17</th>\n",
       "      <td>ABSOLETELY love the food here. Haven't ordered...</td>\n",
       "      <td>0.393803</td>\n",
       "      <td>556</td>\n",
       "      <td>103</td>\n",
       "    </tr>\n",
       "    <tr>\n",
       "      <th>18</th>\n",
       "      <td>Divine Café is one of Vegas's best kept secret...</td>\n",
       "      <td>0.475260</td>\n",
       "      <td>978</td>\n",
       "      <td>163</td>\n",
       "    </tr>\n",
       "    <tr>\n",
       "      <th>19</th>\n",
       "      <td>The food was good. but the service was excelle...</td>\n",
       "      <td>0.416667</td>\n",
       "      <td>379</td>\n",
       "      <td>71</td>\n",
       "    </tr>\n",
       "    <tr>\n",
       "      <th>20</th>\n",
       "      <td>excellent service, can't beat the HH prices, ...</td>\n",
       "      <td>0.542929</td>\n",
       "      <td>305</td>\n",
       "      <td>53</td>\n",
       "    </tr>\n",
       "    <tr>\n",
       "      <th>21</th>\n",
       "      <td>The springs cafe has changed. New name and new...</td>\n",
       "      <td>-0.029983</td>\n",
       "      <td>545</td>\n",
       "      <td>105</td>\n",
       "    </tr>\n",
       "    <tr>\n",
       "      <th>22</th>\n",
       "      <td>The menu was disappointing.\\nWe are not a fan ...</td>\n",
       "      <td>0.051159</td>\n",
       "      <td>885</td>\n",
       "      <td>160</td>\n",
       "    </tr>\n",
       "    <tr>\n",
       "      <th>23</th>\n",
       "      <td>Ordered lunch here before exploring PS - prese...</td>\n",
       "      <td>0.141667</td>\n",
       "      <td>165</td>\n",
       "      <td>30</td>\n",
       "    </tr>\n",
       "    <tr>\n",
       "      <th>24</th>\n",
       "      <td>A Monte Cristo is by God a sandwich AND A Mont...</td>\n",
       "      <td>0.140000</td>\n",
       "      <td>290</td>\n",
       "      <td>59</td>\n",
       "    </tr>\n",
       "    <tr>\n",
       "      <th>25</th>\n",
       "      <td>You can tell all the food was prepared the day...</td>\n",
       "      <td>-0.201429</td>\n",
       "      <td>457</td>\n",
       "      <td>82</td>\n",
       "    </tr>\n",
       "    <tr>\n",
       "      <th>26</th>\n",
       "      <td>My little LOVES the kids Mac and cheese. I've ...</td>\n",
       "      <td>0.108144</td>\n",
       "      <td>173</td>\n",
       "      <td>34</td>\n",
       "    </tr>\n",
       "    <tr>\n",
       "      <th>27</th>\n",
       "      <td>We love this café! It's We second time here in...</td>\n",
       "      <td>0.372619</td>\n",
       "      <td>193</td>\n",
       "      <td>35</td>\n",
       "    </tr>\n",
       "    <tr>\n",
       "      <th>28</th>\n",
       "      <td>Great view, great food, great prices and close...</td>\n",
       "      <td>0.507273</td>\n",
       "      <td>116</td>\n",
       "      <td>21</td>\n",
       "    </tr>\n",
       "    <tr>\n",
       "      <th>29</th>\n",
       "      <td>The Springs Cafe has excellent food for a grea...</td>\n",
       "      <td>0.740000</td>\n",
       "      <td>211</td>\n",
       "      <td>42</td>\n",
       "    </tr>\n",
       "  </tbody>\n",
       "</table>\n",
       "</div>"
      ],
      "text/plain": [
       "                                             resolved  polarity  len  \\\n",
       "0   Visit:  Weekend Brunch, Saturday, Nov. 14, 201...  0.374058  919   \n",
       "1   The view is great. The view is overlooking the...  0.370833  309   \n",
       "2   First time visitor this past Sunday.  I took m... -0.232143  606   \n",
       "3   The Good:\\nexcellent tasting food\\nhealthy cho...  0.188290  423   \n",
       "4   One of the best museum Cafes around! My family...  0.258400  787   \n",
       "5   The restaurant did have a positive vibe. one o...  0.550884  463   \n",
       "6   Love this place. One of our secret \"locals\" sp...  0.261354  697   \n",
       "7   I've been up here about 5 times now and the la...  0.400000  499   \n",
       "8   Talk about a hidden gem! My friend and I came ...  0.353855  468   \n",
       "9   Love this place \\nFood is great\\nLove the grea...  0.639286  165   \n",
       "10  I absolutely love the ambiance. My kids love h...  0.497500  396   \n",
       "11  Great Thursday evening happy hour, with live m...  0.662338  263   \n",
       "12  I love Divine Cafe. \\n\\nThe prices are expensi...  0.358974  638   \n",
       "13   Best snack ever! Perfect for me and my nephew...  0.608333  402   \n",
       "14  I love taking the kids and our visitors to the...  0.280247  976   \n",
       "15  Great spot for lunch. \\nGreat view of the stri...  0.615000  222   \n",
       "16  New name and menu and improved food.  Checked ...  0.308038  955   \n",
       "17  ABSOLETELY love the food here. Haven't ordered...  0.393803  556   \n",
       "18  Divine Café is one of Vegas's best kept secret...  0.475260  978   \n",
       "19  The food was good. but the service was excelle...  0.416667  379   \n",
       "20   excellent service, can't beat the HH prices, ...  0.542929  305   \n",
       "21  The springs cafe has changed. New name and new... -0.029983  545   \n",
       "22  The menu was disappointing.\\nWe are not a fan ...  0.051159  885   \n",
       "23  Ordered lunch here before exploring PS - prese...  0.141667  165   \n",
       "24  A Monte Cristo is by God a sandwich AND A Mont...  0.140000  290   \n",
       "25  You can tell all the food was prepared the day... -0.201429  457   \n",
       "26  My little LOVES the kids Mac and cheese. I've ...  0.108144  173   \n",
       "27  We love this café! It's We second time here in...  0.372619  193   \n",
       "28  Great view, great food, great prices and close...  0.507273  116   \n",
       "29  The Springs Cafe has excellent food for a grea...  0.740000  211   \n",
       "\n",
       "    word_count  \n",
       "0          163  \n",
       "1           57  \n",
       "2          113  \n",
       "3           66  \n",
       "4          140  \n",
       "5           83  \n",
       "6          124  \n",
       "7           88  \n",
       "8           84  \n",
       "9           30  \n",
       "10          71  \n",
       "11          43  \n",
       "12         119  \n",
       "13          69  \n",
       "14         181  \n",
       "15          38  \n",
       "16         180  \n",
       "17         103  \n",
       "18         163  \n",
       "19          71  \n",
       "20          53  \n",
       "21         105  \n",
       "22         160  \n",
       "23          30  \n",
       "24          59  \n",
       "25          82  \n",
       "26          34  \n",
       "27          35  \n",
       "28          21  \n",
       "29          42  "
      ]
     },
     "execution_count": 15,
     "metadata": {},
     "output_type": "execute_result"
    }
   ],
   "source": [
    "df['polarity'] = df['resolved'].map(lambda text: TextBlob(text).sentiment.polarity)\n",
    "df['len'] = df['resolved'].astype(str).apply(len)\n",
    "df['word_count'] = df['resolved'].apply(lambda x: len(str(x).split()))\n",
    "\n",
    "df"
   ]
  },
  {
   "cell_type": "markdown",
   "metadata": {},
   "source": [
    "#### The distribution of review sentiment polarity score"
   ]
  },
  {
   "cell_type": "code",
   "execution_count": 16,
   "metadata": {},
   "outputs": [
    {
     "data": {
      "application/vnd.plotly.v1+json": {
       "config": {
        "linkText": "Export to plot.ly",
        "plotlyServerURL": "https://plot.ly",
        "showLink": true
       },
       "data": [
        {
         "histfunc": "count",
         "histnorm": "",
         "marker": {
          "color": "rgba(255, 153, 51, 1.0)",
          "line": {
           "color": "#000000",
           "width": 1.3
          }
         },
         "name": "polarity",
         "nbinsx": 12,
         "opacity": 0.8,
         "orientation": "v",
         "type": "histogram",
         "x": [
          0.37405753968253963,
          0.37083333333333335,
          -0.23214285714285715,
          0.18829040404040406,
          0.25839999999999996,
          0.5508838383838384,
          0.26135416666666667,
          0.4,
          0.35385472370766496,
          0.6392857142857143,
          0.49749999999999994,
          0.6623376623376622,
          0.3589743589743589,
          0.6083333333333333,
          0.2802469135802469,
          0.615,
          0.30803817394726485,
          0.3938034188034188,
          0.4752604166666667,
          0.41666666666666674,
          0.5429292929292929,
          -0.029982517482517474,
          0.05115864527629233,
          0.14166666666666666,
          0.14,
          -0.20142857142857137,
          0.1081439393939394,
          0.3726190476190476,
          0.5072727272727273,
          0.74
         ]
        }
       ],
       "layout": {
        "barmode": "overlay",
        "template": {
         "data": {
          "bar": [
           {
            "error_x": {
             "color": "#2a3f5f"
            },
            "error_y": {
             "color": "#2a3f5f"
            },
            "marker": {
             "line": {
              "color": "#E5ECF6",
              "width": 0.5
             }
            },
            "type": "bar"
           }
          ],
          "barpolar": [
           {
            "marker": {
             "line": {
              "color": "#E5ECF6",
              "width": 0.5
             }
            },
            "type": "barpolar"
           }
          ],
          "carpet": [
           {
            "aaxis": {
             "endlinecolor": "#2a3f5f",
             "gridcolor": "white",
             "linecolor": "white",
             "minorgridcolor": "white",
             "startlinecolor": "#2a3f5f"
            },
            "baxis": {
             "endlinecolor": "#2a3f5f",
             "gridcolor": "white",
             "linecolor": "white",
             "minorgridcolor": "white",
             "startlinecolor": "#2a3f5f"
            },
            "type": "carpet"
           }
          ],
          "choropleth": [
           {
            "colorbar": {
             "outlinewidth": 0,
             "ticks": ""
            },
            "type": "choropleth"
           }
          ],
          "contour": [
           {
            "colorbar": {
             "outlinewidth": 0,
             "ticks": ""
            },
            "colorscale": [
             [
              0,
              "#0d0887"
             ],
             [
              0.1111111111111111,
              "#46039f"
             ],
             [
              0.2222222222222222,
              "#7201a8"
             ],
             [
              0.3333333333333333,
              "#9c179e"
             ],
             [
              0.4444444444444444,
              "#bd3786"
             ],
             [
              0.5555555555555556,
              "#d8576b"
             ],
             [
              0.6666666666666666,
              "#ed7953"
             ],
             [
              0.7777777777777778,
              "#fb9f3a"
             ],
             [
              0.8888888888888888,
              "#fdca26"
             ],
             [
              1,
              "#f0f921"
             ]
            ],
            "type": "contour"
           }
          ],
          "contourcarpet": [
           {
            "colorbar": {
             "outlinewidth": 0,
             "ticks": ""
            },
            "type": "contourcarpet"
           }
          ],
          "heatmap": [
           {
            "colorbar": {
             "outlinewidth": 0,
             "ticks": ""
            },
            "colorscale": [
             [
              0,
              "#0d0887"
             ],
             [
              0.1111111111111111,
              "#46039f"
             ],
             [
              0.2222222222222222,
              "#7201a8"
             ],
             [
              0.3333333333333333,
              "#9c179e"
             ],
             [
              0.4444444444444444,
              "#bd3786"
             ],
             [
              0.5555555555555556,
              "#d8576b"
             ],
             [
              0.6666666666666666,
              "#ed7953"
             ],
             [
              0.7777777777777778,
              "#fb9f3a"
             ],
             [
              0.8888888888888888,
              "#fdca26"
             ],
             [
              1,
              "#f0f921"
             ]
            ],
            "type": "heatmap"
           }
          ],
          "heatmapgl": [
           {
            "colorbar": {
             "outlinewidth": 0,
             "ticks": ""
            },
            "colorscale": [
             [
              0,
              "#0d0887"
             ],
             [
              0.1111111111111111,
              "#46039f"
             ],
             [
              0.2222222222222222,
              "#7201a8"
             ],
             [
              0.3333333333333333,
              "#9c179e"
             ],
             [
              0.4444444444444444,
              "#bd3786"
             ],
             [
              0.5555555555555556,
              "#d8576b"
             ],
             [
              0.6666666666666666,
              "#ed7953"
             ],
             [
              0.7777777777777778,
              "#fb9f3a"
             ],
             [
              0.8888888888888888,
              "#fdca26"
             ],
             [
              1,
              "#f0f921"
             ]
            ],
            "type": "heatmapgl"
           }
          ],
          "histogram": [
           {
            "marker": {
             "colorbar": {
              "outlinewidth": 0,
              "ticks": ""
             }
            },
            "type": "histogram"
           }
          ],
          "histogram2d": [
           {
            "colorbar": {
             "outlinewidth": 0,
             "ticks": ""
            },
            "colorscale": [
             [
              0,
              "#0d0887"
             ],
             [
              0.1111111111111111,
              "#46039f"
             ],
             [
              0.2222222222222222,
              "#7201a8"
             ],
             [
              0.3333333333333333,
              "#9c179e"
             ],
             [
              0.4444444444444444,
              "#bd3786"
             ],
             [
              0.5555555555555556,
              "#d8576b"
             ],
             [
              0.6666666666666666,
              "#ed7953"
             ],
             [
              0.7777777777777778,
              "#fb9f3a"
             ],
             [
              0.8888888888888888,
              "#fdca26"
             ],
             [
              1,
              "#f0f921"
             ]
            ],
            "type": "histogram2d"
           }
          ],
          "histogram2dcontour": [
           {
            "colorbar": {
             "outlinewidth": 0,
             "ticks": ""
            },
            "colorscale": [
             [
              0,
              "#0d0887"
             ],
             [
              0.1111111111111111,
              "#46039f"
             ],
             [
              0.2222222222222222,
              "#7201a8"
             ],
             [
              0.3333333333333333,
              "#9c179e"
             ],
             [
              0.4444444444444444,
              "#bd3786"
             ],
             [
              0.5555555555555556,
              "#d8576b"
             ],
             [
              0.6666666666666666,
              "#ed7953"
             ],
             [
              0.7777777777777778,
              "#fb9f3a"
             ],
             [
              0.8888888888888888,
              "#fdca26"
             ],
             [
              1,
              "#f0f921"
             ]
            ],
            "type": "histogram2dcontour"
           }
          ],
          "mesh3d": [
           {
            "colorbar": {
             "outlinewidth": 0,
             "ticks": ""
            },
            "type": "mesh3d"
           }
          ],
          "parcoords": [
           {
            "line": {
             "colorbar": {
              "outlinewidth": 0,
              "ticks": ""
             }
            },
            "type": "parcoords"
           }
          ],
          "pie": [
           {
            "automargin": true,
            "type": "pie"
           }
          ],
          "scatter": [
           {
            "marker": {
             "colorbar": {
              "outlinewidth": 0,
              "ticks": ""
             }
            },
            "type": "scatter"
           }
          ],
          "scatter3d": [
           {
            "line": {
             "colorbar": {
              "outlinewidth": 0,
              "ticks": ""
             }
            },
            "marker": {
             "colorbar": {
              "outlinewidth": 0,
              "ticks": ""
             }
            },
            "type": "scatter3d"
           }
          ],
          "scattercarpet": [
           {
            "marker": {
             "colorbar": {
              "outlinewidth": 0,
              "ticks": ""
             }
            },
            "type": "scattercarpet"
           }
          ],
          "scattergeo": [
           {
            "marker": {
             "colorbar": {
              "outlinewidth": 0,
              "ticks": ""
             }
            },
            "type": "scattergeo"
           }
          ],
          "scattergl": [
           {
            "marker": {
             "colorbar": {
              "outlinewidth": 0,
              "ticks": ""
             }
            },
            "type": "scattergl"
           }
          ],
          "scattermapbox": [
           {
            "marker": {
             "colorbar": {
              "outlinewidth": 0,
              "ticks": ""
             }
            },
            "type": "scattermapbox"
           }
          ],
          "scatterpolar": [
           {
            "marker": {
             "colorbar": {
              "outlinewidth": 0,
              "ticks": ""
             }
            },
            "type": "scatterpolar"
           }
          ],
          "scatterpolargl": [
           {
            "marker": {
             "colorbar": {
              "outlinewidth": 0,
              "ticks": ""
             }
            },
            "type": "scatterpolargl"
           }
          ],
          "scatterternary": [
           {
            "marker": {
             "colorbar": {
              "outlinewidth": 0,
              "ticks": ""
             }
            },
            "type": "scatterternary"
           }
          ],
          "surface": [
           {
            "colorbar": {
             "outlinewidth": 0,
             "ticks": ""
            },
            "colorscale": [
             [
              0,
              "#0d0887"
             ],
             [
              0.1111111111111111,
              "#46039f"
             ],
             [
              0.2222222222222222,
              "#7201a8"
             ],
             [
              0.3333333333333333,
              "#9c179e"
             ],
             [
              0.4444444444444444,
              "#bd3786"
             ],
             [
              0.5555555555555556,
              "#d8576b"
             ],
             [
              0.6666666666666666,
              "#ed7953"
             ],
             [
              0.7777777777777778,
              "#fb9f3a"
             ],
             [
              0.8888888888888888,
              "#fdca26"
             ],
             [
              1,
              "#f0f921"
             ]
            ],
            "type": "surface"
           }
          ],
          "table": [
           {
            "cells": {
             "fill": {
              "color": "#EBF0F8"
             },
             "line": {
              "color": "white"
             }
            },
            "header": {
             "fill": {
              "color": "#C8D4E3"
             },
             "line": {
              "color": "white"
             }
            },
            "type": "table"
           }
          ]
         },
         "layout": {
          "annotationdefaults": {
           "arrowcolor": "#2a3f5f",
           "arrowhead": 0,
           "arrowwidth": 1
          },
          "coloraxis": {
           "colorbar": {
            "outlinewidth": 0,
            "ticks": ""
           }
          },
          "colorscale": {
           "diverging": [
            [
             0,
             "#8e0152"
            ],
            [
             0.1,
             "#c51b7d"
            ],
            [
             0.2,
             "#de77ae"
            ],
            [
             0.3,
             "#f1b6da"
            ],
            [
             0.4,
             "#fde0ef"
            ],
            [
             0.5,
             "#f7f7f7"
            ],
            [
             0.6,
             "#e6f5d0"
            ],
            [
             0.7,
             "#b8e186"
            ],
            [
             0.8,
             "#7fbc41"
            ],
            [
             0.9,
             "#4d9221"
            ],
            [
             1,
             "#276419"
            ]
           ],
           "sequential": [
            [
             0,
             "#0d0887"
            ],
            [
             0.1111111111111111,
             "#46039f"
            ],
            [
             0.2222222222222222,
             "#7201a8"
            ],
            [
             0.3333333333333333,
             "#9c179e"
            ],
            [
             0.4444444444444444,
             "#bd3786"
            ],
            [
             0.5555555555555556,
             "#d8576b"
            ],
            [
             0.6666666666666666,
             "#ed7953"
            ],
            [
             0.7777777777777778,
             "#fb9f3a"
            ],
            [
             0.8888888888888888,
             "#fdca26"
            ],
            [
             1,
             "#f0f921"
            ]
           ],
           "sequentialminus": [
            [
             0,
             "#0d0887"
            ],
            [
             0.1111111111111111,
             "#46039f"
            ],
            [
             0.2222222222222222,
             "#7201a8"
            ],
            [
             0.3333333333333333,
             "#9c179e"
            ],
            [
             0.4444444444444444,
             "#bd3786"
            ],
            [
             0.5555555555555556,
             "#d8576b"
            ],
            [
             0.6666666666666666,
             "#ed7953"
            ],
            [
             0.7777777777777778,
             "#fb9f3a"
            ],
            [
             0.8888888888888888,
             "#fdca26"
            ],
            [
             1,
             "#f0f921"
            ]
           ]
          },
          "colorway": [
           "#636efa",
           "#EF553B",
           "#00cc96",
           "#ab63fa",
           "#FFA15A",
           "#19d3f3",
           "#FF6692",
           "#B6E880",
           "#FF97FF",
           "#FECB52"
          ],
          "font": {
           "color": "#2a3f5f"
          },
          "geo": {
           "bgcolor": "white",
           "lakecolor": "white",
           "landcolor": "#E5ECF6",
           "showlakes": true,
           "showland": true,
           "subunitcolor": "white"
          },
          "hoverlabel": {
           "align": "left"
          },
          "hovermode": "closest",
          "mapbox": {
           "style": "light"
          },
          "paper_bgcolor": "white",
          "plot_bgcolor": "#E5ECF6",
          "polar": {
           "angularaxis": {
            "gridcolor": "white",
            "linecolor": "white",
            "ticks": ""
           },
           "bgcolor": "#E5ECF6",
           "radialaxis": {
            "gridcolor": "white",
            "linecolor": "white",
            "ticks": ""
           }
          },
          "scene": {
           "xaxis": {
            "backgroundcolor": "#E5ECF6",
            "gridcolor": "white",
            "gridwidth": 2,
            "linecolor": "white",
            "showbackground": true,
            "ticks": "",
            "zerolinecolor": "white"
           },
           "yaxis": {
            "backgroundcolor": "#E5ECF6",
            "gridcolor": "white",
            "gridwidth": 2,
            "linecolor": "white",
            "showbackground": true,
            "ticks": "",
            "zerolinecolor": "white"
           },
           "zaxis": {
            "backgroundcolor": "#E5ECF6",
            "gridcolor": "white",
            "gridwidth": 2,
            "linecolor": "white",
            "showbackground": true,
            "ticks": "",
            "zerolinecolor": "white"
           }
          },
          "shapedefaults": {
           "line": {
            "color": "#2a3f5f"
           }
          },
          "ternary": {
           "aaxis": {
            "gridcolor": "white",
            "linecolor": "white",
            "ticks": ""
           },
           "baxis": {
            "gridcolor": "white",
            "linecolor": "white",
            "ticks": ""
           },
           "bgcolor": "#E5ECF6",
           "caxis": {
            "gridcolor": "white",
            "linecolor": "white",
            "ticks": ""
           }
          },
          "title": {
           "x": 0.05
          },
          "xaxis": {
           "automargin": true,
           "gridcolor": "white",
           "linecolor": "white",
           "ticks": "",
           "title": {
            "standoff": 15
           },
           "zerolinecolor": "white",
           "zerolinewidth": 2
          },
          "yaxis": {
           "automargin": true,
           "gridcolor": "white",
           "linecolor": "white",
           "ticks": "",
           "title": {
            "standoff": 15
           },
           "zerolinecolor": "white",
           "zerolinewidth": 2
          }
         }
        },
        "title": {
         "text": "Frequency of Sentiment Polarity Distribution"
        },
        "xaxis": {
         "range": [
          -1,
          1
         ],
         "title": {
          "text": "polarity"
         }
        },
        "yaxis": {
         "range": [
          0,
          8
         ],
         "title": {
          "text": "count"
         }
        }
       }
      },
      "text/html": [
       "<div>                            <div id=\"de5a9f00-04eb-437b-80b6-a4162aea1a5f\" class=\"plotly-graph-div\" style=\"height:525px; width:100%;\"></div>            <script type=\"text/javascript\">                require([\"plotly\"], function(Plotly) {                    window.PLOTLYENV=window.PLOTLYENV || {};\n",
       "                    window.PLOTLYENV.BASE_URL='https://plot.ly';                                    if (document.getElementById(\"de5a9f00-04eb-437b-80b6-a4162aea1a5f\")) {                    Plotly.newPlot(                        \"de5a9f00-04eb-437b-80b6-a4162aea1a5f\",                        [{\"histfunc\": \"count\", \"histnorm\": \"\", \"marker\": {\"color\": \"rgba(255, 153, 51, 1.0)\", \"line\": {\"color\": \"#000000\", \"width\": 1.3}}, \"name\": \"polarity\", \"nbinsx\": 12, \"opacity\": 0.8, \"orientation\": \"v\", \"type\": \"histogram\", \"x\": [0.37405753968253963, 0.37083333333333335, -0.23214285714285715, 0.18829040404040406, 0.25839999999999996, 0.5508838383838384, 0.26135416666666667, 0.4, 0.35385472370766496, 0.6392857142857143, 0.49749999999999994, 0.6623376623376622, 0.3589743589743589, 0.6083333333333333, 0.2802469135802469, 0.615, 0.30803817394726485, 0.3938034188034188, 0.4752604166666667, 0.41666666666666674, 0.5429292929292929, -0.029982517482517474, 0.05115864527629233, 0.14166666666666666, 0.14, -0.20142857142857137, 0.1081439393939394, 0.3726190476190476, 0.5072727272727273, 0.74]}],                        {\"barmode\": \"overlay\", \"template\": {\"data\": {\"bar\": [{\"error_x\": {\"color\": \"#2a3f5f\"}, \"error_y\": {\"color\": \"#2a3f5f\"}, \"marker\": {\"line\": {\"color\": \"#E5ECF6\", \"width\": 0.5}}, \"type\": \"bar\"}], \"barpolar\": [{\"marker\": {\"line\": {\"color\": \"#E5ECF6\", \"width\": 0.5}}, \"type\": \"barpolar\"}], \"carpet\": [{\"aaxis\": {\"endlinecolor\": \"#2a3f5f\", \"gridcolor\": \"white\", \"linecolor\": \"white\", \"minorgridcolor\": \"white\", \"startlinecolor\": \"#2a3f5f\"}, \"baxis\": {\"endlinecolor\": \"#2a3f5f\", \"gridcolor\": \"white\", \"linecolor\": \"white\", \"minorgridcolor\": \"white\", \"startlinecolor\": \"#2a3f5f\"}, \"type\": \"carpet\"}], \"choropleth\": [{\"colorbar\": {\"outlinewidth\": 0, \"ticks\": \"\"}, \"type\": \"choropleth\"}], \"contour\": [{\"colorbar\": {\"outlinewidth\": 0, \"ticks\": \"\"}, \"colorscale\": [[0.0, \"#0d0887\"], [0.1111111111111111, \"#46039f\"], [0.2222222222222222, \"#7201a8\"], [0.3333333333333333, \"#9c179e\"], [0.4444444444444444, \"#bd3786\"], [0.5555555555555556, \"#d8576b\"], [0.6666666666666666, \"#ed7953\"], [0.7777777777777778, \"#fb9f3a\"], [0.8888888888888888, \"#fdca26\"], [1.0, \"#f0f921\"]], \"type\": \"contour\"}], \"contourcarpet\": [{\"colorbar\": {\"outlinewidth\": 0, \"ticks\": \"\"}, \"type\": \"contourcarpet\"}], \"heatmap\": [{\"colorbar\": {\"outlinewidth\": 0, \"ticks\": \"\"}, \"colorscale\": [[0.0, \"#0d0887\"], [0.1111111111111111, \"#46039f\"], [0.2222222222222222, \"#7201a8\"], [0.3333333333333333, \"#9c179e\"], [0.4444444444444444, \"#bd3786\"], [0.5555555555555556, \"#d8576b\"], [0.6666666666666666, \"#ed7953\"], [0.7777777777777778, \"#fb9f3a\"], [0.8888888888888888, \"#fdca26\"], [1.0, \"#f0f921\"]], \"type\": \"heatmap\"}], \"heatmapgl\": [{\"colorbar\": {\"outlinewidth\": 0, \"ticks\": \"\"}, \"colorscale\": [[0.0, \"#0d0887\"], [0.1111111111111111, \"#46039f\"], [0.2222222222222222, \"#7201a8\"], [0.3333333333333333, \"#9c179e\"], [0.4444444444444444, \"#bd3786\"], [0.5555555555555556, \"#d8576b\"], [0.6666666666666666, \"#ed7953\"], [0.7777777777777778, \"#fb9f3a\"], [0.8888888888888888, \"#fdca26\"], [1.0, \"#f0f921\"]], \"type\": \"heatmapgl\"}], \"histogram\": [{\"marker\": {\"colorbar\": {\"outlinewidth\": 0, \"ticks\": \"\"}}, \"type\": \"histogram\"}], \"histogram2d\": [{\"colorbar\": {\"outlinewidth\": 0, \"ticks\": \"\"}, \"colorscale\": [[0.0, \"#0d0887\"], [0.1111111111111111, \"#46039f\"], [0.2222222222222222, \"#7201a8\"], [0.3333333333333333, \"#9c179e\"], [0.4444444444444444, \"#bd3786\"], [0.5555555555555556, \"#d8576b\"], [0.6666666666666666, \"#ed7953\"], [0.7777777777777778, \"#fb9f3a\"], [0.8888888888888888, \"#fdca26\"], [1.0, \"#f0f921\"]], \"type\": \"histogram2d\"}], \"histogram2dcontour\": [{\"colorbar\": {\"outlinewidth\": 0, \"ticks\": \"\"}, \"colorscale\": [[0.0, \"#0d0887\"], [0.1111111111111111, \"#46039f\"], [0.2222222222222222, \"#7201a8\"], [0.3333333333333333, \"#9c179e\"], [0.4444444444444444, \"#bd3786\"], [0.5555555555555556, \"#d8576b\"], [0.6666666666666666, \"#ed7953\"], [0.7777777777777778, \"#fb9f3a\"], [0.8888888888888888, \"#fdca26\"], [1.0, \"#f0f921\"]], \"type\": \"histogram2dcontour\"}], \"mesh3d\": [{\"colorbar\": {\"outlinewidth\": 0, \"ticks\": \"\"}, \"type\": \"mesh3d\"}], \"parcoords\": [{\"line\": {\"colorbar\": {\"outlinewidth\": 0, \"ticks\": \"\"}}, \"type\": \"parcoords\"}], \"pie\": [{\"automargin\": true, \"type\": \"pie\"}], \"scatter\": [{\"marker\": {\"colorbar\": {\"outlinewidth\": 0, \"ticks\": \"\"}}, \"type\": \"scatter\"}], \"scatter3d\": [{\"line\": {\"colorbar\": {\"outlinewidth\": 0, \"ticks\": \"\"}}, \"marker\": {\"colorbar\": {\"outlinewidth\": 0, \"ticks\": \"\"}}, \"type\": \"scatter3d\"}], \"scattercarpet\": [{\"marker\": {\"colorbar\": {\"outlinewidth\": 0, \"ticks\": \"\"}}, \"type\": \"scattercarpet\"}], \"scattergeo\": [{\"marker\": {\"colorbar\": {\"outlinewidth\": 0, \"ticks\": \"\"}}, \"type\": \"scattergeo\"}], \"scattergl\": [{\"marker\": {\"colorbar\": {\"outlinewidth\": 0, \"ticks\": \"\"}}, \"type\": \"scattergl\"}], \"scattermapbox\": [{\"marker\": {\"colorbar\": {\"outlinewidth\": 0, \"ticks\": \"\"}}, \"type\": \"scattermapbox\"}], \"scatterpolar\": [{\"marker\": {\"colorbar\": {\"outlinewidth\": 0, \"ticks\": \"\"}}, \"type\": \"scatterpolar\"}], \"scatterpolargl\": [{\"marker\": {\"colorbar\": {\"outlinewidth\": 0, \"ticks\": \"\"}}, \"type\": \"scatterpolargl\"}], \"scatterternary\": [{\"marker\": {\"colorbar\": {\"outlinewidth\": 0, \"ticks\": \"\"}}, \"type\": \"scatterternary\"}], \"surface\": [{\"colorbar\": {\"outlinewidth\": 0, \"ticks\": \"\"}, \"colorscale\": [[0.0, \"#0d0887\"], [0.1111111111111111, \"#46039f\"], [0.2222222222222222, \"#7201a8\"], [0.3333333333333333, \"#9c179e\"], [0.4444444444444444, \"#bd3786\"], [0.5555555555555556, \"#d8576b\"], [0.6666666666666666, \"#ed7953\"], [0.7777777777777778, \"#fb9f3a\"], [0.8888888888888888, \"#fdca26\"], [1.0, \"#f0f921\"]], \"type\": \"surface\"}], \"table\": [{\"cells\": {\"fill\": {\"color\": \"#EBF0F8\"}, \"line\": {\"color\": \"white\"}}, \"header\": {\"fill\": {\"color\": \"#C8D4E3\"}, \"line\": {\"color\": \"white\"}}, \"type\": \"table\"}]}, \"layout\": {\"annotationdefaults\": {\"arrowcolor\": \"#2a3f5f\", \"arrowhead\": 0, \"arrowwidth\": 1}, \"coloraxis\": {\"colorbar\": {\"outlinewidth\": 0, \"ticks\": \"\"}}, \"colorscale\": {\"diverging\": [[0, \"#8e0152\"], [0.1, \"#c51b7d\"], [0.2, \"#de77ae\"], [0.3, \"#f1b6da\"], [0.4, \"#fde0ef\"], [0.5, \"#f7f7f7\"], [0.6, \"#e6f5d0\"], [0.7, \"#b8e186\"], [0.8, \"#7fbc41\"], [0.9, \"#4d9221\"], [1, \"#276419\"]], \"sequential\": [[0.0, \"#0d0887\"], [0.1111111111111111, \"#46039f\"], [0.2222222222222222, \"#7201a8\"], [0.3333333333333333, \"#9c179e\"], [0.4444444444444444, \"#bd3786\"], [0.5555555555555556, \"#d8576b\"], [0.6666666666666666, \"#ed7953\"], [0.7777777777777778, \"#fb9f3a\"], [0.8888888888888888, \"#fdca26\"], [1.0, \"#f0f921\"]], \"sequentialminus\": [[0.0, \"#0d0887\"], [0.1111111111111111, \"#46039f\"], [0.2222222222222222, \"#7201a8\"], [0.3333333333333333, \"#9c179e\"], [0.4444444444444444, \"#bd3786\"], [0.5555555555555556, \"#d8576b\"], [0.6666666666666666, \"#ed7953\"], [0.7777777777777778, \"#fb9f3a\"], [0.8888888888888888, \"#fdca26\"], [1.0, \"#f0f921\"]]}, \"colorway\": [\"#636efa\", \"#EF553B\", \"#00cc96\", \"#ab63fa\", \"#FFA15A\", \"#19d3f3\", \"#FF6692\", \"#B6E880\", \"#FF97FF\", \"#FECB52\"], \"font\": {\"color\": \"#2a3f5f\"}, \"geo\": {\"bgcolor\": \"white\", \"lakecolor\": \"white\", \"landcolor\": \"#E5ECF6\", \"showlakes\": true, \"showland\": true, \"subunitcolor\": \"white\"}, \"hoverlabel\": {\"align\": \"left\"}, \"hovermode\": \"closest\", \"mapbox\": {\"style\": \"light\"}, \"paper_bgcolor\": \"white\", \"plot_bgcolor\": \"#E5ECF6\", \"polar\": {\"angularaxis\": {\"gridcolor\": \"white\", \"linecolor\": \"white\", \"ticks\": \"\"}, \"bgcolor\": \"#E5ECF6\", \"radialaxis\": {\"gridcolor\": \"white\", \"linecolor\": \"white\", \"ticks\": \"\"}}, \"scene\": {\"xaxis\": {\"backgroundcolor\": \"#E5ECF6\", \"gridcolor\": \"white\", \"gridwidth\": 2, \"linecolor\": \"white\", \"showbackground\": true, \"ticks\": \"\", \"zerolinecolor\": \"white\"}, \"yaxis\": {\"backgroundcolor\": \"#E5ECF6\", \"gridcolor\": \"white\", \"gridwidth\": 2, \"linecolor\": \"white\", \"showbackground\": true, \"ticks\": \"\", \"zerolinecolor\": \"white\"}, \"zaxis\": {\"backgroundcolor\": \"#E5ECF6\", \"gridcolor\": \"white\", \"gridwidth\": 2, \"linecolor\": \"white\", \"showbackground\": true, \"ticks\": \"\", \"zerolinecolor\": \"white\"}}, \"shapedefaults\": {\"line\": {\"color\": \"#2a3f5f\"}}, \"ternary\": {\"aaxis\": {\"gridcolor\": \"white\", \"linecolor\": \"white\", \"ticks\": \"\"}, \"baxis\": {\"gridcolor\": \"white\", \"linecolor\": \"white\", \"ticks\": \"\"}, \"bgcolor\": \"#E5ECF6\", \"caxis\": {\"gridcolor\": \"white\", \"linecolor\": \"white\", \"ticks\": \"\"}}, \"title\": {\"x\": 0.05}, \"xaxis\": {\"automargin\": true, \"gridcolor\": \"white\", \"linecolor\": \"white\", \"ticks\": \"\", \"title\": {\"standoff\": 15}, \"zerolinecolor\": \"white\", \"zerolinewidth\": 2}, \"yaxis\": {\"automargin\": true, \"gridcolor\": \"white\", \"linecolor\": \"white\", \"ticks\": \"\", \"title\": {\"standoff\": 15}, \"zerolinecolor\": \"white\", \"zerolinewidth\": 2}}}, \"title\": {\"text\": \"Frequency of Sentiment Polarity Distribution\"}, \"xaxis\": {\"range\": [-1, 1], \"title\": {\"text\": \"polarity\"}}, \"yaxis\": {\"range\": [0, 8], \"title\": {\"text\": \"count\"}}},                        {\"showLink\": true, \"linkText\": \"Export to plot.ly\", \"plotlyServerURL\": \"https://plot.ly\", \"responsive\": true}                    ).then(function(){\n",
       "                            \n",
       "var gd = document.getElementById('de5a9f00-04eb-437b-80b6-a4162aea1a5f');\n",
       "var x = new MutationObserver(function (mutations, observer) {{\n",
       "        var display = window.getComputedStyle(gd).display;\n",
       "        if (!display || display === 'none') {{\n",
       "            console.log([gd, 'removed!']);\n",
       "            Plotly.purge(gd);\n",
       "            observer.disconnect();\n",
       "        }}\n",
       "}});\n",
       "\n",
       "// Listen for the removal of the full notebook cells\n",
       "var notebookContainer = gd.closest('#notebook-container');\n",
       "if (notebookContainer) {{\n",
       "    x.observe(notebookContainer, {childList: true});\n",
       "}}\n",
       "\n",
       "// Listen for the clearing of the current output cell\n",
       "var outputEl = gd.closest('.output');\n",
       "if (outputEl) {{\n",
       "    x.observe(outputEl, {childList: true});\n",
       "}}\n",
       "\n",
       "                        })                };                });            </script>        </div>"
      ]
     },
     "metadata": {},
     "output_type": "display_data"
    }
   ],
   "source": [
    "layout = go.Layout(\n",
    "        xaxis=dict(\n",
    "            range=[-1, 1],\n",
    "            title='polarity'\n",
    "        ),\n",
    "        yaxis=dict(\n",
    "            range=[0, 8],\n",
    "            title='count'\n",
    "        ),\n",
    "        title='Frequency of Sentiment Polarity Distribution'\n",
    "    )\n",
    "df['polarity'].iplot(\n",
    "    kind='hist',\n",
    "    bins=12,\n",
    "    linecolor='black',\n",
    "    layout = layout)"
   ]
  },
  {
   "cell_type": "markdown",
   "metadata": {},
   "source": [
    "#### Sentiment Polarity Distribution of Reviews"
   ]
  },
  {
   "cell_type": "code",
   "execution_count": 17,
   "metadata": {},
   "outputs": [
    {
     "data": {
      "application/vnd.plotly.v1+json": {
       "config": {
        "linkText": "Export to plot.ly",
        "plotlyServerURL": "https://plot.ly",
        "showLink": true
       },
       "data": [
        {
         "boxpoints": false,
         "line": {
          "width": 1.3
         },
         "marker": {
          "color": "rgba(255, 153, 51, 1.0)"
         },
         "name": "polarity",
         "orientation": "v",
         "type": "box",
         "y": [
          0.37405753968253963,
          0.37083333333333335,
          -0.23214285714285715,
          0.18829040404040406,
          0.25839999999999996,
          0.5508838383838384,
          0.26135416666666667,
          0.4,
          0.35385472370766496,
          0.6392857142857143,
          0.49749999999999994,
          0.6623376623376622,
          0.3589743589743589,
          0.6083333333333333,
          0.2802469135802469,
          0.615,
          0.30803817394726485,
          0.3938034188034188,
          0.4752604166666667,
          0.41666666666666674,
          0.5429292929292929,
          -0.029982517482517474,
          0.05115864527629233,
          0.14166666666666666,
          0.14,
          -0.20142857142857137,
          0.1081439393939394,
          0.3726190476190476,
          0.5072727272727273,
          0.74
         ]
        }
       ],
       "layout": {
        "template": {
         "data": {
          "bar": [
           {
            "error_x": {
             "color": "#2a3f5f"
            },
            "error_y": {
             "color": "#2a3f5f"
            },
            "marker": {
             "line": {
              "color": "#E5ECF6",
              "width": 0.5
             }
            },
            "type": "bar"
           }
          ],
          "barpolar": [
           {
            "marker": {
             "line": {
              "color": "#E5ECF6",
              "width": 0.5
             }
            },
            "type": "barpolar"
           }
          ],
          "carpet": [
           {
            "aaxis": {
             "endlinecolor": "#2a3f5f",
             "gridcolor": "white",
             "linecolor": "white",
             "minorgridcolor": "white",
             "startlinecolor": "#2a3f5f"
            },
            "baxis": {
             "endlinecolor": "#2a3f5f",
             "gridcolor": "white",
             "linecolor": "white",
             "minorgridcolor": "white",
             "startlinecolor": "#2a3f5f"
            },
            "type": "carpet"
           }
          ],
          "choropleth": [
           {
            "colorbar": {
             "outlinewidth": 0,
             "ticks": ""
            },
            "type": "choropleth"
           }
          ],
          "contour": [
           {
            "colorbar": {
             "outlinewidth": 0,
             "ticks": ""
            },
            "colorscale": [
             [
              0,
              "#0d0887"
             ],
             [
              0.1111111111111111,
              "#46039f"
             ],
             [
              0.2222222222222222,
              "#7201a8"
             ],
             [
              0.3333333333333333,
              "#9c179e"
             ],
             [
              0.4444444444444444,
              "#bd3786"
             ],
             [
              0.5555555555555556,
              "#d8576b"
             ],
             [
              0.6666666666666666,
              "#ed7953"
             ],
             [
              0.7777777777777778,
              "#fb9f3a"
             ],
             [
              0.8888888888888888,
              "#fdca26"
             ],
             [
              1,
              "#f0f921"
             ]
            ],
            "type": "contour"
           }
          ],
          "contourcarpet": [
           {
            "colorbar": {
             "outlinewidth": 0,
             "ticks": ""
            },
            "type": "contourcarpet"
           }
          ],
          "heatmap": [
           {
            "colorbar": {
             "outlinewidth": 0,
             "ticks": ""
            },
            "colorscale": [
             [
              0,
              "#0d0887"
             ],
             [
              0.1111111111111111,
              "#46039f"
             ],
             [
              0.2222222222222222,
              "#7201a8"
             ],
             [
              0.3333333333333333,
              "#9c179e"
             ],
             [
              0.4444444444444444,
              "#bd3786"
             ],
             [
              0.5555555555555556,
              "#d8576b"
             ],
             [
              0.6666666666666666,
              "#ed7953"
             ],
             [
              0.7777777777777778,
              "#fb9f3a"
             ],
             [
              0.8888888888888888,
              "#fdca26"
             ],
             [
              1,
              "#f0f921"
             ]
            ],
            "type": "heatmap"
           }
          ],
          "heatmapgl": [
           {
            "colorbar": {
             "outlinewidth": 0,
             "ticks": ""
            },
            "colorscale": [
             [
              0,
              "#0d0887"
             ],
             [
              0.1111111111111111,
              "#46039f"
             ],
             [
              0.2222222222222222,
              "#7201a8"
             ],
             [
              0.3333333333333333,
              "#9c179e"
             ],
             [
              0.4444444444444444,
              "#bd3786"
             ],
             [
              0.5555555555555556,
              "#d8576b"
             ],
             [
              0.6666666666666666,
              "#ed7953"
             ],
             [
              0.7777777777777778,
              "#fb9f3a"
             ],
             [
              0.8888888888888888,
              "#fdca26"
             ],
             [
              1,
              "#f0f921"
             ]
            ],
            "type": "heatmapgl"
           }
          ],
          "histogram": [
           {
            "marker": {
             "colorbar": {
              "outlinewidth": 0,
              "ticks": ""
             }
            },
            "type": "histogram"
           }
          ],
          "histogram2d": [
           {
            "colorbar": {
             "outlinewidth": 0,
             "ticks": ""
            },
            "colorscale": [
             [
              0,
              "#0d0887"
             ],
             [
              0.1111111111111111,
              "#46039f"
             ],
             [
              0.2222222222222222,
              "#7201a8"
             ],
             [
              0.3333333333333333,
              "#9c179e"
             ],
             [
              0.4444444444444444,
              "#bd3786"
             ],
             [
              0.5555555555555556,
              "#d8576b"
             ],
             [
              0.6666666666666666,
              "#ed7953"
             ],
             [
              0.7777777777777778,
              "#fb9f3a"
             ],
             [
              0.8888888888888888,
              "#fdca26"
             ],
             [
              1,
              "#f0f921"
             ]
            ],
            "type": "histogram2d"
           }
          ],
          "histogram2dcontour": [
           {
            "colorbar": {
             "outlinewidth": 0,
             "ticks": ""
            },
            "colorscale": [
             [
              0,
              "#0d0887"
             ],
             [
              0.1111111111111111,
              "#46039f"
             ],
             [
              0.2222222222222222,
              "#7201a8"
             ],
             [
              0.3333333333333333,
              "#9c179e"
             ],
             [
              0.4444444444444444,
              "#bd3786"
             ],
             [
              0.5555555555555556,
              "#d8576b"
             ],
             [
              0.6666666666666666,
              "#ed7953"
             ],
             [
              0.7777777777777778,
              "#fb9f3a"
             ],
             [
              0.8888888888888888,
              "#fdca26"
             ],
             [
              1,
              "#f0f921"
             ]
            ],
            "type": "histogram2dcontour"
           }
          ],
          "mesh3d": [
           {
            "colorbar": {
             "outlinewidth": 0,
             "ticks": ""
            },
            "type": "mesh3d"
           }
          ],
          "parcoords": [
           {
            "line": {
             "colorbar": {
              "outlinewidth": 0,
              "ticks": ""
             }
            },
            "type": "parcoords"
           }
          ],
          "pie": [
           {
            "automargin": true,
            "type": "pie"
           }
          ],
          "scatter": [
           {
            "marker": {
             "colorbar": {
              "outlinewidth": 0,
              "ticks": ""
             }
            },
            "type": "scatter"
           }
          ],
          "scatter3d": [
           {
            "line": {
             "colorbar": {
              "outlinewidth": 0,
              "ticks": ""
             }
            },
            "marker": {
             "colorbar": {
              "outlinewidth": 0,
              "ticks": ""
             }
            },
            "type": "scatter3d"
           }
          ],
          "scattercarpet": [
           {
            "marker": {
             "colorbar": {
              "outlinewidth": 0,
              "ticks": ""
             }
            },
            "type": "scattercarpet"
           }
          ],
          "scattergeo": [
           {
            "marker": {
             "colorbar": {
              "outlinewidth": 0,
              "ticks": ""
             }
            },
            "type": "scattergeo"
           }
          ],
          "scattergl": [
           {
            "marker": {
             "colorbar": {
              "outlinewidth": 0,
              "ticks": ""
             }
            },
            "type": "scattergl"
           }
          ],
          "scattermapbox": [
           {
            "marker": {
             "colorbar": {
              "outlinewidth": 0,
              "ticks": ""
             }
            },
            "type": "scattermapbox"
           }
          ],
          "scatterpolar": [
           {
            "marker": {
             "colorbar": {
              "outlinewidth": 0,
              "ticks": ""
             }
            },
            "type": "scatterpolar"
           }
          ],
          "scatterpolargl": [
           {
            "marker": {
             "colorbar": {
              "outlinewidth": 0,
              "ticks": ""
             }
            },
            "type": "scatterpolargl"
           }
          ],
          "scatterternary": [
           {
            "marker": {
             "colorbar": {
              "outlinewidth": 0,
              "ticks": ""
             }
            },
            "type": "scatterternary"
           }
          ],
          "surface": [
           {
            "colorbar": {
             "outlinewidth": 0,
             "ticks": ""
            },
            "colorscale": [
             [
              0,
              "#0d0887"
             ],
             [
              0.1111111111111111,
              "#46039f"
             ],
             [
              0.2222222222222222,
              "#7201a8"
             ],
             [
              0.3333333333333333,
              "#9c179e"
             ],
             [
              0.4444444444444444,
              "#bd3786"
             ],
             [
              0.5555555555555556,
              "#d8576b"
             ],
             [
              0.6666666666666666,
              "#ed7953"
             ],
             [
              0.7777777777777778,
              "#fb9f3a"
             ],
             [
              0.8888888888888888,
              "#fdca26"
             ],
             [
              1,
              "#f0f921"
             ]
            ],
            "type": "surface"
           }
          ],
          "table": [
           {
            "cells": {
             "fill": {
              "color": "#EBF0F8"
             },
             "line": {
              "color": "white"
             }
            },
            "header": {
             "fill": {
              "color": "#C8D4E3"
             },
             "line": {
              "color": "white"
             }
            },
            "type": "table"
           }
          ]
         },
         "layout": {
          "annotationdefaults": {
           "arrowcolor": "#2a3f5f",
           "arrowhead": 0,
           "arrowwidth": 1
          },
          "coloraxis": {
           "colorbar": {
            "outlinewidth": 0,
            "ticks": ""
           }
          },
          "colorscale": {
           "diverging": [
            [
             0,
             "#8e0152"
            ],
            [
             0.1,
             "#c51b7d"
            ],
            [
             0.2,
             "#de77ae"
            ],
            [
             0.3,
             "#f1b6da"
            ],
            [
             0.4,
             "#fde0ef"
            ],
            [
             0.5,
             "#f7f7f7"
            ],
            [
             0.6,
             "#e6f5d0"
            ],
            [
             0.7,
             "#b8e186"
            ],
            [
             0.8,
             "#7fbc41"
            ],
            [
             0.9,
             "#4d9221"
            ],
            [
             1,
             "#276419"
            ]
           ],
           "sequential": [
            [
             0,
             "#0d0887"
            ],
            [
             0.1111111111111111,
             "#46039f"
            ],
            [
             0.2222222222222222,
             "#7201a8"
            ],
            [
             0.3333333333333333,
             "#9c179e"
            ],
            [
             0.4444444444444444,
             "#bd3786"
            ],
            [
             0.5555555555555556,
             "#d8576b"
            ],
            [
             0.6666666666666666,
             "#ed7953"
            ],
            [
             0.7777777777777778,
             "#fb9f3a"
            ],
            [
             0.8888888888888888,
             "#fdca26"
            ],
            [
             1,
             "#f0f921"
            ]
           ],
           "sequentialminus": [
            [
             0,
             "#0d0887"
            ],
            [
             0.1111111111111111,
             "#46039f"
            ],
            [
             0.2222222222222222,
             "#7201a8"
            ],
            [
             0.3333333333333333,
             "#9c179e"
            ],
            [
             0.4444444444444444,
             "#bd3786"
            ],
            [
             0.5555555555555556,
             "#d8576b"
            ],
            [
             0.6666666666666666,
             "#ed7953"
            ],
            [
             0.7777777777777778,
             "#fb9f3a"
            ],
            [
             0.8888888888888888,
             "#fdca26"
            ],
            [
             1,
             "#f0f921"
            ]
           ]
          },
          "colorway": [
           "#636efa",
           "#EF553B",
           "#00cc96",
           "#ab63fa",
           "#FFA15A",
           "#19d3f3",
           "#FF6692",
           "#B6E880",
           "#FF97FF",
           "#FECB52"
          ],
          "font": {
           "color": "#2a3f5f"
          },
          "geo": {
           "bgcolor": "white",
           "lakecolor": "white",
           "landcolor": "#E5ECF6",
           "showlakes": true,
           "showland": true,
           "subunitcolor": "white"
          },
          "hoverlabel": {
           "align": "left"
          },
          "hovermode": "closest",
          "mapbox": {
           "style": "light"
          },
          "paper_bgcolor": "white",
          "plot_bgcolor": "#E5ECF6",
          "polar": {
           "angularaxis": {
            "gridcolor": "white",
            "linecolor": "white",
            "ticks": ""
           },
           "bgcolor": "#E5ECF6",
           "radialaxis": {
            "gridcolor": "white",
            "linecolor": "white",
            "ticks": ""
           }
          },
          "scene": {
           "xaxis": {
            "backgroundcolor": "#E5ECF6",
            "gridcolor": "white",
            "gridwidth": 2,
            "linecolor": "white",
            "showbackground": true,
            "ticks": "",
            "zerolinecolor": "white"
           },
           "yaxis": {
            "backgroundcolor": "#E5ECF6",
            "gridcolor": "white",
            "gridwidth": 2,
            "linecolor": "white",
            "showbackground": true,
            "ticks": "",
            "zerolinecolor": "white"
           },
           "zaxis": {
            "backgroundcolor": "#E5ECF6",
            "gridcolor": "white",
            "gridwidth": 2,
            "linecolor": "white",
            "showbackground": true,
            "ticks": "",
            "zerolinecolor": "white"
           }
          },
          "shapedefaults": {
           "line": {
            "color": "#2a3f5f"
           }
          },
          "ternary": {
           "aaxis": {
            "gridcolor": "white",
            "linecolor": "white",
            "ticks": ""
           },
           "baxis": {
            "gridcolor": "white",
            "linecolor": "white",
            "ticks": ""
           },
           "bgcolor": "#E5ECF6",
           "caxis": {
            "gridcolor": "white",
            "linecolor": "white",
            "ticks": ""
           }
          },
          "title": {
           "x": 0.05
          },
          "xaxis": {
           "automargin": true,
           "gridcolor": "white",
           "linecolor": "white",
           "ticks": "",
           "title": {
            "standoff": 15
           },
           "zerolinecolor": "white",
           "zerolinewidth": 2
          },
          "yaxis": {
           "automargin": true,
           "gridcolor": "white",
           "linecolor": "white",
           "ticks": "",
           "title": {
            "standoff": 15
           },
           "zerolinecolor": "white",
           "zerolinewidth": 2
          }
         }
        },
        "title": {
         "text": "Sentiment Polarity Distribution"
        },
        "xaxis": {
         "title": {
          "text": "of text"
         }
        },
        "yaxis": {
         "range": [
          -1,
          1
         ],
         "title": {
          "text": "polarity"
         }
        }
       }
      },
      "text/html": [
       "<div>                            <div id=\"06dfd273-e6c9-42b1-94e7-95325e15222e\" class=\"plotly-graph-div\" style=\"height:525px; width:100%;\"></div>            <script type=\"text/javascript\">                require([\"plotly\"], function(Plotly) {                    window.PLOTLYENV=window.PLOTLYENV || {};\n",
       "                    window.PLOTLYENV.BASE_URL='https://plot.ly';                                    if (document.getElementById(\"06dfd273-e6c9-42b1-94e7-95325e15222e\")) {                    Plotly.newPlot(                        \"06dfd273-e6c9-42b1-94e7-95325e15222e\",                        [{\"boxpoints\": false, \"line\": {\"width\": 1.3}, \"marker\": {\"color\": \"rgba(255, 153, 51, 1.0)\"}, \"name\": \"polarity\", \"orientation\": \"v\", \"type\": \"box\", \"y\": [0.37405753968253963, 0.37083333333333335, -0.23214285714285715, 0.18829040404040406, 0.25839999999999996, 0.5508838383838384, 0.26135416666666667, 0.4, 0.35385472370766496, 0.6392857142857143, 0.49749999999999994, 0.6623376623376622, 0.3589743589743589, 0.6083333333333333, 0.2802469135802469, 0.615, 0.30803817394726485, 0.3938034188034188, 0.4752604166666667, 0.41666666666666674, 0.5429292929292929, -0.029982517482517474, 0.05115864527629233, 0.14166666666666666, 0.14, -0.20142857142857137, 0.1081439393939394, 0.3726190476190476, 0.5072727272727273, 0.74]}],                        {\"template\": {\"data\": {\"bar\": [{\"error_x\": {\"color\": \"#2a3f5f\"}, \"error_y\": {\"color\": \"#2a3f5f\"}, \"marker\": {\"line\": {\"color\": \"#E5ECF6\", \"width\": 0.5}}, \"type\": \"bar\"}], \"barpolar\": [{\"marker\": {\"line\": {\"color\": \"#E5ECF6\", \"width\": 0.5}}, \"type\": \"barpolar\"}], \"carpet\": [{\"aaxis\": {\"endlinecolor\": \"#2a3f5f\", \"gridcolor\": \"white\", \"linecolor\": \"white\", \"minorgridcolor\": \"white\", \"startlinecolor\": \"#2a3f5f\"}, \"baxis\": {\"endlinecolor\": \"#2a3f5f\", \"gridcolor\": \"white\", \"linecolor\": \"white\", \"minorgridcolor\": \"white\", \"startlinecolor\": \"#2a3f5f\"}, \"type\": \"carpet\"}], \"choropleth\": [{\"colorbar\": {\"outlinewidth\": 0, \"ticks\": \"\"}, \"type\": \"choropleth\"}], \"contour\": [{\"colorbar\": {\"outlinewidth\": 0, \"ticks\": \"\"}, \"colorscale\": [[0.0, \"#0d0887\"], [0.1111111111111111, \"#46039f\"], [0.2222222222222222, \"#7201a8\"], [0.3333333333333333, \"#9c179e\"], [0.4444444444444444, \"#bd3786\"], [0.5555555555555556, \"#d8576b\"], [0.6666666666666666, \"#ed7953\"], [0.7777777777777778, \"#fb9f3a\"], [0.8888888888888888, \"#fdca26\"], [1.0, \"#f0f921\"]], \"type\": \"contour\"}], \"contourcarpet\": [{\"colorbar\": {\"outlinewidth\": 0, \"ticks\": \"\"}, \"type\": \"contourcarpet\"}], \"heatmap\": [{\"colorbar\": {\"outlinewidth\": 0, \"ticks\": \"\"}, \"colorscale\": [[0.0, \"#0d0887\"], [0.1111111111111111, \"#46039f\"], [0.2222222222222222, \"#7201a8\"], [0.3333333333333333, \"#9c179e\"], [0.4444444444444444, \"#bd3786\"], [0.5555555555555556, \"#d8576b\"], [0.6666666666666666, \"#ed7953\"], [0.7777777777777778, \"#fb9f3a\"], [0.8888888888888888, \"#fdca26\"], [1.0, \"#f0f921\"]], \"type\": \"heatmap\"}], \"heatmapgl\": [{\"colorbar\": {\"outlinewidth\": 0, \"ticks\": \"\"}, \"colorscale\": [[0.0, \"#0d0887\"], [0.1111111111111111, \"#46039f\"], [0.2222222222222222, \"#7201a8\"], [0.3333333333333333, \"#9c179e\"], [0.4444444444444444, \"#bd3786\"], [0.5555555555555556, \"#d8576b\"], [0.6666666666666666, \"#ed7953\"], [0.7777777777777778, \"#fb9f3a\"], [0.8888888888888888, \"#fdca26\"], [1.0, \"#f0f921\"]], \"type\": \"heatmapgl\"}], \"histogram\": [{\"marker\": {\"colorbar\": {\"outlinewidth\": 0, \"ticks\": \"\"}}, \"type\": \"histogram\"}], \"histogram2d\": [{\"colorbar\": {\"outlinewidth\": 0, \"ticks\": \"\"}, \"colorscale\": [[0.0, \"#0d0887\"], [0.1111111111111111, \"#46039f\"], [0.2222222222222222, \"#7201a8\"], [0.3333333333333333, \"#9c179e\"], [0.4444444444444444, \"#bd3786\"], [0.5555555555555556, \"#d8576b\"], [0.6666666666666666, \"#ed7953\"], [0.7777777777777778, \"#fb9f3a\"], [0.8888888888888888, \"#fdca26\"], [1.0, \"#f0f921\"]], \"type\": \"histogram2d\"}], \"histogram2dcontour\": [{\"colorbar\": {\"outlinewidth\": 0, \"ticks\": \"\"}, \"colorscale\": [[0.0, \"#0d0887\"], [0.1111111111111111, \"#46039f\"], [0.2222222222222222, \"#7201a8\"], [0.3333333333333333, \"#9c179e\"], [0.4444444444444444, \"#bd3786\"], [0.5555555555555556, \"#d8576b\"], [0.6666666666666666, \"#ed7953\"], [0.7777777777777778, \"#fb9f3a\"], [0.8888888888888888, \"#fdca26\"], [1.0, \"#f0f921\"]], \"type\": \"histogram2dcontour\"}], \"mesh3d\": [{\"colorbar\": {\"outlinewidth\": 0, \"ticks\": \"\"}, \"type\": \"mesh3d\"}], \"parcoords\": [{\"line\": {\"colorbar\": {\"outlinewidth\": 0, \"ticks\": \"\"}}, \"type\": \"parcoords\"}], \"pie\": [{\"automargin\": true, \"type\": \"pie\"}], \"scatter\": [{\"marker\": {\"colorbar\": {\"outlinewidth\": 0, \"ticks\": \"\"}}, \"type\": \"scatter\"}], \"scatter3d\": [{\"line\": {\"colorbar\": {\"outlinewidth\": 0, \"ticks\": \"\"}}, \"marker\": {\"colorbar\": {\"outlinewidth\": 0, \"ticks\": \"\"}}, \"type\": \"scatter3d\"}], \"scattercarpet\": [{\"marker\": {\"colorbar\": {\"outlinewidth\": 0, \"ticks\": \"\"}}, \"type\": \"scattercarpet\"}], \"scattergeo\": [{\"marker\": {\"colorbar\": {\"outlinewidth\": 0, \"ticks\": \"\"}}, \"type\": \"scattergeo\"}], \"scattergl\": [{\"marker\": {\"colorbar\": {\"outlinewidth\": 0, \"ticks\": \"\"}}, \"type\": \"scattergl\"}], \"scattermapbox\": [{\"marker\": {\"colorbar\": {\"outlinewidth\": 0, \"ticks\": \"\"}}, \"type\": \"scattermapbox\"}], \"scatterpolar\": [{\"marker\": {\"colorbar\": {\"outlinewidth\": 0, \"ticks\": \"\"}}, \"type\": \"scatterpolar\"}], \"scatterpolargl\": [{\"marker\": {\"colorbar\": {\"outlinewidth\": 0, \"ticks\": \"\"}}, \"type\": \"scatterpolargl\"}], \"scatterternary\": [{\"marker\": {\"colorbar\": {\"outlinewidth\": 0, \"ticks\": \"\"}}, \"type\": \"scatterternary\"}], \"surface\": [{\"colorbar\": {\"outlinewidth\": 0, \"ticks\": \"\"}, \"colorscale\": [[0.0, \"#0d0887\"], [0.1111111111111111, \"#46039f\"], [0.2222222222222222, \"#7201a8\"], [0.3333333333333333, \"#9c179e\"], [0.4444444444444444, \"#bd3786\"], [0.5555555555555556, \"#d8576b\"], [0.6666666666666666, \"#ed7953\"], [0.7777777777777778, \"#fb9f3a\"], [0.8888888888888888, \"#fdca26\"], [1.0, \"#f0f921\"]], \"type\": \"surface\"}], \"table\": [{\"cells\": {\"fill\": {\"color\": \"#EBF0F8\"}, \"line\": {\"color\": \"white\"}}, \"header\": {\"fill\": {\"color\": \"#C8D4E3\"}, \"line\": {\"color\": \"white\"}}, \"type\": \"table\"}]}, \"layout\": {\"annotationdefaults\": {\"arrowcolor\": \"#2a3f5f\", \"arrowhead\": 0, \"arrowwidth\": 1}, \"coloraxis\": {\"colorbar\": {\"outlinewidth\": 0, \"ticks\": \"\"}}, \"colorscale\": {\"diverging\": [[0, \"#8e0152\"], [0.1, \"#c51b7d\"], [0.2, \"#de77ae\"], [0.3, \"#f1b6da\"], [0.4, \"#fde0ef\"], [0.5, \"#f7f7f7\"], [0.6, \"#e6f5d0\"], [0.7, \"#b8e186\"], [0.8, \"#7fbc41\"], [0.9, \"#4d9221\"], [1, \"#276419\"]], \"sequential\": [[0.0, \"#0d0887\"], [0.1111111111111111, \"#46039f\"], [0.2222222222222222, \"#7201a8\"], [0.3333333333333333, \"#9c179e\"], [0.4444444444444444, \"#bd3786\"], [0.5555555555555556, \"#d8576b\"], [0.6666666666666666, \"#ed7953\"], [0.7777777777777778, \"#fb9f3a\"], [0.8888888888888888, \"#fdca26\"], [1.0, \"#f0f921\"]], \"sequentialminus\": [[0.0, \"#0d0887\"], [0.1111111111111111, \"#46039f\"], [0.2222222222222222, \"#7201a8\"], [0.3333333333333333, \"#9c179e\"], [0.4444444444444444, \"#bd3786\"], [0.5555555555555556, \"#d8576b\"], [0.6666666666666666, \"#ed7953\"], [0.7777777777777778, \"#fb9f3a\"], [0.8888888888888888, \"#fdca26\"], [1.0, \"#f0f921\"]]}, \"colorway\": [\"#636efa\", \"#EF553B\", \"#00cc96\", \"#ab63fa\", \"#FFA15A\", \"#19d3f3\", \"#FF6692\", \"#B6E880\", \"#FF97FF\", \"#FECB52\"], \"font\": {\"color\": \"#2a3f5f\"}, \"geo\": {\"bgcolor\": \"white\", \"lakecolor\": \"white\", \"landcolor\": \"#E5ECF6\", \"showlakes\": true, \"showland\": true, \"subunitcolor\": \"white\"}, \"hoverlabel\": {\"align\": \"left\"}, \"hovermode\": \"closest\", \"mapbox\": {\"style\": \"light\"}, \"paper_bgcolor\": \"white\", \"plot_bgcolor\": \"#E5ECF6\", \"polar\": {\"angularaxis\": {\"gridcolor\": \"white\", \"linecolor\": \"white\", \"ticks\": \"\"}, \"bgcolor\": \"#E5ECF6\", \"radialaxis\": {\"gridcolor\": \"white\", \"linecolor\": \"white\", \"ticks\": \"\"}}, \"scene\": {\"xaxis\": {\"backgroundcolor\": \"#E5ECF6\", \"gridcolor\": \"white\", \"gridwidth\": 2, \"linecolor\": \"white\", \"showbackground\": true, \"ticks\": \"\", \"zerolinecolor\": \"white\"}, \"yaxis\": {\"backgroundcolor\": \"#E5ECF6\", \"gridcolor\": \"white\", \"gridwidth\": 2, \"linecolor\": \"white\", \"showbackground\": true, \"ticks\": \"\", \"zerolinecolor\": \"white\"}, \"zaxis\": {\"backgroundcolor\": \"#E5ECF6\", \"gridcolor\": \"white\", \"gridwidth\": 2, \"linecolor\": \"white\", \"showbackground\": true, \"ticks\": \"\", \"zerolinecolor\": \"white\"}}, \"shapedefaults\": {\"line\": {\"color\": \"#2a3f5f\"}}, \"ternary\": {\"aaxis\": {\"gridcolor\": \"white\", \"linecolor\": \"white\", \"ticks\": \"\"}, \"baxis\": {\"gridcolor\": \"white\", \"linecolor\": \"white\", \"ticks\": \"\"}, \"bgcolor\": \"#E5ECF6\", \"caxis\": {\"gridcolor\": \"white\", \"linecolor\": \"white\", \"ticks\": \"\"}}, \"title\": {\"x\": 0.05}, \"xaxis\": {\"automargin\": true, \"gridcolor\": \"white\", \"linecolor\": \"white\", \"ticks\": \"\", \"title\": {\"standoff\": 15}, \"zerolinecolor\": \"white\", \"zerolinewidth\": 2}, \"yaxis\": {\"automargin\": true, \"gridcolor\": \"white\", \"linecolor\": \"white\", \"ticks\": \"\", \"title\": {\"standoff\": 15}, \"zerolinecolor\": \"white\", \"zerolinewidth\": 2}}}, \"title\": {\"text\": \"Sentiment Polarity Distribution\"}, \"xaxis\": {\"title\": {\"text\": \"of text\"}}, \"yaxis\": {\"range\": [-1, 1], \"title\": {\"text\": \"polarity\"}}},                        {\"showLink\": true, \"linkText\": \"Export to plot.ly\", \"plotlyServerURL\": \"https://plot.ly\", \"responsive\": true}                    ).then(function(){\n",
       "                            \n",
       "var gd = document.getElementById('06dfd273-e6c9-42b1-94e7-95325e15222e');\n",
       "var x = new MutationObserver(function (mutations, observer) {{\n",
       "        var display = window.getComputedStyle(gd).display;\n",
       "        if (!display || display === 'none') {{\n",
       "            console.log([gd, 'removed!']);\n",
       "            Plotly.purge(gd);\n",
       "            observer.disconnect();\n",
       "        }}\n",
       "}});\n",
       "\n",
       "// Listen for the removal of the full notebook cells\n",
       "var notebookContainer = gd.closest('#notebook-container');\n",
       "if (notebookContainer) {{\n",
       "    x.observe(notebookContainer, {childList: true});\n",
       "}}\n",
       "\n",
       "// Listen for the clearing of the current output cell\n",
       "var outputEl = gd.closest('.output');\n",
       "if (outputEl) {{\n",
       "    x.observe(outputEl, {childList: true});\n",
       "}}\n",
       "\n",
       "                        })                };                });            </script>        </div>"
      ]
     },
     "metadata": {},
     "output_type": "display_data"
    }
   ],
   "source": [
    "layout = go.Layout(\n",
    "        yaxis=dict(\n",
    "            range=[-1, 1],\n",
    "            title='polarity'\n",
    "        ),\n",
    "        xaxis=dict(\n",
    "            title='of text'\n",
    "        ),\n",
    "        title='Sentiment Polarity Distribution'\n",
    "    )\n",
    "df['polarity'].iplot(\n",
    "    kind='box',\n",
    "    linecolor='black',\n",
    "    layout = layout)"
   ]
  },
  {
   "cell_type": "markdown",
   "metadata": {},
   "source": [
    "#### The distribution review text lengths"
   ]
  },
  {
   "cell_type": "code",
   "execution_count": 18,
   "metadata": {},
   "outputs": [
    {
     "data": {
      "application/vnd.plotly.v1+json": {
       "config": {
        "linkText": "Export to plot.ly",
        "plotlyServerURL": "https://plot.ly",
        "showLink": true
       },
       "data": [
        {
         "histfunc": "count",
         "histnorm": "",
         "marker": {
          "color": "rgba(255, 153, 51, 1.0)",
          "line": {
           "color": "#000000",
           "width": 1.3
          }
         },
         "name": "len",
         "nbinsx": 25,
         "opacity": 0.8,
         "orientation": "v",
         "type": "histogram",
         "x": [
          919,
          309,
          606,
          423,
          787,
          463,
          697,
          499,
          468,
          165,
          396,
          263,
          638,
          402,
          976,
          222,
          955,
          556,
          978,
          379,
          305,
          545,
          885,
          165,
          290,
          457,
          173,
          193,
          116,
          211
         ]
        }
       ],
       "layout": {
        "barmode": "overlay",
        "template": {
         "data": {
          "bar": [
           {
            "error_x": {
             "color": "#2a3f5f"
            },
            "error_y": {
             "color": "#2a3f5f"
            },
            "marker": {
             "line": {
              "color": "#E5ECF6",
              "width": 0.5
             }
            },
            "type": "bar"
           }
          ],
          "barpolar": [
           {
            "marker": {
             "line": {
              "color": "#E5ECF6",
              "width": 0.5
             }
            },
            "type": "barpolar"
           }
          ],
          "carpet": [
           {
            "aaxis": {
             "endlinecolor": "#2a3f5f",
             "gridcolor": "white",
             "linecolor": "white",
             "minorgridcolor": "white",
             "startlinecolor": "#2a3f5f"
            },
            "baxis": {
             "endlinecolor": "#2a3f5f",
             "gridcolor": "white",
             "linecolor": "white",
             "minorgridcolor": "white",
             "startlinecolor": "#2a3f5f"
            },
            "type": "carpet"
           }
          ],
          "choropleth": [
           {
            "colorbar": {
             "outlinewidth": 0,
             "ticks": ""
            },
            "type": "choropleth"
           }
          ],
          "contour": [
           {
            "colorbar": {
             "outlinewidth": 0,
             "ticks": ""
            },
            "colorscale": [
             [
              0,
              "#0d0887"
             ],
             [
              0.1111111111111111,
              "#46039f"
             ],
             [
              0.2222222222222222,
              "#7201a8"
             ],
             [
              0.3333333333333333,
              "#9c179e"
             ],
             [
              0.4444444444444444,
              "#bd3786"
             ],
             [
              0.5555555555555556,
              "#d8576b"
             ],
             [
              0.6666666666666666,
              "#ed7953"
             ],
             [
              0.7777777777777778,
              "#fb9f3a"
             ],
             [
              0.8888888888888888,
              "#fdca26"
             ],
             [
              1,
              "#f0f921"
             ]
            ],
            "type": "contour"
           }
          ],
          "contourcarpet": [
           {
            "colorbar": {
             "outlinewidth": 0,
             "ticks": ""
            },
            "type": "contourcarpet"
           }
          ],
          "heatmap": [
           {
            "colorbar": {
             "outlinewidth": 0,
             "ticks": ""
            },
            "colorscale": [
             [
              0,
              "#0d0887"
             ],
             [
              0.1111111111111111,
              "#46039f"
             ],
             [
              0.2222222222222222,
              "#7201a8"
             ],
             [
              0.3333333333333333,
              "#9c179e"
             ],
             [
              0.4444444444444444,
              "#bd3786"
             ],
             [
              0.5555555555555556,
              "#d8576b"
             ],
             [
              0.6666666666666666,
              "#ed7953"
             ],
             [
              0.7777777777777778,
              "#fb9f3a"
             ],
             [
              0.8888888888888888,
              "#fdca26"
             ],
             [
              1,
              "#f0f921"
             ]
            ],
            "type": "heatmap"
           }
          ],
          "heatmapgl": [
           {
            "colorbar": {
             "outlinewidth": 0,
             "ticks": ""
            },
            "colorscale": [
             [
              0,
              "#0d0887"
             ],
             [
              0.1111111111111111,
              "#46039f"
             ],
             [
              0.2222222222222222,
              "#7201a8"
             ],
             [
              0.3333333333333333,
              "#9c179e"
             ],
             [
              0.4444444444444444,
              "#bd3786"
             ],
             [
              0.5555555555555556,
              "#d8576b"
             ],
             [
              0.6666666666666666,
              "#ed7953"
             ],
             [
              0.7777777777777778,
              "#fb9f3a"
             ],
             [
              0.8888888888888888,
              "#fdca26"
             ],
             [
              1,
              "#f0f921"
             ]
            ],
            "type": "heatmapgl"
           }
          ],
          "histogram": [
           {
            "marker": {
             "colorbar": {
              "outlinewidth": 0,
              "ticks": ""
             }
            },
            "type": "histogram"
           }
          ],
          "histogram2d": [
           {
            "colorbar": {
             "outlinewidth": 0,
             "ticks": ""
            },
            "colorscale": [
             [
              0,
              "#0d0887"
             ],
             [
              0.1111111111111111,
              "#46039f"
             ],
             [
              0.2222222222222222,
              "#7201a8"
             ],
             [
              0.3333333333333333,
              "#9c179e"
             ],
             [
              0.4444444444444444,
              "#bd3786"
             ],
             [
              0.5555555555555556,
              "#d8576b"
             ],
             [
              0.6666666666666666,
              "#ed7953"
             ],
             [
              0.7777777777777778,
              "#fb9f3a"
             ],
             [
              0.8888888888888888,
              "#fdca26"
             ],
             [
              1,
              "#f0f921"
             ]
            ],
            "type": "histogram2d"
           }
          ],
          "histogram2dcontour": [
           {
            "colorbar": {
             "outlinewidth": 0,
             "ticks": ""
            },
            "colorscale": [
             [
              0,
              "#0d0887"
             ],
             [
              0.1111111111111111,
              "#46039f"
             ],
             [
              0.2222222222222222,
              "#7201a8"
             ],
             [
              0.3333333333333333,
              "#9c179e"
             ],
             [
              0.4444444444444444,
              "#bd3786"
             ],
             [
              0.5555555555555556,
              "#d8576b"
             ],
             [
              0.6666666666666666,
              "#ed7953"
             ],
             [
              0.7777777777777778,
              "#fb9f3a"
             ],
             [
              0.8888888888888888,
              "#fdca26"
             ],
             [
              1,
              "#f0f921"
             ]
            ],
            "type": "histogram2dcontour"
           }
          ],
          "mesh3d": [
           {
            "colorbar": {
             "outlinewidth": 0,
             "ticks": ""
            },
            "type": "mesh3d"
           }
          ],
          "parcoords": [
           {
            "line": {
             "colorbar": {
              "outlinewidth": 0,
              "ticks": ""
             }
            },
            "type": "parcoords"
           }
          ],
          "pie": [
           {
            "automargin": true,
            "type": "pie"
           }
          ],
          "scatter": [
           {
            "marker": {
             "colorbar": {
              "outlinewidth": 0,
              "ticks": ""
             }
            },
            "type": "scatter"
           }
          ],
          "scatter3d": [
           {
            "line": {
             "colorbar": {
              "outlinewidth": 0,
              "ticks": ""
             }
            },
            "marker": {
             "colorbar": {
              "outlinewidth": 0,
              "ticks": ""
             }
            },
            "type": "scatter3d"
           }
          ],
          "scattercarpet": [
           {
            "marker": {
             "colorbar": {
              "outlinewidth": 0,
              "ticks": ""
             }
            },
            "type": "scattercarpet"
           }
          ],
          "scattergeo": [
           {
            "marker": {
             "colorbar": {
              "outlinewidth": 0,
              "ticks": ""
             }
            },
            "type": "scattergeo"
           }
          ],
          "scattergl": [
           {
            "marker": {
             "colorbar": {
              "outlinewidth": 0,
              "ticks": ""
             }
            },
            "type": "scattergl"
           }
          ],
          "scattermapbox": [
           {
            "marker": {
             "colorbar": {
              "outlinewidth": 0,
              "ticks": ""
             }
            },
            "type": "scattermapbox"
           }
          ],
          "scatterpolar": [
           {
            "marker": {
             "colorbar": {
              "outlinewidth": 0,
              "ticks": ""
             }
            },
            "type": "scatterpolar"
           }
          ],
          "scatterpolargl": [
           {
            "marker": {
             "colorbar": {
              "outlinewidth": 0,
              "ticks": ""
             }
            },
            "type": "scatterpolargl"
           }
          ],
          "scatterternary": [
           {
            "marker": {
             "colorbar": {
              "outlinewidth": 0,
              "ticks": ""
             }
            },
            "type": "scatterternary"
           }
          ],
          "surface": [
           {
            "colorbar": {
             "outlinewidth": 0,
             "ticks": ""
            },
            "colorscale": [
             [
              0,
              "#0d0887"
             ],
             [
              0.1111111111111111,
              "#46039f"
             ],
             [
              0.2222222222222222,
              "#7201a8"
             ],
             [
              0.3333333333333333,
              "#9c179e"
             ],
             [
              0.4444444444444444,
              "#bd3786"
             ],
             [
              0.5555555555555556,
              "#d8576b"
             ],
             [
              0.6666666666666666,
              "#ed7953"
             ],
             [
              0.7777777777777778,
              "#fb9f3a"
             ],
             [
              0.8888888888888888,
              "#fdca26"
             ],
             [
              1,
              "#f0f921"
             ]
            ],
            "type": "surface"
           }
          ],
          "table": [
           {
            "cells": {
             "fill": {
              "color": "#EBF0F8"
             },
             "line": {
              "color": "white"
             }
            },
            "header": {
             "fill": {
              "color": "#C8D4E3"
             },
             "line": {
              "color": "white"
             }
            },
            "type": "table"
           }
          ]
         },
         "layout": {
          "annotationdefaults": {
           "arrowcolor": "#2a3f5f",
           "arrowhead": 0,
           "arrowwidth": 1
          },
          "coloraxis": {
           "colorbar": {
            "outlinewidth": 0,
            "ticks": ""
           }
          },
          "colorscale": {
           "diverging": [
            [
             0,
             "#8e0152"
            ],
            [
             0.1,
             "#c51b7d"
            ],
            [
             0.2,
             "#de77ae"
            ],
            [
             0.3,
             "#f1b6da"
            ],
            [
             0.4,
             "#fde0ef"
            ],
            [
             0.5,
             "#f7f7f7"
            ],
            [
             0.6,
             "#e6f5d0"
            ],
            [
             0.7,
             "#b8e186"
            ],
            [
             0.8,
             "#7fbc41"
            ],
            [
             0.9,
             "#4d9221"
            ],
            [
             1,
             "#276419"
            ]
           ],
           "sequential": [
            [
             0,
             "#0d0887"
            ],
            [
             0.1111111111111111,
             "#46039f"
            ],
            [
             0.2222222222222222,
             "#7201a8"
            ],
            [
             0.3333333333333333,
             "#9c179e"
            ],
            [
             0.4444444444444444,
             "#bd3786"
            ],
            [
             0.5555555555555556,
             "#d8576b"
            ],
            [
             0.6666666666666666,
             "#ed7953"
            ],
            [
             0.7777777777777778,
             "#fb9f3a"
            ],
            [
             0.8888888888888888,
             "#fdca26"
            ],
            [
             1,
             "#f0f921"
            ]
           ],
           "sequentialminus": [
            [
             0,
             "#0d0887"
            ],
            [
             0.1111111111111111,
             "#46039f"
            ],
            [
             0.2222222222222222,
             "#7201a8"
            ],
            [
             0.3333333333333333,
             "#9c179e"
            ],
            [
             0.4444444444444444,
             "#bd3786"
            ],
            [
             0.5555555555555556,
             "#d8576b"
            ],
            [
             0.6666666666666666,
             "#ed7953"
            ],
            [
             0.7777777777777778,
             "#fb9f3a"
            ],
            [
             0.8888888888888888,
             "#fdca26"
            ],
            [
             1,
             "#f0f921"
            ]
           ]
          },
          "colorway": [
           "#636efa",
           "#EF553B",
           "#00cc96",
           "#ab63fa",
           "#FFA15A",
           "#19d3f3",
           "#FF6692",
           "#B6E880",
           "#FF97FF",
           "#FECB52"
          ],
          "font": {
           "color": "#2a3f5f"
          },
          "geo": {
           "bgcolor": "white",
           "lakecolor": "white",
           "landcolor": "#E5ECF6",
           "showlakes": true,
           "showland": true,
           "subunitcolor": "white"
          },
          "hoverlabel": {
           "align": "left"
          },
          "hovermode": "closest",
          "mapbox": {
           "style": "light"
          },
          "paper_bgcolor": "white",
          "plot_bgcolor": "#E5ECF6",
          "polar": {
           "angularaxis": {
            "gridcolor": "white",
            "linecolor": "white",
            "ticks": ""
           },
           "bgcolor": "#E5ECF6",
           "radialaxis": {
            "gridcolor": "white",
            "linecolor": "white",
            "ticks": ""
           }
          },
          "scene": {
           "xaxis": {
            "backgroundcolor": "#E5ECF6",
            "gridcolor": "white",
            "gridwidth": 2,
            "linecolor": "white",
            "showbackground": true,
            "ticks": "",
            "zerolinecolor": "white"
           },
           "yaxis": {
            "backgroundcolor": "#E5ECF6",
            "gridcolor": "white",
            "gridwidth": 2,
            "linecolor": "white",
            "showbackground": true,
            "ticks": "",
            "zerolinecolor": "white"
           },
           "zaxis": {
            "backgroundcolor": "#E5ECF6",
            "gridcolor": "white",
            "gridwidth": 2,
            "linecolor": "white",
            "showbackground": true,
            "ticks": "",
            "zerolinecolor": "white"
           }
          },
          "shapedefaults": {
           "line": {
            "color": "#2a3f5f"
           }
          },
          "ternary": {
           "aaxis": {
            "gridcolor": "white",
            "linecolor": "white",
            "ticks": ""
           },
           "baxis": {
            "gridcolor": "white",
            "linecolor": "white",
            "ticks": ""
           },
           "bgcolor": "#E5ECF6",
           "caxis": {
            "gridcolor": "white",
            "linecolor": "white",
            "ticks": ""
           }
          },
          "title": {
           "x": 0.05
          },
          "xaxis": {
           "automargin": true,
           "gridcolor": "white",
           "linecolor": "white",
           "ticks": "",
           "title": {
            "standoff": 15
           },
           "zerolinecolor": "white",
           "zerolinewidth": 2
          },
          "yaxis": {
           "automargin": true,
           "gridcolor": "white",
           "linecolor": "white",
           "ticks": "",
           "title": {
            "standoff": 15
           },
           "zerolinecolor": "white",
           "zerolinewidth": 2
          }
         }
        },
        "title": {
         "text": "Review Text Length Distribution"
        },
        "xaxis": {
         "range": [
          0,
          1100
         ],
         "title": {
          "text": "review length"
         }
        },
        "yaxis": {
         "range": [
          0,
          10
         ],
         "title": {
          "text": "count"
         }
        }
       }
      },
      "text/html": [
       "<div>                            <div id=\"44875eda-1cde-4b83-a0c1-a9c474c89abc\" class=\"plotly-graph-div\" style=\"height:525px; width:100%;\"></div>            <script type=\"text/javascript\">                require([\"plotly\"], function(Plotly) {                    window.PLOTLYENV=window.PLOTLYENV || {};\n",
       "                    window.PLOTLYENV.BASE_URL='https://plot.ly';                                    if (document.getElementById(\"44875eda-1cde-4b83-a0c1-a9c474c89abc\")) {                    Plotly.newPlot(                        \"44875eda-1cde-4b83-a0c1-a9c474c89abc\",                        [{\"histfunc\": \"count\", \"histnorm\": \"\", \"marker\": {\"color\": \"rgba(255, 153, 51, 1.0)\", \"line\": {\"color\": \"#000000\", \"width\": 1.3}}, \"name\": \"len\", \"nbinsx\": 25, \"opacity\": 0.8, \"orientation\": \"v\", \"type\": \"histogram\", \"x\": [919, 309, 606, 423, 787, 463, 697, 499, 468, 165, 396, 263, 638, 402, 976, 222, 955, 556, 978, 379, 305, 545, 885, 165, 290, 457, 173, 193, 116, 211]}],                        {\"barmode\": \"overlay\", \"template\": {\"data\": {\"bar\": [{\"error_x\": {\"color\": \"#2a3f5f\"}, \"error_y\": {\"color\": \"#2a3f5f\"}, \"marker\": {\"line\": {\"color\": \"#E5ECF6\", \"width\": 0.5}}, \"type\": \"bar\"}], \"barpolar\": [{\"marker\": {\"line\": {\"color\": \"#E5ECF6\", \"width\": 0.5}}, \"type\": \"barpolar\"}], \"carpet\": [{\"aaxis\": {\"endlinecolor\": \"#2a3f5f\", \"gridcolor\": \"white\", \"linecolor\": \"white\", \"minorgridcolor\": \"white\", \"startlinecolor\": \"#2a3f5f\"}, \"baxis\": {\"endlinecolor\": \"#2a3f5f\", \"gridcolor\": \"white\", \"linecolor\": \"white\", \"minorgridcolor\": \"white\", \"startlinecolor\": \"#2a3f5f\"}, \"type\": \"carpet\"}], \"choropleth\": [{\"colorbar\": {\"outlinewidth\": 0, \"ticks\": \"\"}, \"type\": \"choropleth\"}], \"contour\": [{\"colorbar\": {\"outlinewidth\": 0, \"ticks\": \"\"}, \"colorscale\": [[0.0, \"#0d0887\"], [0.1111111111111111, \"#46039f\"], [0.2222222222222222, \"#7201a8\"], [0.3333333333333333, \"#9c179e\"], [0.4444444444444444, \"#bd3786\"], [0.5555555555555556, \"#d8576b\"], [0.6666666666666666, \"#ed7953\"], [0.7777777777777778, \"#fb9f3a\"], [0.8888888888888888, \"#fdca26\"], [1.0, \"#f0f921\"]], \"type\": \"contour\"}], \"contourcarpet\": [{\"colorbar\": {\"outlinewidth\": 0, \"ticks\": \"\"}, \"type\": \"contourcarpet\"}], \"heatmap\": [{\"colorbar\": {\"outlinewidth\": 0, \"ticks\": \"\"}, \"colorscale\": [[0.0, \"#0d0887\"], [0.1111111111111111, \"#46039f\"], [0.2222222222222222, \"#7201a8\"], [0.3333333333333333, \"#9c179e\"], [0.4444444444444444, \"#bd3786\"], [0.5555555555555556, \"#d8576b\"], [0.6666666666666666, \"#ed7953\"], [0.7777777777777778, \"#fb9f3a\"], [0.8888888888888888, \"#fdca26\"], [1.0, \"#f0f921\"]], \"type\": \"heatmap\"}], \"heatmapgl\": [{\"colorbar\": {\"outlinewidth\": 0, \"ticks\": \"\"}, \"colorscale\": [[0.0, \"#0d0887\"], [0.1111111111111111, \"#46039f\"], [0.2222222222222222, \"#7201a8\"], [0.3333333333333333, \"#9c179e\"], [0.4444444444444444, \"#bd3786\"], [0.5555555555555556, \"#d8576b\"], [0.6666666666666666, \"#ed7953\"], [0.7777777777777778, \"#fb9f3a\"], [0.8888888888888888, \"#fdca26\"], [1.0, \"#f0f921\"]], \"type\": \"heatmapgl\"}], \"histogram\": [{\"marker\": {\"colorbar\": {\"outlinewidth\": 0, \"ticks\": \"\"}}, \"type\": \"histogram\"}], \"histogram2d\": [{\"colorbar\": {\"outlinewidth\": 0, \"ticks\": \"\"}, \"colorscale\": [[0.0, \"#0d0887\"], [0.1111111111111111, \"#46039f\"], [0.2222222222222222, \"#7201a8\"], [0.3333333333333333, \"#9c179e\"], [0.4444444444444444, \"#bd3786\"], [0.5555555555555556, \"#d8576b\"], [0.6666666666666666, \"#ed7953\"], [0.7777777777777778, \"#fb9f3a\"], [0.8888888888888888, \"#fdca26\"], [1.0, \"#f0f921\"]], \"type\": \"histogram2d\"}], \"histogram2dcontour\": [{\"colorbar\": {\"outlinewidth\": 0, \"ticks\": \"\"}, \"colorscale\": [[0.0, \"#0d0887\"], [0.1111111111111111, \"#46039f\"], [0.2222222222222222, \"#7201a8\"], [0.3333333333333333, \"#9c179e\"], [0.4444444444444444, \"#bd3786\"], [0.5555555555555556, \"#d8576b\"], [0.6666666666666666, \"#ed7953\"], [0.7777777777777778, \"#fb9f3a\"], [0.8888888888888888, \"#fdca26\"], [1.0, \"#f0f921\"]], \"type\": \"histogram2dcontour\"}], \"mesh3d\": [{\"colorbar\": {\"outlinewidth\": 0, \"ticks\": \"\"}, \"type\": \"mesh3d\"}], \"parcoords\": [{\"line\": {\"colorbar\": {\"outlinewidth\": 0, \"ticks\": \"\"}}, \"type\": \"parcoords\"}], \"pie\": [{\"automargin\": true, \"type\": \"pie\"}], \"scatter\": [{\"marker\": {\"colorbar\": {\"outlinewidth\": 0, \"ticks\": \"\"}}, \"type\": \"scatter\"}], \"scatter3d\": [{\"line\": {\"colorbar\": {\"outlinewidth\": 0, \"ticks\": \"\"}}, \"marker\": {\"colorbar\": {\"outlinewidth\": 0, \"ticks\": \"\"}}, \"type\": \"scatter3d\"}], \"scattercarpet\": [{\"marker\": {\"colorbar\": {\"outlinewidth\": 0, \"ticks\": \"\"}}, \"type\": \"scattercarpet\"}], \"scattergeo\": [{\"marker\": {\"colorbar\": {\"outlinewidth\": 0, \"ticks\": \"\"}}, \"type\": \"scattergeo\"}], \"scattergl\": [{\"marker\": {\"colorbar\": {\"outlinewidth\": 0, \"ticks\": \"\"}}, \"type\": \"scattergl\"}], \"scattermapbox\": [{\"marker\": {\"colorbar\": {\"outlinewidth\": 0, \"ticks\": \"\"}}, \"type\": \"scattermapbox\"}], \"scatterpolar\": [{\"marker\": {\"colorbar\": {\"outlinewidth\": 0, \"ticks\": \"\"}}, \"type\": \"scatterpolar\"}], \"scatterpolargl\": [{\"marker\": {\"colorbar\": {\"outlinewidth\": 0, \"ticks\": \"\"}}, \"type\": \"scatterpolargl\"}], \"scatterternary\": [{\"marker\": {\"colorbar\": {\"outlinewidth\": 0, \"ticks\": \"\"}}, \"type\": \"scatterternary\"}], \"surface\": [{\"colorbar\": {\"outlinewidth\": 0, \"ticks\": \"\"}, \"colorscale\": [[0.0, \"#0d0887\"], [0.1111111111111111, \"#46039f\"], [0.2222222222222222, \"#7201a8\"], [0.3333333333333333, \"#9c179e\"], [0.4444444444444444, \"#bd3786\"], [0.5555555555555556, \"#d8576b\"], [0.6666666666666666, \"#ed7953\"], [0.7777777777777778, \"#fb9f3a\"], [0.8888888888888888, \"#fdca26\"], [1.0, \"#f0f921\"]], \"type\": \"surface\"}], \"table\": [{\"cells\": {\"fill\": {\"color\": \"#EBF0F8\"}, \"line\": {\"color\": \"white\"}}, \"header\": {\"fill\": {\"color\": \"#C8D4E3\"}, \"line\": {\"color\": \"white\"}}, \"type\": \"table\"}]}, \"layout\": {\"annotationdefaults\": {\"arrowcolor\": \"#2a3f5f\", \"arrowhead\": 0, \"arrowwidth\": 1}, \"coloraxis\": {\"colorbar\": {\"outlinewidth\": 0, \"ticks\": \"\"}}, \"colorscale\": {\"diverging\": [[0, \"#8e0152\"], [0.1, \"#c51b7d\"], [0.2, \"#de77ae\"], [0.3, \"#f1b6da\"], [0.4, \"#fde0ef\"], [0.5, \"#f7f7f7\"], [0.6, \"#e6f5d0\"], [0.7, \"#b8e186\"], [0.8, \"#7fbc41\"], [0.9, \"#4d9221\"], [1, \"#276419\"]], \"sequential\": [[0.0, \"#0d0887\"], [0.1111111111111111, \"#46039f\"], [0.2222222222222222, \"#7201a8\"], [0.3333333333333333, \"#9c179e\"], [0.4444444444444444, \"#bd3786\"], [0.5555555555555556, \"#d8576b\"], [0.6666666666666666, \"#ed7953\"], [0.7777777777777778, \"#fb9f3a\"], [0.8888888888888888, \"#fdca26\"], [1.0, \"#f0f921\"]], \"sequentialminus\": [[0.0, \"#0d0887\"], [0.1111111111111111, \"#46039f\"], [0.2222222222222222, \"#7201a8\"], [0.3333333333333333, \"#9c179e\"], [0.4444444444444444, \"#bd3786\"], [0.5555555555555556, \"#d8576b\"], [0.6666666666666666, \"#ed7953\"], [0.7777777777777778, \"#fb9f3a\"], [0.8888888888888888, \"#fdca26\"], [1.0, \"#f0f921\"]]}, \"colorway\": [\"#636efa\", \"#EF553B\", \"#00cc96\", \"#ab63fa\", \"#FFA15A\", \"#19d3f3\", \"#FF6692\", \"#B6E880\", \"#FF97FF\", \"#FECB52\"], \"font\": {\"color\": \"#2a3f5f\"}, \"geo\": {\"bgcolor\": \"white\", \"lakecolor\": \"white\", \"landcolor\": \"#E5ECF6\", \"showlakes\": true, \"showland\": true, \"subunitcolor\": \"white\"}, \"hoverlabel\": {\"align\": \"left\"}, \"hovermode\": \"closest\", \"mapbox\": {\"style\": \"light\"}, \"paper_bgcolor\": \"white\", \"plot_bgcolor\": \"#E5ECF6\", \"polar\": {\"angularaxis\": {\"gridcolor\": \"white\", \"linecolor\": \"white\", \"ticks\": \"\"}, \"bgcolor\": \"#E5ECF6\", \"radialaxis\": {\"gridcolor\": \"white\", \"linecolor\": \"white\", \"ticks\": \"\"}}, \"scene\": {\"xaxis\": {\"backgroundcolor\": \"#E5ECF6\", \"gridcolor\": \"white\", \"gridwidth\": 2, \"linecolor\": \"white\", \"showbackground\": true, \"ticks\": \"\", \"zerolinecolor\": \"white\"}, \"yaxis\": {\"backgroundcolor\": \"#E5ECF6\", \"gridcolor\": \"white\", \"gridwidth\": 2, \"linecolor\": \"white\", \"showbackground\": true, \"ticks\": \"\", \"zerolinecolor\": \"white\"}, \"zaxis\": {\"backgroundcolor\": \"#E5ECF6\", \"gridcolor\": \"white\", \"gridwidth\": 2, \"linecolor\": \"white\", \"showbackground\": true, \"ticks\": \"\", \"zerolinecolor\": \"white\"}}, \"shapedefaults\": {\"line\": {\"color\": \"#2a3f5f\"}}, \"ternary\": {\"aaxis\": {\"gridcolor\": \"white\", \"linecolor\": \"white\", \"ticks\": \"\"}, \"baxis\": {\"gridcolor\": \"white\", \"linecolor\": \"white\", \"ticks\": \"\"}, \"bgcolor\": \"#E5ECF6\", \"caxis\": {\"gridcolor\": \"white\", \"linecolor\": \"white\", \"ticks\": \"\"}}, \"title\": {\"x\": 0.05}, \"xaxis\": {\"automargin\": true, \"gridcolor\": \"white\", \"linecolor\": \"white\", \"ticks\": \"\", \"title\": {\"standoff\": 15}, \"zerolinecolor\": \"white\", \"zerolinewidth\": 2}, \"yaxis\": {\"automargin\": true, \"gridcolor\": \"white\", \"linecolor\": \"white\", \"ticks\": \"\", \"title\": {\"standoff\": 15}, \"zerolinecolor\": \"white\", \"zerolinewidth\": 2}}}, \"title\": {\"text\": \"Review Text Length Distribution\"}, \"xaxis\": {\"range\": [0, 1100], \"title\": {\"text\": \"review length\"}}, \"yaxis\": {\"range\": [0, 10], \"title\": {\"text\": \"count\"}}},                        {\"showLink\": true, \"linkText\": \"Export to plot.ly\", \"plotlyServerURL\": \"https://plot.ly\", \"responsive\": true}                    ).then(function(){\n",
       "                            \n",
       "var gd = document.getElementById('44875eda-1cde-4b83-a0c1-a9c474c89abc');\n",
       "var x = new MutationObserver(function (mutations, observer) {{\n",
       "        var display = window.getComputedStyle(gd).display;\n",
       "        if (!display || display === 'none') {{\n",
       "            console.log([gd, 'removed!']);\n",
       "            Plotly.purge(gd);\n",
       "            observer.disconnect();\n",
       "        }}\n",
       "}});\n",
       "\n",
       "// Listen for the removal of the full notebook cells\n",
       "var notebookContainer = gd.closest('#notebook-container');\n",
       "if (notebookContainer) {{\n",
       "    x.observe(notebookContainer, {childList: true});\n",
       "}}\n",
       "\n",
       "// Listen for the clearing of the current output cell\n",
       "var outputEl = gd.closest('.output');\n",
       "if (outputEl) {{\n",
       "    x.observe(outputEl, {childList: true});\n",
       "}}\n",
       "\n",
       "                        })                };                });            </script>        </div>"
      ]
     },
     "metadata": {},
     "output_type": "display_data"
    }
   ],
   "source": [
    "layout = go.Layout(\n",
    "        xaxis=dict(\n",
    "            range=[0, 1100],\n",
    "            title='review length'\n",
    "        ),\n",
    "        yaxis=dict(\n",
    "            range=[0, 10],\n",
    "            title='count'\n",
    "        ),\n",
    "        title='Review Text Length Distribution'\n",
    "    )\n",
    "\n",
    "df['len'].iplot(\n",
    "    kind='hist',\n",
    "    bins=25,\n",
    "    linecolor='black',\n",
    "    layout=layout)"
   ]
  },
  {
   "cell_type": "markdown",
   "metadata": {},
   "source": [
    "#### The distribution review text lengths"
   ]
  },
  {
   "cell_type": "code",
   "execution_count": 19,
   "metadata": {},
   "outputs": [
    {
     "data": {
      "application/vnd.plotly.v1+json": {
       "config": {
        "linkText": "Export to plot.ly",
        "plotlyServerURL": "https://plot.ly",
        "showLink": true
       },
       "data": [
        {
         "histfunc": "count",
         "histnorm": "",
         "marker": {
          "color": "rgba(255, 153, 51, 1.0)",
          "line": {
           "color": "#000000",
           "width": 1.3
          }
         },
         "name": "word_count",
         "nbinsx": 25,
         "opacity": 0.8,
         "orientation": "v",
         "type": "histogram",
         "x": [
          163,
          57,
          113,
          66,
          140,
          83,
          124,
          88,
          84,
          30,
          71,
          43,
          119,
          69,
          181,
          38,
          180,
          103,
          163,
          71,
          53,
          105,
          160,
          30,
          59,
          82,
          34,
          35,
          21,
          42
         ]
        }
       ],
       "layout": {
        "barmode": "overlay",
        "template": {
         "data": {
          "bar": [
           {
            "error_x": {
             "color": "#2a3f5f"
            },
            "error_y": {
             "color": "#2a3f5f"
            },
            "marker": {
             "line": {
              "color": "#E5ECF6",
              "width": 0.5
             }
            },
            "type": "bar"
           }
          ],
          "barpolar": [
           {
            "marker": {
             "line": {
              "color": "#E5ECF6",
              "width": 0.5
             }
            },
            "type": "barpolar"
           }
          ],
          "carpet": [
           {
            "aaxis": {
             "endlinecolor": "#2a3f5f",
             "gridcolor": "white",
             "linecolor": "white",
             "minorgridcolor": "white",
             "startlinecolor": "#2a3f5f"
            },
            "baxis": {
             "endlinecolor": "#2a3f5f",
             "gridcolor": "white",
             "linecolor": "white",
             "minorgridcolor": "white",
             "startlinecolor": "#2a3f5f"
            },
            "type": "carpet"
           }
          ],
          "choropleth": [
           {
            "colorbar": {
             "outlinewidth": 0,
             "ticks": ""
            },
            "type": "choropleth"
           }
          ],
          "contour": [
           {
            "colorbar": {
             "outlinewidth": 0,
             "ticks": ""
            },
            "colorscale": [
             [
              0,
              "#0d0887"
             ],
             [
              0.1111111111111111,
              "#46039f"
             ],
             [
              0.2222222222222222,
              "#7201a8"
             ],
             [
              0.3333333333333333,
              "#9c179e"
             ],
             [
              0.4444444444444444,
              "#bd3786"
             ],
             [
              0.5555555555555556,
              "#d8576b"
             ],
             [
              0.6666666666666666,
              "#ed7953"
             ],
             [
              0.7777777777777778,
              "#fb9f3a"
             ],
             [
              0.8888888888888888,
              "#fdca26"
             ],
             [
              1,
              "#f0f921"
             ]
            ],
            "type": "contour"
           }
          ],
          "contourcarpet": [
           {
            "colorbar": {
             "outlinewidth": 0,
             "ticks": ""
            },
            "type": "contourcarpet"
           }
          ],
          "heatmap": [
           {
            "colorbar": {
             "outlinewidth": 0,
             "ticks": ""
            },
            "colorscale": [
             [
              0,
              "#0d0887"
             ],
             [
              0.1111111111111111,
              "#46039f"
             ],
             [
              0.2222222222222222,
              "#7201a8"
             ],
             [
              0.3333333333333333,
              "#9c179e"
             ],
             [
              0.4444444444444444,
              "#bd3786"
             ],
             [
              0.5555555555555556,
              "#d8576b"
             ],
             [
              0.6666666666666666,
              "#ed7953"
             ],
             [
              0.7777777777777778,
              "#fb9f3a"
             ],
             [
              0.8888888888888888,
              "#fdca26"
             ],
             [
              1,
              "#f0f921"
             ]
            ],
            "type": "heatmap"
           }
          ],
          "heatmapgl": [
           {
            "colorbar": {
             "outlinewidth": 0,
             "ticks": ""
            },
            "colorscale": [
             [
              0,
              "#0d0887"
             ],
             [
              0.1111111111111111,
              "#46039f"
             ],
             [
              0.2222222222222222,
              "#7201a8"
             ],
             [
              0.3333333333333333,
              "#9c179e"
             ],
             [
              0.4444444444444444,
              "#bd3786"
             ],
             [
              0.5555555555555556,
              "#d8576b"
             ],
             [
              0.6666666666666666,
              "#ed7953"
             ],
             [
              0.7777777777777778,
              "#fb9f3a"
             ],
             [
              0.8888888888888888,
              "#fdca26"
             ],
             [
              1,
              "#f0f921"
             ]
            ],
            "type": "heatmapgl"
           }
          ],
          "histogram": [
           {
            "marker": {
             "colorbar": {
              "outlinewidth": 0,
              "ticks": ""
             }
            },
            "type": "histogram"
           }
          ],
          "histogram2d": [
           {
            "colorbar": {
             "outlinewidth": 0,
             "ticks": ""
            },
            "colorscale": [
             [
              0,
              "#0d0887"
             ],
             [
              0.1111111111111111,
              "#46039f"
             ],
             [
              0.2222222222222222,
              "#7201a8"
             ],
             [
              0.3333333333333333,
              "#9c179e"
             ],
             [
              0.4444444444444444,
              "#bd3786"
             ],
             [
              0.5555555555555556,
              "#d8576b"
             ],
             [
              0.6666666666666666,
              "#ed7953"
             ],
             [
              0.7777777777777778,
              "#fb9f3a"
             ],
             [
              0.8888888888888888,
              "#fdca26"
             ],
             [
              1,
              "#f0f921"
             ]
            ],
            "type": "histogram2d"
           }
          ],
          "histogram2dcontour": [
           {
            "colorbar": {
             "outlinewidth": 0,
             "ticks": ""
            },
            "colorscale": [
             [
              0,
              "#0d0887"
             ],
             [
              0.1111111111111111,
              "#46039f"
             ],
             [
              0.2222222222222222,
              "#7201a8"
             ],
             [
              0.3333333333333333,
              "#9c179e"
             ],
             [
              0.4444444444444444,
              "#bd3786"
             ],
             [
              0.5555555555555556,
              "#d8576b"
             ],
             [
              0.6666666666666666,
              "#ed7953"
             ],
             [
              0.7777777777777778,
              "#fb9f3a"
             ],
             [
              0.8888888888888888,
              "#fdca26"
             ],
             [
              1,
              "#f0f921"
             ]
            ],
            "type": "histogram2dcontour"
           }
          ],
          "mesh3d": [
           {
            "colorbar": {
             "outlinewidth": 0,
             "ticks": ""
            },
            "type": "mesh3d"
           }
          ],
          "parcoords": [
           {
            "line": {
             "colorbar": {
              "outlinewidth": 0,
              "ticks": ""
             }
            },
            "type": "parcoords"
           }
          ],
          "pie": [
           {
            "automargin": true,
            "type": "pie"
           }
          ],
          "scatter": [
           {
            "marker": {
             "colorbar": {
              "outlinewidth": 0,
              "ticks": ""
             }
            },
            "type": "scatter"
           }
          ],
          "scatter3d": [
           {
            "line": {
             "colorbar": {
              "outlinewidth": 0,
              "ticks": ""
             }
            },
            "marker": {
             "colorbar": {
              "outlinewidth": 0,
              "ticks": ""
             }
            },
            "type": "scatter3d"
           }
          ],
          "scattercarpet": [
           {
            "marker": {
             "colorbar": {
              "outlinewidth": 0,
              "ticks": ""
             }
            },
            "type": "scattercarpet"
           }
          ],
          "scattergeo": [
           {
            "marker": {
             "colorbar": {
              "outlinewidth": 0,
              "ticks": ""
             }
            },
            "type": "scattergeo"
           }
          ],
          "scattergl": [
           {
            "marker": {
             "colorbar": {
              "outlinewidth": 0,
              "ticks": ""
             }
            },
            "type": "scattergl"
           }
          ],
          "scattermapbox": [
           {
            "marker": {
             "colorbar": {
              "outlinewidth": 0,
              "ticks": ""
             }
            },
            "type": "scattermapbox"
           }
          ],
          "scatterpolar": [
           {
            "marker": {
             "colorbar": {
              "outlinewidth": 0,
              "ticks": ""
             }
            },
            "type": "scatterpolar"
           }
          ],
          "scatterpolargl": [
           {
            "marker": {
             "colorbar": {
              "outlinewidth": 0,
              "ticks": ""
             }
            },
            "type": "scatterpolargl"
           }
          ],
          "scatterternary": [
           {
            "marker": {
             "colorbar": {
              "outlinewidth": 0,
              "ticks": ""
             }
            },
            "type": "scatterternary"
           }
          ],
          "surface": [
           {
            "colorbar": {
             "outlinewidth": 0,
             "ticks": ""
            },
            "colorscale": [
             [
              0,
              "#0d0887"
             ],
             [
              0.1111111111111111,
              "#46039f"
             ],
             [
              0.2222222222222222,
              "#7201a8"
             ],
             [
              0.3333333333333333,
              "#9c179e"
             ],
             [
              0.4444444444444444,
              "#bd3786"
             ],
             [
              0.5555555555555556,
              "#d8576b"
             ],
             [
              0.6666666666666666,
              "#ed7953"
             ],
             [
              0.7777777777777778,
              "#fb9f3a"
             ],
             [
              0.8888888888888888,
              "#fdca26"
             ],
             [
              1,
              "#f0f921"
             ]
            ],
            "type": "surface"
           }
          ],
          "table": [
           {
            "cells": {
             "fill": {
              "color": "#EBF0F8"
             },
             "line": {
              "color": "white"
             }
            },
            "header": {
             "fill": {
              "color": "#C8D4E3"
             },
             "line": {
              "color": "white"
             }
            },
            "type": "table"
           }
          ]
         },
         "layout": {
          "annotationdefaults": {
           "arrowcolor": "#2a3f5f",
           "arrowhead": 0,
           "arrowwidth": 1
          },
          "coloraxis": {
           "colorbar": {
            "outlinewidth": 0,
            "ticks": ""
           }
          },
          "colorscale": {
           "diverging": [
            [
             0,
             "#8e0152"
            ],
            [
             0.1,
             "#c51b7d"
            ],
            [
             0.2,
             "#de77ae"
            ],
            [
             0.3,
             "#f1b6da"
            ],
            [
             0.4,
             "#fde0ef"
            ],
            [
             0.5,
             "#f7f7f7"
            ],
            [
             0.6,
             "#e6f5d0"
            ],
            [
             0.7,
             "#b8e186"
            ],
            [
             0.8,
             "#7fbc41"
            ],
            [
             0.9,
             "#4d9221"
            ],
            [
             1,
             "#276419"
            ]
           ],
           "sequential": [
            [
             0,
             "#0d0887"
            ],
            [
             0.1111111111111111,
             "#46039f"
            ],
            [
             0.2222222222222222,
             "#7201a8"
            ],
            [
             0.3333333333333333,
             "#9c179e"
            ],
            [
             0.4444444444444444,
             "#bd3786"
            ],
            [
             0.5555555555555556,
             "#d8576b"
            ],
            [
             0.6666666666666666,
             "#ed7953"
            ],
            [
             0.7777777777777778,
             "#fb9f3a"
            ],
            [
             0.8888888888888888,
             "#fdca26"
            ],
            [
             1,
             "#f0f921"
            ]
           ],
           "sequentialminus": [
            [
             0,
             "#0d0887"
            ],
            [
             0.1111111111111111,
             "#46039f"
            ],
            [
             0.2222222222222222,
             "#7201a8"
            ],
            [
             0.3333333333333333,
             "#9c179e"
            ],
            [
             0.4444444444444444,
             "#bd3786"
            ],
            [
             0.5555555555555556,
             "#d8576b"
            ],
            [
             0.6666666666666666,
             "#ed7953"
            ],
            [
             0.7777777777777778,
             "#fb9f3a"
            ],
            [
             0.8888888888888888,
             "#fdca26"
            ],
            [
             1,
             "#f0f921"
            ]
           ]
          },
          "colorway": [
           "#636efa",
           "#EF553B",
           "#00cc96",
           "#ab63fa",
           "#FFA15A",
           "#19d3f3",
           "#FF6692",
           "#B6E880",
           "#FF97FF",
           "#FECB52"
          ],
          "font": {
           "color": "#2a3f5f"
          },
          "geo": {
           "bgcolor": "white",
           "lakecolor": "white",
           "landcolor": "#E5ECF6",
           "showlakes": true,
           "showland": true,
           "subunitcolor": "white"
          },
          "hoverlabel": {
           "align": "left"
          },
          "hovermode": "closest",
          "mapbox": {
           "style": "light"
          },
          "paper_bgcolor": "white",
          "plot_bgcolor": "#E5ECF6",
          "polar": {
           "angularaxis": {
            "gridcolor": "white",
            "linecolor": "white",
            "ticks": ""
           },
           "bgcolor": "#E5ECF6",
           "radialaxis": {
            "gridcolor": "white",
            "linecolor": "white",
            "ticks": ""
           }
          },
          "scene": {
           "xaxis": {
            "backgroundcolor": "#E5ECF6",
            "gridcolor": "white",
            "gridwidth": 2,
            "linecolor": "white",
            "showbackground": true,
            "ticks": "",
            "zerolinecolor": "white"
           },
           "yaxis": {
            "backgroundcolor": "#E5ECF6",
            "gridcolor": "white",
            "gridwidth": 2,
            "linecolor": "white",
            "showbackground": true,
            "ticks": "",
            "zerolinecolor": "white"
           },
           "zaxis": {
            "backgroundcolor": "#E5ECF6",
            "gridcolor": "white",
            "gridwidth": 2,
            "linecolor": "white",
            "showbackground": true,
            "ticks": "",
            "zerolinecolor": "white"
           }
          },
          "shapedefaults": {
           "line": {
            "color": "#2a3f5f"
           }
          },
          "ternary": {
           "aaxis": {
            "gridcolor": "white",
            "linecolor": "white",
            "ticks": ""
           },
           "baxis": {
            "gridcolor": "white",
            "linecolor": "white",
            "ticks": ""
           },
           "bgcolor": "#E5ECF6",
           "caxis": {
            "gridcolor": "white",
            "linecolor": "white",
            "ticks": ""
           }
          },
          "title": {
           "x": 0.05
          },
          "xaxis": {
           "automargin": true,
           "gridcolor": "white",
           "linecolor": "white",
           "ticks": "",
           "title": {
            "standoff": 15
           },
           "zerolinecolor": "white",
           "zerolinewidth": 2
          },
          "yaxis": {
           "automargin": true,
           "gridcolor": "white",
           "linecolor": "white",
           "ticks": "",
           "title": {
            "standoff": 15
           },
           "zerolinecolor": "white",
           "zerolinewidth": 2
          }
         }
        },
        "title": {
         "text": "Review Text Word Count Distribution"
        },
        "xaxis": {
         "range": [
          0,
          200
         ],
         "title": {
          "text": "word count"
         }
        },
        "yaxis": {
         "range": [
          0,
          10
         ],
         "title": {
          "text": "count"
         }
        }
       }
      },
      "text/html": [
       "<div>                            <div id=\"ddda36e0-9eb6-4f0b-9fda-484ab89d4084\" class=\"plotly-graph-div\" style=\"height:525px; width:100%;\"></div>            <script type=\"text/javascript\">                require([\"plotly\"], function(Plotly) {                    window.PLOTLYENV=window.PLOTLYENV || {};\n",
       "                    window.PLOTLYENV.BASE_URL='https://plot.ly';                                    if (document.getElementById(\"ddda36e0-9eb6-4f0b-9fda-484ab89d4084\")) {                    Plotly.newPlot(                        \"ddda36e0-9eb6-4f0b-9fda-484ab89d4084\",                        [{\"histfunc\": \"count\", \"histnorm\": \"\", \"marker\": {\"color\": \"rgba(255, 153, 51, 1.0)\", \"line\": {\"color\": \"#000000\", \"width\": 1.3}}, \"name\": \"word_count\", \"nbinsx\": 25, \"opacity\": 0.8, \"orientation\": \"v\", \"type\": \"histogram\", \"x\": [163, 57, 113, 66, 140, 83, 124, 88, 84, 30, 71, 43, 119, 69, 181, 38, 180, 103, 163, 71, 53, 105, 160, 30, 59, 82, 34, 35, 21, 42]}],                        {\"barmode\": \"overlay\", \"template\": {\"data\": {\"bar\": [{\"error_x\": {\"color\": \"#2a3f5f\"}, \"error_y\": {\"color\": \"#2a3f5f\"}, \"marker\": {\"line\": {\"color\": \"#E5ECF6\", \"width\": 0.5}}, \"type\": \"bar\"}], \"barpolar\": [{\"marker\": {\"line\": {\"color\": \"#E5ECF6\", \"width\": 0.5}}, \"type\": \"barpolar\"}], \"carpet\": [{\"aaxis\": {\"endlinecolor\": \"#2a3f5f\", \"gridcolor\": \"white\", \"linecolor\": \"white\", \"minorgridcolor\": \"white\", \"startlinecolor\": \"#2a3f5f\"}, \"baxis\": {\"endlinecolor\": \"#2a3f5f\", \"gridcolor\": \"white\", \"linecolor\": \"white\", \"minorgridcolor\": \"white\", \"startlinecolor\": \"#2a3f5f\"}, \"type\": \"carpet\"}], \"choropleth\": [{\"colorbar\": {\"outlinewidth\": 0, \"ticks\": \"\"}, \"type\": \"choropleth\"}], \"contour\": [{\"colorbar\": {\"outlinewidth\": 0, \"ticks\": \"\"}, \"colorscale\": [[0.0, \"#0d0887\"], [0.1111111111111111, \"#46039f\"], [0.2222222222222222, \"#7201a8\"], [0.3333333333333333, \"#9c179e\"], [0.4444444444444444, \"#bd3786\"], [0.5555555555555556, \"#d8576b\"], [0.6666666666666666, \"#ed7953\"], [0.7777777777777778, \"#fb9f3a\"], [0.8888888888888888, \"#fdca26\"], [1.0, \"#f0f921\"]], \"type\": \"contour\"}], \"contourcarpet\": [{\"colorbar\": {\"outlinewidth\": 0, \"ticks\": \"\"}, \"type\": \"contourcarpet\"}], \"heatmap\": [{\"colorbar\": {\"outlinewidth\": 0, \"ticks\": \"\"}, \"colorscale\": [[0.0, \"#0d0887\"], [0.1111111111111111, \"#46039f\"], [0.2222222222222222, \"#7201a8\"], [0.3333333333333333, \"#9c179e\"], [0.4444444444444444, \"#bd3786\"], [0.5555555555555556, \"#d8576b\"], [0.6666666666666666, \"#ed7953\"], [0.7777777777777778, \"#fb9f3a\"], [0.8888888888888888, \"#fdca26\"], [1.0, \"#f0f921\"]], \"type\": \"heatmap\"}], \"heatmapgl\": [{\"colorbar\": {\"outlinewidth\": 0, \"ticks\": \"\"}, \"colorscale\": [[0.0, \"#0d0887\"], [0.1111111111111111, \"#46039f\"], [0.2222222222222222, \"#7201a8\"], [0.3333333333333333, \"#9c179e\"], [0.4444444444444444, \"#bd3786\"], [0.5555555555555556, \"#d8576b\"], [0.6666666666666666, \"#ed7953\"], [0.7777777777777778, \"#fb9f3a\"], [0.8888888888888888, \"#fdca26\"], [1.0, \"#f0f921\"]], \"type\": \"heatmapgl\"}], \"histogram\": [{\"marker\": {\"colorbar\": {\"outlinewidth\": 0, \"ticks\": \"\"}}, \"type\": \"histogram\"}], \"histogram2d\": [{\"colorbar\": {\"outlinewidth\": 0, \"ticks\": \"\"}, \"colorscale\": [[0.0, \"#0d0887\"], [0.1111111111111111, \"#46039f\"], [0.2222222222222222, \"#7201a8\"], [0.3333333333333333, \"#9c179e\"], [0.4444444444444444, \"#bd3786\"], [0.5555555555555556, \"#d8576b\"], [0.6666666666666666, \"#ed7953\"], [0.7777777777777778, \"#fb9f3a\"], [0.8888888888888888, \"#fdca26\"], [1.0, \"#f0f921\"]], \"type\": \"histogram2d\"}], \"histogram2dcontour\": [{\"colorbar\": {\"outlinewidth\": 0, \"ticks\": \"\"}, \"colorscale\": [[0.0, \"#0d0887\"], [0.1111111111111111, \"#46039f\"], [0.2222222222222222, \"#7201a8\"], [0.3333333333333333, \"#9c179e\"], [0.4444444444444444, \"#bd3786\"], [0.5555555555555556, \"#d8576b\"], [0.6666666666666666, \"#ed7953\"], [0.7777777777777778, \"#fb9f3a\"], [0.8888888888888888, \"#fdca26\"], [1.0, \"#f0f921\"]], \"type\": \"histogram2dcontour\"}], \"mesh3d\": [{\"colorbar\": {\"outlinewidth\": 0, \"ticks\": \"\"}, \"type\": \"mesh3d\"}], \"parcoords\": [{\"line\": {\"colorbar\": {\"outlinewidth\": 0, \"ticks\": \"\"}}, \"type\": \"parcoords\"}], \"pie\": [{\"automargin\": true, \"type\": \"pie\"}], \"scatter\": [{\"marker\": {\"colorbar\": {\"outlinewidth\": 0, \"ticks\": \"\"}}, \"type\": \"scatter\"}], \"scatter3d\": [{\"line\": {\"colorbar\": {\"outlinewidth\": 0, \"ticks\": \"\"}}, \"marker\": {\"colorbar\": {\"outlinewidth\": 0, \"ticks\": \"\"}}, \"type\": \"scatter3d\"}], \"scattercarpet\": [{\"marker\": {\"colorbar\": {\"outlinewidth\": 0, \"ticks\": \"\"}}, \"type\": \"scattercarpet\"}], \"scattergeo\": [{\"marker\": {\"colorbar\": {\"outlinewidth\": 0, \"ticks\": \"\"}}, \"type\": \"scattergeo\"}], \"scattergl\": [{\"marker\": {\"colorbar\": {\"outlinewidth\": 0, \"ticks\": \"\"}}, \"type\": \"scattergl\"}], \"scattermapbox\": [{\"marker\": {\"colorbar\": {\"outlinewidth\": 0, \"ticks\": \"\"}}, \"type\": \"scattermapbox\"}], \"scatterpolar\": [{\"marker\": {\"colorbar\": {\"outlinewidth\": 0, \"ticks\": \"\"}}, \"type\": \"scatterpolar\"}], \"scatterpolargl\": [{\"marker\": {\"colorbar\": {\"outlinewidth\": 0, \"ticks\": \"\"}}, \"type\": \"scatterpolargl\"}], \"scatterternary\": [{\"marker\": {\"colorbar\": {\"outlinewidth\": 0, \"ticks\": \"\"}}, \"type\": \"scatterternary\"}], \"surface\": [{\"colorbar\": {\"outlinewidth\": 0, \"ticks\": \"\"}, \"colorscale\": [[0.0, \"#0d0887\"], [0.1111111111111111, \"#46039f\"], [0.2222222222222222, \"#7201a8\"], [0.3333333333333333, \"#9c179e\"], [0.4444444444444444, \"#bd3786\"], [0.5555555555555556, \"#d8576b\"], [0.6666666666666666, \"#ed7953\"], [0.7777777777777778, \"#fb9f3a\"], [0.8888888888888888, \"#fdca26\"], [1.0, \"#f0f921\"]], \"type\": \"surface\"}], \"table\": [{\"cells\": {\"fill\": {\"color\": \"#EBF0F8\"}, \"line\": {\"color\": \"white\"}}, \"header\": {\"fill\": {\"color\": \"#C8D4E3\"}, \"line\": {\"color\": \"white\"}}, \"type\": \"table\"}]}, \"layout\": {\"annotationdefaults\": {\"arrowcolor\": \"#2a3f5f\", \"arrowhead\": 0, \"arrowwidth\": 1}, \"coloraxis\": {\"colorbar\": {\"outlinewidth\": 0, \"ticks\": \"\"}}, \"colorscale\": {\"diverging\": [[0, \"#8e0152\"], [0.1, \"#c51b7d\"], [0.2, \"#de77ae\"], [0.3, \"#f1b6da\"], [0.4, \"#fde0ef\"], [0.5, \"#f7f7f7\"], [0.6, \"#e6f5d0\"], [0.7, \"#b8e186\"], [0.8, \"#7fbc41\"], [0.9, \"#4d9221\"], [1, \"#276419\"]], \"sequential\": [[0.0, \"#0d0887\"], [0.1111111111111111, \"#46039f\"], [0.2222222222222222, \"#7201a8\"], [0.3333333333333333, \"#9c179e\"], [0.4444444444444444, \"#bd3786\"], [0.5555555555555556, \"#d8576b\"], [0.6666666666666666, \"#ed7953\"], [0.7777777777777778, \"#fb9f3a\"], [0.8888888888888888, \"#fdca26\"], [1.0, \"#f0f921\"]], \"sequentialminus\": [[0.0, \"#0d0887\"], [0.1111111111111111, \"#46039f\"], [0.2222222222222222, \"#7201a8\"], [0.3333333333333333, \"#9c179e\"], [0.4444444444444444, \"#bd3786\"], [0.5555555555555556, \"#d8576b\"], [0.6666666666666666, \"#ed7953\"], [0.7777777777777778, \"#fb9f3a\"], [0.8888888888888888, \"#fdca26\"], [1.0, \"#f0f921\"]]}, \"colorway\": [\"#636efa\", \"#EF553B\", \"#00cc96\", \"#ab63fa\", \"#FFA15A\", \"#19d3f3\", \"#FF6692\", \"#B6E880\", \"#FF97FF\", \"#FECB52\"], \"font\": {\"color\": \"#2a3f5f\"}, \"geo\": {\"bgcolor\": \"white\", \"lakecolor\": \"white\", \"landcolor\": \"#E5ECF6\", \"showlakes\": true, \"showland\": true, \"subunitcolor\": \"white\"}, \"hoverlabel\": {\"align\": \"left\"}, \"hovermode\": \"closest\", \"mapbox\": {\"style\": \"light\"}, \"paper_bgcolor\": \"white\", \"plot_bgcolor\": \"#E5ECF6\", \"polar\": {\"angularaxis\": {\"gridcolor\": \"white\", \"linecolor\": \"white\", \"ticks\": \"\"}, \"bgcolor\": \"#E5ECF6\", \"radialaxis\": {\"gridcolor\": \"white\", \"linecolor\": \"white\", \"ticks\": \"\"}}, \"scene\": {\"xaxis\": {\"backgroundcolor\": \"#E5ECF6\", \"gridcolor\": \"white\", \"gridwidth\": 2, \"linecolor\": \"white\", \"showbackground\": true, \"ticks\": \"\", \"zerolinecolor\": \"white\"}, \"yaxis\": {\"backgroundcolor\": \"#E5ECF6\", \"gridcolor\": \"white\", \"gridwidth\": 2, \"linecolor\": \"white\", \"showbackground\": true, \"ticks\": \"\", \"zerolinecolor\": \"white\"}, \"zaxis\": {\"backgroundcolor\": \"#E5ECF6\", \"gridcolor\": \"white\", \"gridwidth\": 2, \"linecolor\": \"white\", \"showbackground\": true, \"ticks\": \"\", \"zerolinecolor\": \"white\"}}, \"shapedefaults\": {\"line\": {\"color\": \"#2a3f5f\"}}, \"ternary\": {\"aaxis\": {\"gridcolor\": \"white\", \"linecolor\": \"white\", \"ticks\": \"\"}, \"baxis\": {\"gridcolor\": \"white\", \"linecolor\": \"white\", \"ticks\": \"\"}, \"bgcolor\": \"#E5ECF6\", \"caxis\": {\"gridcolor\": \"white\", \"linecolor\": \"white\", \"ticks\": \"\"}}, \"title\": {\"x\": 0.05}, \"xaxis\": {\"automargin\": true, \"gridcolor\": \"white\", \"linecolor\": \"white\", \"ticks\": \"\", \"title\": {\"standoff\": 15}, \"zerolinecolor\": \"white\", \"zerolinewidth\": 2}, \"yaxis\": {\"automargin\": true, \"gridcolor\": \"white\", \"linecolor\": \"white\", \"ticks\": \"\", \"title\": {\"standoff\": 15}, \"zerolinecolor\": \"white\", \"zerolinewidth\": 2}}}, \"title\": {\"text\": \"Review Text Word Count Distribution\"}, \"xaxis\": {\"range\": [0, 200], \"title\": {\"text\": \"word count\"}}, \"yaxis\": {\"range\": [0, 10], \"title\": {\"text\": \"count\"}}},                        {\"showLink\": true, \"linkText\": \"Export to plot.ly\", \"plotlyServerURL\": \"https://plot.ly\", \"responsive\": true}                    ).then(function(){\n",
       "                            \n",
       "var gd = document.getElementById('ddda36e0-9eb6-4f0b-9fda-484ab89d4084');\n",
       "var x = new MutationObserver(function (mutations, observer) {{\n",
       "        var display = window.getComputedStyle(gd).display;\n",
       "        if (!display || display === 'none') {{\n",
       "            console.log([gd, 'removed!']);\n",
       "            Plotly.purge(gd);\n",
       "            observer.disconnect();\n",
       "        }}\n",
       "}});\n",
       "\n",
       "// Listen for the removal of the full notebook cells\n",
       "var notebookContainer = gd.closest('#notebook-container');\n",
       "if (notebookContainer) {{\n",
       "    x.observe(notebookContainer, {childList: true});\n",
       "}}\n",
       "\n",
       "// Listen for the clearing of the current output cell\n",
       "var outputEl = gd.closest('.output');\n",
       "if (outputEl) {{\n",
       "    x.observe(outputEl, {childList: true});\n",
       "}}\n",
       "\n",
       "                        })                };                });            </script>        </div>"
      ]
     },
     "metadata": {},
     "output_type": "display_data"
    }
   ],
   "source": [
    "layout = go.Layout(\n",
    "        xaxis=dict(\n",
    "            range=[0, 200],\n",
    "            title='word count'\n",
    "        ),\n",
    "        yaxis=dict(\n",
    "            range=[0, 10],\n",
    "            title='count'\n",
    "        ),\n",
    "        title='Review Text Word Count Distribution'\n",
    "    )\n",
    "\n",
    "df['word_count'].iplot(\n",
    "    kind='hist',\n",
    "    bins=25,\n",
    "    linecolor='black',\n",
    "    layout=layout)"
   ]
  },
  {
   "cell_type": "markdown",
   "metadata": {},
   "source": [
    "#### Get the frequency of each word and get the top 20 frequent words"
   ]
  },
  {
   "cell_type": "code",
   "execution_count": 20,
   "metadata": {},
   "outputs": [
    {
     "name": "stdout",
     "output_type": "stream",
     "text": [
      "food 38\n",
      "great 33\n",
      "good 31\n",
      "view 27\n",
      "kids 21\n",
      "preserve 16\n",
      "springs 15\n",
      "cafe 15\n",
      "service 13\n",
      "love 12\n",
      "place 11\n",
      "menu 11\n",
      "lunch 11\n",
      "friendly 9\n",
      "excellent 9\n",
      "divine 9\n",
      "vegas 9\n",
      "drinks 9\n",
      "time 8\n",
      "perfect 8\n"
     ]
    }
   ],
   "source": [
    "def get_top_n_words(corpus, n=None):\n",
    "    vec = CountVectorizer(stop_words = 'english').fit(corpus)\n",
    "    bag_of_words = vec.transform(corpus)\n",
    "    sum_words = bag_of_words.sum(axis=0) \n",
    "    words_freq = [(word, sum_words[0, idx]) for word, idx in vec.vocabulary_.items()]\n",
    "    words_freq =sorted(words_freq, key = lambda x: x[1], reverse=True)\n",
    "    return words_freq[:n]\n",
    "\n",
    "common_words = get_top_n_words(df['resolved'], 20)\n",
    "for word, freq in common_words:\n",
    "    print(word, freq)\n",
    "df2 = pd.DataFrame(common_words, columns = ['resolved' , 'count'])\n"
   ]
  },
  {
   "cell_type": "code",
   "execution_count": 21,
   "metadata": {},
   "outputs": [
    {
     "data": {
      "application/vnd.plotly.v1+json": {
       "config": {
        "linkText": "Export to plot.ly",
        "plotlyServerURL": "https://plot.ly",
        "showLink": true
       },
       "data": [
        {
         "marker": {
          "color": "rgba(255, 153, 51, 0.6)",
          "line": {
           "color": "rgba(255, 153, 51, 1.0)",
           "width": 1
          }
         },
         "name": "count",
         "orientation": "v",
         "text": "",
         "type": "bar",
         "x": [
          "food",
          "great",
          "good",
          "view",
          "kids",
          "preserve",
          "cafe",
          "springs",
          "service",
          "love",
          "menu",
          "lunch",
          "place",
          "vegas",
          "friendly",
          "excellent",
          "drinks",
          "divine",
          "perfect",
          "time"
         ],
         "y": [
          38,
          33,
          31,
          27,
          21,
          16,
          15,
          15,
          13,
          12,
          11,
          11,
          11,
          9,
          9,
          9,
          9,
          9,
          8,
          8
         ]
        }
       ],
       "layout": {
        "legend": {
         "bgcolor": "#F5F6F9",
         "font": {
          "color": "#4D5663"
         }
        },
        "paper_bgcolor": "#F5F6F9",
        "plot_bgcolor": "#F5F6F9",
        "template": {
         "data": {
          "bar": [
           {
            "error_x": {
             "color": "#2a3f5f"
            },
            "error_y": {
             "color": "#2a3f5f"
            },
            "marker": {
             "line": {
              "color": "#E5ECF6",
              "width": 0.5
             }
            },
            "type": "bar"
           }
          ],
          "barpolar": [
           {
            "marker": {
             "line": {
              "color": "#E5ECF6",
              "width": 0.5
             }
            },
            "type": "barpolar"
           }
          ],
          "carpet": [
           {
            "aaxis": {
             "endlinecolor": "#2a3f5f",
             "gridcolor": "white",
             "linecolor": "white",
             "minorgridcolor": "white",
             "startlinecolor": "#2a3f5f"
            },
            "baxis": {
             "endlinecolor": "#2a3f5f",
             "gridcolor": "white",
             "linecolor": "white",
             "minorgridcolor": "white",
             "startlinecolor": "#2a3f5f"
            },
            "type": "carpet"
           }
          ],
          "choropleth": [
           {
            "colorbar": {
             "outlinewidth": 0,
             "ticks": ""
            },
            "type": "choropleth"
           }
          ],
          "contour": [
           {
            "colorbar": {
             "outlinewidth": 0,
             "ticks": ""
            },
            "colorscale": [
             [
              0,
              "#0d0887"
             ],
             [
              0.1111111111111111,
              "#46039f"
             ],
             [
              0.2222222222222222,
              "#7201a8"
             ],
             [
              0.3333333333333333,
              "#9c179e"
             ],
             [
              0.4444444444444444,
              "#bd3786"
             ],
             [
              0.5555555555555556,
              "#d8576b"
             ],
             [
              0.6666666666666666,
              "#ed7953"
             ],
             [
              0.7777777777777778,
              "#fb9f3a"
             ],
             [
              0.8888888888888888,
              "#fdca26"
             ],
             [
              1,
              "#f0f921"
             ]
            ],
            "type": "contour"
           }
          ],
          "contourcarpet": [
           {
            "colorbar": {
             "outlinewidth": 0,
             "ticks": ""
            },
            "type": "contourcarpet"
           }
          ],
          "heatmap": [
           {
            "colorbar": {
             "outlinewidth": 0,
             "ticks": ""
            },
            "colorscale": [
             [
              0,
              "#0d0887"
             ],
             [
              0.1111111111111111,
              "#46039f"
             ],
             [
              0.2222222222222222,
              "#7201a8"
             ],
             [
              0.3333333333333333,
              "#9c179e"
             ],
             [
              0.4444444444444444,
              "#bd3786"
             ],
             [
              0.5555555555555556,
              "#d8576b"
             ],
             [
              0.6666666666666666,
              "#ed7953"
             ],
             [
              0.7777777777777778,
              "#fb9f3a"
             ],
             [
              0.8888888888888888,
              "#fdca26"
             ],
             [
              1,
              "#f0f921"
             ]
            ],
            "type": "heatmap"
           }
          ],
          "heatmapgl": [
           {
            "colorbar": {
             "outlinewidth": 0,
             "ticks": ""
            },
            "colorscale": [
             [
              0,
              "#0d0887"
             ],
             [
              0.1111111111111111,
              "#46039f"
             ],
             [
              0.2222222222222222,
              "#7201a8"
             ],
             [
              0.3333333333333333,
              "#9c179e"
             ],
             [
              0.4444444444444444,
              "#bd3786"
             ],
             [
              0.5555555555555556,
              "#d8576b"
             ],
             [
              0.6666666666666666,
              "#ed7953"
             ],
             [
              0.7777777777777778,
              "#fb9f3a"
             ],
             [
              0.8888888888888888,
              "#fdca26"
             ],
             [
              1,
              "#f0f921"
             ]
            ],
            "type": "heatmapgl"
           }
          ],
          "histogram": [
           {
            "marker": {
             "colorbar": {
              "outlinewidth": 0,
              "ticks": ""
             }
            },
            "type": "histogram"
           }
          ],
          "histogram2d": [
           {
            "colorbar": {
             "outlinewidth": 0,
             "ticks": ""
            },
            "colorscale": [
             [
              0,
              "#0d0887"
             ],
             [
              0.1111111111111111,
              "#46039f"
             ],
             [
              0.2222222222222222,
              "#7201a8"
             ],
             [
              0.3333333333333333,
              "#9c179e"
             ],
             [
              0.4444444444444444,
              "#bd3786"
             ],
             [
              0.5555555555555556,
              "#d8576b"
             ],
             [
              0.6666666666666666,
              "#ed7953"
             ],
             [
              0.7777777777777778,
              "#fb9f3a"
             ],
             [
              0.8888888888888888,
              "#fdca26"
             ],
             [
              1,
              "#f0f921"
             ]
            ],
            "type": "histogram2d"
           }
          ],
          "histogram2dcontour": [
           {
            "colorbar": {
             "outlinewidth": 0,
             "ticks": ""
            },
            "colorscale": [
             [
              0,
              "#0d0887"
             ],
             [
              0.1111111111111111,
              "#46039f"
             ],
             [
              0.2222222222222222,
              "#7201a8"
             ],
             [
              0.3333333333333333,
              "#9c179e"
             ],
             [
              0.4444444444444444,
              "#bd3786"
             ],
             [
              0.5555555555555556,
              "#d8576b"
             ],
             [
              0.6666666666666666,
              "#ed7953"
             ],
             [
              0.7777777777777778,
              "#fb9f3a"
             ],
             [
              0.8888888888888888,
              "#fdca26"
             ],
             [
              1,
              "#f0f921"
             ]
            ],
            "type": "histogram2dcontour"
           }
          ],
          "mesh3d": [
           {
            "colorbar": {
             "outlinewidth": 0,
             "ticks": ""
            },
            "type": "mesh3d"
           }
          ],
          "parcoords": [
           {
            "line": {
             "colorbar": {
              "outlinewidth": 0,
              "ticks": ""
             }
            },
            "type": "parcoords"
           }
          ],
          "pie": [
           {
            "automargin": true,
            "type": "pie"
           }
          ],
          "scatter": [
           {
            "marker": {
             "colorbar": {
              "outlinewidth": 0,
              "ticks": ""
             }
            },
            "type": "scatter"
           }
          ],
          "scatter3d": [
           {
            "line": {
             "colorbar": {
              "outlinewidth": 0,
              "ticks": ""
             }
            },
            "marker": {
             "colorbar": {
              "outlinewidth": 0,
              "ticks": ""
             }
            },
            "type": "scatter3d"
           }
          ],
          "scattercarpet": [
           {
            "marker": {
             "colorbar": {
              "outlinewidth": 0,
              "ticks": ""
             }
            },
            "type": "scattercarpet"
           }
          ],
          "scattergeo": [
           {
            "marker": {
             "colorbar": {
              "outlinewidth": 0,
              "ticks": ""
             }
            },
            "type": "scattergeo"
           }
          ],
          "scattergl": [
           {
            "marker": {
             "colorbar": {
              "outlinewidth": 0,
              "ticks": ""
             }
            },
            "type": "scattergl"
           }
          ],
          "scattermapbox": [
           {
            "marker": {
             "colorbar": {
              "outlinewidth": 0,
              "ticks": ""
             }
            },
            "type": "scattermapbox"
           }
          ],
          "scatterpolar": [
           {
            "marker": {
             "colorbar": {
              "outlinewidth": 0,
              "ticks": ""
             }
            },
            "type": "scatterpolar"
           }
          ],
          "scatterpolargl": [
           {
            "marker": {
             "colorbar": {
              "outlinewidth": 0,
              "ticks": ""
             }
            },
            "type": "scatterpolargl"
           }
          ],
          "scatterternary": [
           {
            "marker": {
             "colorbar": {
              "outlinewidth": 0,
              "ticks": ""
             }
            },
            "type": "scatterternary"
           }
          ],
          "surface": [
           {
            "colorbar": {
             "outlinewidth": 0,
             "ticks": ""
            },
            "colorscale": [
             [
              0,
              "#0d0887"
             ],
             [
              0.1111111111111111,
              "#46039f"
             ],
             [
              0.2222222222222222,
              "#7201a8"
             ],
             [
              0.3333333333333333,
              "#9c179e"
             ],
             [
              0.4444444444444444,
              "#bd3786"
             ],
             [
              0.5555555555555556,
              "#d8576b"
             ],
             [
              0.6666666666666666,
              "#ed7953"
             ],
             [
              0.7777777777777778,
              "#fb9f3a"
             ],
             [
              0.8888888888888888,
              "#fdca26"
             ],
             [
              1,
              "#f0f921"
             ]
            ],
            "type": "surface"
           }
          ],
          "table": [
           {
            "cells": {
             "fill": {
              "color": "#EBF0F8"
             },
             "line": {
              "color": "white"
             }
            },
            "header": {
             "fill": {
              "color": "#C8D4E3"
             },
             "line": {
              "color": "white"
             }
            },
            "type": "table"
           }
          ]
         },
         "layout": {
          "annotationdefaults": {
           "arrowcolor": "#2a3f5f",
           "arrowhead": 0,
           "arrowwidth": 1
          },
          "coloraxis": {
           "colorbar": {
            "outlinewidth": 0,
            "ticks": ""
           }
          },
          "colorscale": {
           "diverging": [
            [
             0,
             "#8e0152"
            ],
            [
             0.1,
             "#c51b7d"
            ],
            [
             0.2,
             "#de77ae"
            ],
            [
             0.3,
             "#f1b6da"
            ],
            [
             0.4,
             "#fde0ef"
            ],
            [
             0.5,
             "#f7f7f7"
            ],
            [
             0.6,
             "#e6f5d0"
            ],
            [
             0.7,
             "#b8e186"
            ],
            [
             0.8,
             "#7fbc41"
            ],
            [
             0.9,
             "#4d9221"
            ],
            [
             1,
             "#276419"
            ]
           ],
           "sequential": [
            [
             0,
             "#0d0887"
            ],
            [
             0.1111111111111111,
             "#46039f"
            ],
            [
             0.2222222222222222,
             "#7201a8"
            ],
            [
             0.3333333333333333,
             "#9c179e"
            ],
            [
             0.4444444444444444,
             "#bd3786"
            ],
            [
             0.5555555555555556,
             "#d8576b"
            ],
            [
             0.6666666666666666,
             "#ed7953"
            ],
            [
             0.7777777777777778,
             "#fb9f3a"
            ],
            [
             0.8888888888888888,
             "#fdca26"
            ],
            [
             1,
             "#f0f921"
            ]
           ],
           "sequentialminus": [
            [
             0,
             "#0d0887"
            ],
            [
             0.1111111111111111,
             "#46039f"
            ],
            [
             0.2222222222222222,
             "#7201a8"
            ],
            [
             0.3333333333333333,
             "#9c179e"
            ],
            [
             0.4444444444444444,
             "#bd3786"
            ],
            [
             0.5555555555555556,
             "#d8576b"
            ],
            [
             0.6666666666666666,
             "#ed7953"
            ],
            [
             0.7777777777777778,
             "#fb9f3a"
            ],
            [
             0.8888888888888888,
             "#fdca26"
            ],
            [
             1,
             "#f0f921"
            ]
           ]
          },
          "colorway": [
           "#636efa",
           "#EF553B",
           "#00cc96",
           "#ab63fa",
           "#FFA15A",
           "#19d3f3",
           "#FF6692",
           "#B6E880",
           "#FF97FF",
           "#FECB52"
          ],
          "font": {
           "color": "#2a3f5f"
          },
          "geo": {
           "bgcolor": "white",
           "lakecolor": "white",
           "landcolor": "#E5ECF6",
           "showlakes": true,
           "showland": true,
           "subunitcolor": "white"
          },
          "hoverlabel": {
           "align": "left"
          },
          "hovermode": "closest",
          "mapbox": {
           "style": "light"
          },
          "paper_bgcolor": "white",
          "plot_bgcolor": "#E5ECF6",
          "polar": {
           "angularaxis": {
            "gridcolor": "white",
            "linecolor": "white",
            "ticks": ""
           },
           "bgcolor": "#E5ECF6",
           "radialaxis": {
            "gridcolor": "white",
            "linecolor": "white",
            "ticks": ""
           }
          },
          "scene": {
           "xaxis": {
            "backgroundcolor": "#E5ECF6",
            "gridcolor": "white",
            "gridwidth": 2,
            "linecolor": "white",
            "showbackground": true,
            "ticks": "",
            "zerolinecolor": "white"
           },
           "yaxis": {
            "backgroundcolor": "#E5ECF6",
            "gridcolor": "white",
            "gridwidth": 2,
            "linecolor": "white",
            "showbackground": true,
            "ticks": "",
            "zerolinecolor": "white"
           },
           "zaxis": {
            "backgroundcolor": "#E5ECF6",
            "gridcolor": "white",
            "gridwidth": 2,
            "linecolor": "white",
            "showbackground": true,
            "ticks": "",
            "zerolinecolor": "white"
           }
          },
          "shapedefaults": {
           "line": {
            "color": "#2a3f5f"
           }
          },
          "ternary": {
           "aaxis": {
            "gridcolor": "white",
            "linecolor": "white",
            "ticks": ""
           },
           "baxis": {
            "gridcolor": "white",
            "linecolor": "white",
            "ticks": ""
           },
           "bgcolor": "#E5ECF6",
           "caxis": {
            "gridcolor": "white",
            "linecolor": "white",
            "ticks": ""
           }
          },
          "title": {
           "x": 0.05
          },
          "xaxis": {
           "automargin": true,
           "gridcolor": "white",
           "linecolor": "white",
           "ticks": "",
           "title": {
            "standoff": 15
           },
           "zerolinecolor": "white",
           "zerolinewidth": 2
          },
          "yaxis": {
           "automargin": true,
           "gridcolor": "white",
           "linecolor": "white",
           "ticks": "",
           "title": {
            "standoff": 15
           },
           "zerolinecolor": "white",
           "zerolinewidth": 2
          }
         }
        },
        "title": {
         "font": {
          "color": "#4D5663"
         },
         "text": "Top 20 words in review after removing stop words"
        },
        "xaxis": {
         "gridcolor": "#E1E5ED",
         "linecolor": "black",
         "showgrid": true,
         "tickfont": {
          "color": "#4D5663"
         },
         "title": {
          "font": {
           "color": "#4D5663"
          },
          "text": ""
         },
         "zerolinecolor": "#E1E5ED"
        },
        "yaxis": {
         "gridcolor": "#E1E5ED",
         "linecolor": "black",
         "showgrid": true,
         "tickfont": {
          "color": "#4D5663"
         },
         "title": {
          "font": {
           "color": "#4D5663"
          },
          "text": "Count"
         },
         "zerolinecolor": "#E1E5ED"
        }
       }
      },
      "text/html": [
       "<div>                            <div id=\"c5db96d4-2c5b-4da8-be82-203f6f589a9f\" class=\"plotly-graph-div\" style=\"height:525px; width:100%;\"></div>            <script type=\"text/javascript\">                require([\"plotly\"], function(Plotly) {                    window.PLOTLYENV=window.PLOTLYENV || {};\n",
       "                    window.PLOTLYENV.BASE_URL='https://plot.ly';                                    if (document.getElementById(\"c5db96d4-2c5b-4da8-be82-203f6f589a9f\")) {                    Plotly.newPlot(                        \"c5db96d4-2c5b-4da8-be82-203f6f589a9f\",                        [{\"marker\": {\"color\": \"rgba(255, 153, 51, 0.6)\", \"line\": {\"color\": \"rgba(255, 153, 51, 1.0)\", \"width\": 1}}, \"name\": \"count\", \"orientation\": \"v\", \"text\": \"\", \"type\": \"bar\", \"x\": [\"food\", \"great\", \"good\", \"view\", \"kids\", \"preserve\", \"cafe\", \"springs\", \"service\", \"love\", \"menu\", \"lunch\", \"place\", \"vegas\", \"friendly\", \"excellent\", \"drinks\", \"divine\", \"perfect\", \"time\"], \"y\": [38, 33, 31, 27, 21, 16, 15, 15, 13, 12, 11, 11, 11, 9, 9, 9, 9, 9, 8, 8]}],                        {\"legend\": {\"bgcolor\": \"#F5F6F9\", \"font\": {\"color\": \"#4D5663\"}}, \"paper_bgcolor\": \"#F5F6F9\", \"plot_bgcolor\": \"#F5F6F9\", \"template\": {\"data\": {\"bar\": [{\"error_x\": {\"color\": \"#2a3f5f\"}, \"error_y\": {\"color\": \"#2a3f5f\"}, \"marker\": {\"line\": {\"color\": \"#E5ECF6\", \"width\": 0.5}}, \"type\": \"bar\"}], \"barpolar\": [{\"marker\": {\"line\": {\"color\": \"#E5ECF6\", \"width\": 0.5}}, \"type\": \"barpolar\"}], \"carpet\": [{\"aaxis\": {\"endlinecolor\": \"#2a3f5f\", \"gridcolor\": \"white\", \"linecolor\": \"white\", \"minorgridcolor\": \"white\", \"startlinecolor\": \"#2a3f5f\"}, \"baxis\": {\"endlinecolor\": \"#2a3f5f\", \"gridcolor\": \"white\", \"linecolor\": \"white\", \"minorgridcolor\": \"white\", \"startlinecolor\": \"#2a3f5f\"}, \"type\": \"carpet\"}], \"choropleth\": [{\"colorbar\": {\"outlinewidth\": 0, \"ticks\": \"\"}, \"type\": \"choropleth\"}], \"contour\": [{\"colorbar\": {\"outlinewidth\": 0, \"ticks\": \"\"}, \"colorscale\": [[0.0, \"#0d0887\"], [0.1111111111111111, \"#46039f\"], [0.2222222222222222, \"#7201a8\"], [0.3333333333333333, \"#9c179e\"], [0.4444444444444444, \"#bd3786\"], [0.5555555555555556, \"#d8576b\"], [0.6666666666666666, \"#ed7953\"], [0.7777777777777778, \"#fb9f3a\"], [0.8888888888888888, \"#fdca26\"], [1.0, \"#f0f921\"]], \"type\": \"contour\"}], \"contourcarpet\": [{\"colorbar\": {\"outlinewidth\": 0, \"ticks\": \"\"}, \"type\": \"contourcarpet\"}], \"heatmap\": [{\"colorbar\": {\"outlinewidth\": 0, \"ticks\": \"\"}, \"colorscale\": [[0.0, \"#0d0887\"], [0.1111111111111111, \"#46039f\"], [0.2222222222222222, \"#7201a8\"], [0.3333333333333333, \"#9c179e\"], [0.4444444444444444, \"#bd3786\"], [0.5555555555555556, \"#d8576b\"], [0.6666666666666666, \"#ed7953\"], [0.7777777777777778, \"#fb9f3a\"], [0.8888888888888888, \"#fdca26\"], [1.0, \"#f0f921\"]], \"type\": \"heatmap\"}], \"heatmapgl\": [{\"colorbar\": {\"outlinewidth\": 0, \"ticks\": \"\"}, \"colorscale\": [[0.0, \"#0d0887\"], [0.1111111111111111, \"#46039f\"], [0.2222222222222222, \"#7201a8\"], [0.3333333333333333, \"#9c179e\"], [0.4444444444444444, \"#bd3786\"], [0.5555555555555556, \"#d8576b\"], [0.6666666666666666, \"#ed7953\"], [0.7777777777777778, \"#fb9f3a\"], [0.8888888888888888, \"#fdca26\"], [1.0, \"#f0f921\"]], \"type\": \"heatmapgl\"}], \"histogram\": [{\"marker\": {\"colorbar\": {\"outlinewidth\": 0, \"ticks\": \"\"}}, \"type\": \"histogram\"}], \"histogram2d\": [{\"colorbar\": {\"outlinewidth\": 0, \"ticks\": \"\"}, \"colorscale\": [[0.0, \"#0d0887\"], [0.1111111111111111, \"#46039f\"], [0.2222222222222222, \"#7201a8\"], [0.3333333333333333, \"#9c179e\"], [0.4444444444444444, \"#bd3786\"], [0.5555555555555556, \"#d8576b\"], [0.6666666666666666, \"#ed7953\"], [0.7777777777777778, \"#fb9f3a\"], [0.8888888888888888, \"#fdca26\"], [1.0, \"#f0f921\"]], \"type\": \"histogram2d\"}], \"histogram2dcontour\": [{\"colorbar\": {\"outlinewidth\": 0, \"ticks\": \"\"}, \"colorscale\": [[0.0, \"#0d0887\"], [0.1111111111111111, \"#46039f\"], [0.2222222222222222, \"#7201a8\"], [0.3333333333333333, \"#9c179e\"], [0.4444444444444444, \"#bd3786\"], [0.5555555555555556, \"#d8576b\"], [0.6666666666666666, \"#ed7953\"], [0.7777777777777778, \"#fb9f3a\"], [0.8888888888888888, \"#fdca26\"], [1.0, \"#f0f921\"]], \"type\": \"histogram2dcontour\"}], \"mesh3d\": [{\"colorbar\": {\"outlinewidth\": 0, \"ticks\": \"\"}, \"type\": \"mesh3d\"}], \"parcoords\": [{\"line\": {\"colorbar\": {\"outlinewidth\": 0, \"ticks\": \"\"}}, \"type\": \"parcoords\"}], \"pie\": [{\"automargin\": true, \"type\": \"pie\"}], \"scatter\": [{\"marker\": {\"colorbar\": {\"outlinewidth\": 0, \"ticks\": \"\"}}, \"type\": \"scatter\"}], \"scatter3d\": [{\"line\": {\"colorbar\": {\"outlinewidth\": 0, \"ticks\": \"\"}}, \"marker\": {\"colorbar\": {\"outlinewidth\": 0, \"ticks\": \"\"}}, \"type\": \"scatter3d\"}], \"scattercarpet\": [{\"marker\": {\"colorbar\": {\"outlinewidth\": 0, \"ticks\": \"\"}}, \"type\": \"scattercarpet\"}], \"scattergeo\": [{\"marker\": {\"colorbar\": {\"outlinewidth\": 0, \"ticks\": \"\"}}, \"type\": \"scattergeo\"}], \"scattergl\": [{\"marker\": {\"colorbar\": {\"outlinewidth\": 0, \"ticks\": \"\"}}, \"type\": \"scattergl\"}], \"scattermapbox\": [{\"marker\": {\"colorbar\": {\"outlinewidth\": 0, \"ticks\": \"\"}}, \"type\": \"scattermapbox\"}], \"scatterpolar\": [{\"marker\": {\"colorbar\": {\"outlinewidth\": 0, \"ticks\": \"\"}}, \"type\": \"scatterpolar\"}], \"scatterpolargl\": [{\"marker\": {\"colorbar\": {\"outlinewidth\": 0, \"ticks\": \"\"}}, \"type\": \"scatterpolargl\"}], \"scatterternary\": [{\"marker\": {\"colorbar\": {\"outlinewidth\": 0, \"ticks\": \"\"}}, \"type\": \"scatterternary\"}], \"surface\": [{\"colorbar\": {\"outlinewidth\": 0, \"ticks\": \"\"}, \"colorscale\": [[0.0, \"#0d0887\"], [0.1111111111111111, \"#46039f\"], [0.2222222222222222, \"#7201a8\"], [0.3333333333333333, \"#9c179e\"], [0.4444444444444444, \"#bd3786\"], [0.5555555555555556, \"#d8576b\"], [0.6666666666666666, \"#ed7953\"], [0.7777777777777778, \"#fb9f3a\"], [0.8888888888888888, \"#fdca26\"], [1.0, \"#f0f921\"]], \"type\": \"surface\"}], \"table\": [{\"cells\": {\"fill\": {\"color\": \"#EBF0F8\"}, \"line\": {\"color\": \"white\"}}, \"header\": {\"fill\": {\"color\": \"#C8D4E3\"}, \"line\": {\"color\": \"white\"}}, \"type\": \"table\"}]}, \"layout\": {\"annotationdefaults\": {\"arrowcolor\": \"#2a3f5f\", \"arrowhead\": 0, \"arrowwidth\": 1}, \"coloraxis\": {\"colorbar\": {\"outlinewidth\": 0, \"ticks\": \"\"}}, \"colorscale\": {\"diverging\": [[0, \"#8e0152\"], [0.1, \"#c51b7d\"], [0.2, \"#de77ae\"], [0.3, \"#f1b6da\"], [0.4, \"#fde0ef\"], [0.5, \"#f7f7f7\"], [0.6, \"#e6f5d0\"], [0.7, \"#b8e186\"], [0.8, \"#7fbc41\"], [0.9, \"#4d9221\"], [1, \"#276419\"]], \"sequential\": [[0.0, \"#0d0887\"], [0.1111111111111111, \"#46039f\"], [0.2222222222222222, \"#7201a8\"], [0.3333333333333333, \"#9c179e\"], [0.4444444444444444, \"#bd3786\"], [0.5555555555555556, \"#d8576b\"], [0.6666666666666666, \"#ed7953\"], [0.7777777777777778, \"#fb9f3a\"], [0.8888888888888888, \"#fdca26\"], [1.0, \"#f0f921\"]], \"sequentialminus\": [[0.0, \"#0d0887\"], [0.1111111111111111, \"#46039f\"], [0.2222222222222222, \"#7201a8\"], [0.3333333333333333, \"#9c179e\"], [0.4444444444444444, \"#bd3786\"], [0.5555555555555556, \"#d8576b\"], [0.6666666666666666, \"#ed7953\"], [0.7777777777777778, \"#fb9f3a\"], [0.8888888888888888, \"#fdca26\"], [1.0, \"#f0f921\"]]}, \"colorway\": [\"#636efa\", \"#EF553B\", \"#00cc96\", \"#ab63fa\", \"#FFA15A\", \"#19d3f3\", \"#FF6692\", \"#B6E880\", \"#FF97FF\", \"#FECB52\"], \"font\": {\"color\": \"#2a3f5f\"}, \"geo\": {\"bgcolor\": \"white\", \"lakecolor\": \"white\", \"landcolor\": \"#E5ECF6\", \"showlakes\": true, \"showland\": true, \"subunitcolor\": \"white\"}, \"hoverlabel\": {\"align\": \"left\"}, \"hovermode\": \"closest\", \"mapbox\": {\"style\": \"light\"}, \"paper_bgcolor\": \"white\", \"plot_bgcolor\": \"#E5ECF6\", \"polar\": {\"angularaxis\": {\"gridcolor\": \"white\", \"linecolor\": \"white\", \"ticks\": \"\"}, \"bgcolor\": \"#E5ECF6\", \"radialaxis\": {\"gridcolor\": \"white\", \"linecolor\": \"white\", \"ticks\": \"\"}}, \"scene\": {\"xaxis\": {\"backgroundcolor\": \"#E5ECF6\", \"gridcolor\": \"white\", \"gridwidth\": 2, \"linecolor\": \"white\", \"showbackground\": true, \"ticks\": \"\", \"zerolinecolor\": \"white\"}, \"yaxis\": {\"backgroundcolor\": \"#E5ECF6\", \"gridcolor\": \"white\", \"gridwidth\": 2, \"linecolor\": \"white\", \"showbackground\": true, \"ticks\": \"\", \"zerolinecolor\": \"white\"}, \"zaxis\": {\"backgroundcolor\": \"#E5ECF6\", \"gridcolor\": \"white\", \"gridwidth\": 2, \"linecolor\": \"white\", \"showbackground\": true, \"ticks\": \"\", \"zerolinecolor\": \"white\"}}, \"shapedefaults\": {\"line\": {\"color\": \"#2a3f5f\"}}, \"ternary\": {\"aaxis\": {\"gridcolor\": \"white\", \"linecolor\": \"white\", \"ticks\": \"\"}, \"baxis\": {\"gridcolor\": \"white\", \"linecolor\": \"white\", \"ticks\": \"\"}, \"bgcolor\": \"#E5ECF6\", \"caxis\": {\"gridcolor\": \"white\", \"linecolor\": \"white\", \"ticks\": \"\"}}, \"title\": {\"x\": 0.05}, \"xaxis\": {\"automargin\": true, \"gridcolor\": \"white\", \"linecolor\": \"white\", \"ticks\": \"\", \"title\": {\"standoff\": 15}, \"zerolinecolor\": \"white\", \"zerolinewidth\": 2}, \"yaxis\": {\"automargin\": true, \"gridcolor\": \"white\", \"linecolor\": \"white\", \"ticks\": \"\", \"title\": {\"standoff\": 15}, \"zerolinecolor\": \"white\", \"zerolinewidth\": 2}}}, \"title\": {\"font\": {\"color\": \"#4D5663\"}, \"text\": \"Top 20 words in review after removing stop words\"}, \"xaxis\": {\"gridcolor\": \"#E1E5ED\", \"linecolor\": \"black\", \"showgrid\": true, \"tickfont\": {\"color\": \"#4D5663\"}, \"title\": {\"font\": {\"color\": \"#4D5663\"}, \"text\": \"\"}, \"zerolinecolor\": \"#E1E5ED\"}, \"yaxis\": {\"gridcolor\": \"#E1E5ED\", \"linecolor\": \"black\", \"showgrid\": true, \"tickfont\": {\"color\": \"#4D5663\"}, \"title\": {\"font\": {\"color\": \"#4D5663\"}, \"text\": \"Count\"}, \"zerolinecolor\": \"#E1E5ED\"}},                        {\"showLink\": true, \"linkText\": \"Export to plot.ly\", \"plotlyServerURL\": \"https://plot.ly\", \"responsive\": true}                    ).then(function(){\n",
       "                            \n",
       "var gd = document.getElementById('c5db96d4-2c5b-4da8-be82-203f6f589a9f');\n",
       "var x = new MutationObserver(function (mutations, observer) {{\n",
       "        var display = window.getComputedStyle(gd).display;\n",
       "        if (!display || display === 'none') {{\n",
       "            console.log([gd, 'removed!']);\n",
       "            Plotly.purge(gd);\n",
       "            observer.disconnect();\n",
       "        }}\n",
       "}});\n",
       "\n",
       "// Listen for the removal of the full notebook cells\n",
       "var notebookContainer = gd.closest('#notebook-container');\n",
       "if (notebookContainer) {{\n",
       "    x.observe(notebookContainer, {childList: true});\n",
       "}}\n",
       "\n",
       "// Listen for the clearing of the current output cell\n",
       "var outputEl = gd.closest('.output');\n",
       "if (outputEl) {{\n",
       "    x.observe(outputEl, {childList: true});\n",
       "}}\n",
       "\n",
       "                        })                };                });            </script>        </div>"
      ]
     },
     "metadata": {},
     "output_type": "display_data"
    }
   ],
   "source": [
    "df2.groupby('resolved').sum()['count'].sort_values(ascending=False).iplot(\n",
    "    kind='bar', yTitle='Count', linecolor='black', title='Top 20 words in review after removing stop words')"
   ]
  },
  {
   "cell_type": "markdown",
   "metadata": {},
   "source": [
    "#### Get Bigram to see the most common pairs"
   ]
  },
  {
   "cell_type": "code",
   "execution_count": 22,
   "metadata": {},
   "outputs": [
    {
     "name": "stdout",
     "output_type": "stream",
     "text": [
      "great view 12\n",
      "springs preserve 10\n",
      "divine cafe 7\n",
      "good drinks 7\n",
      "great food 6\n",
      "good view 6\n",
      "good food 6\n",
      "happy hour 6\n",
      "kids mac 6\n",
      "mac cheese 6\n",
      "food great 5\n",
      "friendly staff 4\n",
      "food good 4\n",
      "year old 4\n",
      "springs cafe 4\n",
      "monte cristo 4\n",
      "outdoor seating 3\n",
      "view great 3\n",
      "having lunch 3\n",
      "eaten cafe 3\n"
     ]
    }
   ],
   "source": [
    "def get_top_n_bigram(corpus, n=None):\n",
    "    vec = CountVectorizer(ngram_range=(2, 2), stop_words='english').fit(corpus)\n",
    "    bag_of_words = vec.transform(corpus)\n",
    "    sum_words = bag_of_words.sum(axis=0) \n",
    "    words_freq = [(word, sum_words[0, idx]) for word, idx in vec.vocabulary_.items()]\n",
    "    words_freq =sorted(words_freq, key = lambda x: x[1], reverse=True)\n",
    "    return words_freq[:n]\n",
    "\n",
    "common_words = get_top_n_bigram(df['resolved'], 20)\n",
    "for word, freq in common_words:\n",
    "    print(word, freq)\n",
    "df4 = pd.DataFrame(common_words, columns = ['resolved' , 'count'])\n",
    "\n"
   ]
  },
  {
   "cell_type": "code",
   "execution_count": 23,
   "metadata": {},
   "outputs": [
    {
     "data": {
      "application/vnd.plotly.v1+json": {
       "config": {
        "linkText": "Export to plot.ly",
        "plotlyServerURL": "https://plot.ly",
        "showLink": true
       },
       "data": [
        {
         "marker": {
          "color": "rgba(255, 153, 51, 0.6)",
          "line": {
           "color": "rgba(255, 153, 51, 1.0)",
           "width": 1
          }
         },
         "name": "count",
         "orientation": "v",
         "text": "",
         "type": "bar",
         "x": [
          "great view",
          "springs preserve",
          "good drinks",
          "divine cafe",
          "mac cheese",
          "kids mac",
          "happy hour",
          "great food",
          "good view",
          "good food",
          "food great",
          "monte cristo",
          "springs cafe",
          "friendly staff",
          "food good",
          "year old",
          "outdoor seating",
          "having lunch",
          "view great",
          "eaten cafe"
         ],
         "y": [
          12,
          10,
          7,
          7,
          6,
          6,
          6,
          6,
          6,
          6,
          5,
          4,
          4,
          4,
          4,
          4,
          3,
          3,
          3,
          3
         ]
        }
       ],
       "layout": {
        "legend": {
         "bgcolor": "#F5F6F9",
         "font": {
          "color": "#4D5663"
         }
        },
        "paper_bgcolor": "#F5F6F9",
        "plot_bgcolor": "#F5F6F9",
        "template": {
         "data": {
          "bar": [
           {
            "error_x": {
             "color": "#2a3f5f"
            },
            "error_y": {
             "color": "#2a3f5f"
            },
            "marker": {
             "line": {
              "color": "#E5ECF6",
              "width": 0.5
             }
            },
            "type": "bar"
           }
          ],
          "barpolar": [
           {
            "marker": {
             "line": {
              "color": "#E5ECF6",
              "width": 0.5
             }
            },
            "type": "barpolar"
           }
          ],
          "carpet": [
           {
            "aaxis": {
             "endlinecolor": "#2a3f5f",
             "gridcolor": "white",
             "linecolor": "white",
             "minorgridcolor": "white",
             "startlinecolor": "#2a3f5f"
            },
            "baxis": {
             "endlinecolor": "#2a3f5f",
             "gridcolor": "white",
             "linecolor": "white",
             "minorgridcolor": "white",
             "startlinecolor": "#2a3f5f"
            },
            "type": "carpet"
           }
          ],
          "choropleth": [
           {
            "colorbar": {
             "outlinewidth": 0,
             "ticks": ""
            },
            "type": "choropleth"
           }
          ],
          "contour": [
           {
            "colorbar": {
             "outlinewidth": 0,
             "ticks": ""
            },
            "colorscale": [
             [
              0,
              "#0d0887"
             ],
             [
              0.1111111111111111,
              "#46039f"
             ],
             [
              0.2222222222222222,
              "#7201a8"
             ],
             [
              0.3333333333333333,
              "#9c179e"
             ],
             [
              0.4444444444444444,
              "#bd3786"
             ],
             [
              0.5555555555555556,
              "#d8576b"
             ],
             [
              0.6666666666666666,
              "#ed7953"
             ],
             [
              0.7777777777777778,
              "#fb9f3a"
             ],
             [
              0.8888888888888888,
              "#fdca26"
             ],
             [
              1,
              "#f0f921"
             ]
            ],
            "type": "contour"
           }
          ],
          "contourcarpet": [
           {
            "colorbar": {
             "outlinewidth": 0,
             "ticks": ""
            },
            "type": "contourcarpet"
           }
          ],
          "heatmap": [
           {
            "colorbar": {
             "outlinewidth": 0,
             "ticks": ""
            },
            "colorscale": [
             [
              0,
              "#0d0887"
             ],
             [
              0.1111111111111111,
              "#46039f"
             ],
             [
              0.2222222222222222,
              "#7201a8"
             ],
             [
              0.3333333333333333,
              "#9c179e"
             ],
             [
              0.4444444444444444,
              "#bd3786"
             ],
             [
              0.5555555555555556,
              "#d8576b"
             ],
             [
              0.6666666666666666,
              "#ed7953"
             ],
             [
              0.7777777777777778,
              "#fb9f3a"
             ],
             [
              0.8888888888888888,
              "#fdca26"
             ],
             [
              1,
              "#f0f921"
             ]
            ],
            "type": "heatmap"
           }
          ],
          "heatmapgl": [
           {
            "colorbar": {
             "outlinewidth": 0,
             "ticks": ""
            },
            "colorscale": [
             [
              0,
              "#0d0887"
             ],
             [
              0.1111111111111111,
              "#46039f"
             ],
             [
              0.2222222222222222,
              "#7201a8"
             ],
             [
              0.3333333333333333,
              "#9c179e"
             ],
             [
              0.4444444444444444,
              "#bd3786"
             ],
             [
              0.5555555555555556,
              "#d8576b"
             ],
             [
              0.6666666666666666,
              "#ed7953"
             ],
             [
              0.7777777777777778,
              "#fb9f3a"
             ],
             [
              0.8888888888888888,
              "#fdca26"
             ],
             [
              1,
              "#f0f921"
             ]
            ],
            "type": "heatmapgl"
           }
          ],
          "histogram": [
           {
            "marker": {
             "colorbar": {
              "outlinewidth": 0,
              "ticks": ""
             }
            },
            "type": "histogram"
           }
          ],
          "histogram2d": [
           {
            "colorbar": {
             "outlinewidth": 0,
             "ticks": ""
            },
            "colorscale": [
             [
              0,
              "#0d0887"
             ],
             [
              0.1111111111111111,
              "#46039f"
             ],
             [
              0.2222222222222222,
              "#7201a8"
             ],
             [
              0.3333333333333333,
              "#9c179e"
             ],
             [
              0.4444444444444444,
              "#bd3786"
             ],
             [
              0.5555555555555556,
              "#d8576b"
             ],
             [
              0.6666666666666666,
              "#ed7953"
             ],
             [
              0.7777777777777778,
              "#fb9f3a"
             ],
             [
              0.8888888888888888,
              "#fdca26"
             ],
             [
              1,
              "#f0f921"
             ]
            ],
            "type": "histogram2d"
           }
          ],
          "histogram2dcontour": [
           {
            "colorbar": {
             "outlinewidth": 0,
             "ticks": ""
            },
            "colorscale": [
             [
              0,
              "#0d0887"
             ],
             [
              0.1111111111111111,
              "#46039f"
             ],
             [
              0.2222222222222222,
              "#7201a8"
             ],
             [
              0.3333333333333333,
              "#9c179e"
             ],
             [
              0.4444444444444444,
              "#bd3786"
             ],
             [
              0.5555555555555556,
              "#d8576b"
             ],
             [
              0.6666666666666666,
              "#ed7953"
             ],
             [
              0.7777777777777778,
              "#fb9f3a"
             ],
             [
              0.8888888888888888,
              "#fdca26"
             ],
             [
              1,
              "#f0f921"
             ]
            ],
            "type": "histogram2dcontour"
           }
          ],
          "mesh3d": [
           {
            "colorbar": {
             "outlinewidth": 0,
             "ticks": ""
            },
            "type": "mesh3d"
           }
          ],
          "parcoords": [
           {
            "line": {
             "colorbar": {
              "outlinewidth": 0,
              "ticks": ""
             }
            },
            "type": "parcoords"
           }
          ],
          "pie": [
           {
            "automargin": true,
            "type": "pie"
           }
          ],
          "scatter": [
           {
            "marker": {
             "colorbar": {
              "outlinewidth": 0,
              "ticks": ""
             }
            },
            "type": "scatter"
           }
          ],
          "scatter3d": [
           {
            "line": {
             "colorbar": {
              "outlinewidth": 0,
              "ticks": ""
             }
            },
            "marker": {
             "colorbar": {
              "outlinewidth": 0,
              "ticks": ""
             }
            },
            "type": "scatter3d"
           }
          ],
          "scattercarpet": [
           {
            "marker": {
             "colorbar": {
              "outlinewidth": 0,
              "ticks": ""
             }
            },
            "type": "scattercarpet"
           }
          ],
          "scattergeo": [
           {
            "marker": {
             "colorbar": {
              "outlinewidth": 0,
              "ticks": ""
             }
            },
            "type": "scattergeo"
           }
          ],
          "scattergl": [
           {
            "marker": {
             "colorbar": {
              "outlinewidth": 0,
              "ticks": ""
             }
            },
            "type": "scattergl"
           }
          ],
          "scattermapbox": [
           {
            "marker": {
             "colorbar": {
              "outlinewidth": 0,
              "ticks": ""
             }
            },
            "type": "scattermapbox"
           }
          ],
          "scatterpolar": [
           {
            "marker": {
             "colorbar": {
              "outlinewidth": 0,
              "ticks": ""
             }
            },
            "type": "scatterpolar"
           }
          ],
          "scatterpolargl": [
           {
            "marker": {
             "colorbar": {
              "outlinewidth": 0,
              "ticks": ""
             }
            },
            "type": "scatterpolargl"
           }
          ],
          "scatterternary": [
           {
            "marker": {
             "colorbar": {
              "outlinewidth": 0,
              "ticks": ""
             }
            },
            "type": "scatterternary"
           }
          ],
          "surface": [
           {
            "colorbar": {
             "outlinewidth": 0,
             "ticks": ""
            },
            "colorscale": [
             [
              0,
              "#0d0887"
             ],
             [
              0.1111111111111111,
              "#46039f"
             ],
             [
              0.2222222222222222,
              "#7201a8"
             ],
             [
              0.3333333333333333,
              "#9c179e"
             ],
             [
              0.4444444444444444,
              "#bd3786"
             ],
             [
              0.5555555555555556,
              "#d8576b"
             ],
             [
              0.6666666666666666,
              "#ed7953"
             ],
             [
              0.7777777777777778,
              "#fb9f3a"
             ],
             [
              0.8888888888888888,
              "#fdca26"
             ],
             [
              1,
              "#f0f921"
             ]
            ],
            "type": "surface"
           }
          ],
          "table": [
           {
            "cells": {
             "fill": {
              "color": "#EBF0F8"
             },
             "line": {
              "color": "white"
             }
            },
            "header": {
             "fill": {
              "color": "#C8D4E3"
             },
             "line": {
              "color": "white"
             }
            },
            "type": "table"
           }
          ]
         },
         "layout": {
          "annotationdefaults": {
           "arrowcolor": "#2a3f5f",
           "arrowhead": 0,
           "arrowwidth": 1
          },
          "coloraxis": {
           "colorbar": {
            "outlinewidth": 0,
            "ticks": ""
           }
          },
          "colorscale": {
           "diverging": [
            [
             0,
             "#8e0152"
            ],
            [
             0.1,
             "#c51b7d"
            ],
            [
             0.2,
             "#de77ae"
            ],
            [
             0.3,
             "#f1b6da"
            ],
            [
             0.4,
             "#fde0ef"
            ],
            [
             0.5,
             "#f7f7f7"
            ],
            [
             0.6,
             "#e6f5d0"
            ],
            [
             0.7,
             "#b8e186"
            ],
            [
             0.8,
             "#7fbc41"
            ],
            [
             0.9,
             "#4d9221"
            ],
            [
             1,
             "#276419"
            ]
           ],
           "sequential": [
            [
             0,
             "#0d0887"
            ],
            [
             0.1111111111111111,
             "#46039f"
            ],
            [
             0.2222222222222222,
             "#7201a8"
            ],
            [
             0.3333333333333333,
             "#9c179e"
            ],
            [
             0.4444444444444444,
             "#bd3786"
            ],
            [
             0.5555555555555556,
             "#d8576b"
            ],
            [
             0.6666666666666666,
             "#ed7953"
            ],
            [
             0.7777777777777778,
             "#fb9f3a"
            ],
            [
             0.8888888888888888,
             "#fdca26"
            ],
            [
             1,
             "#f0f921"
            ]
           ],
           "sequentialminus": [
            [
             0,
             "#0d0887"
            ],
            [
             0.1111111111111111,
             "#46039f"
            ],
            [
             0.2222222222222222,
             "#7201a8"
            ],
            [
             0.3333333333333333,
             "#9c179e"
            ],
            [
             0.4444444444444444,
             "#bd3786"
            ],
            [
             0.5555555555555556,
             "#d8576b"
            ],
            [
             0.6666666666666666,
             "#ed7953"
            ],
            [
             0.7777777777777778,
             "#fb9f3a"
            ],
            [
             0.8888888888888888,
             "#fdca26"
            ],
            [
             1,
             "#f0f921"
            ]
           ]
          },
          "colorway": [
           "#636efa",
           "#EF553B",
           "#00cc96",
           "#ab63fa",
           "#FFA15A",
           "#19d3f3",
           "#FF6692",
           "#B6E880",
           "#FF97FF",
           "#FECB52"
          ],
          "font": {
           "color": "#2a3f5f"
          },
          "geo": {
           "bgcolor": "white",
           "lakecolor": "white",
           "landcolor": "#E5ECF6",
           "showlakes": true,
           "showland": true,
           "subunitcolor": "white"
          },
          "hoverlabel": {
           "align": "left"
          },
          "hovermode": "closest",
          "mapbox": {
           "style": "light"
          },
          "paper_bgcolor": "white",
          "plot_bgcolor": "#E5ECF6",
          "polar": {
           "angularaxis": {
            "gridcolor": "white",
            "linecolor": "white",
            "ticks": ""
           },
           "bgcolor": "#E5ECF6",
           "radialaxis": {
            "gridcolor": "white",
            "linecolor": "white",
            "ticks": ""
           }
          },
          "scene": {
           "xaxis": {
            "backgroundcolor": "#E5ECF6",
            "gridcolor": "white",
            "gridwidth": 2,
            "linecolor": "white",
            "showbackground": true,
            "ticks": "",
            "zerolinecolor": "white"
           },
           "yaxis": {
            "backgroundcolor": "#E5ECF6",
            "gridcolor": "white",
            "gridwidth": 2,
            "linecolor": "white",
            "showbackground": true,
            "ticks": "",
            "zerolinecolor": "white"
           },
           "zaxis": {
            "backgroundcolor": "#E5ECF6",
            "gridcolor": "white",
            "gridwidth": 2,
            "linecolor": "white",
            "showbackground": true,
            "ticks": "",
            "zerolinecolor": "white"
           }
          },
          "shapedefaults": {
           "line": {
            "color": "#2a3f5f"
           }
          },
          "ternary": {
           "aaxis": {
            "gridcolor": "white",
            "linecolor": "white",
            "ticks": ""
           },
           "baxis": {
            "gridcolor": "white",
            "linecolor": "white",
            "ticks": ""
           },
           "bgcolor": "#E5ECF6",
           "caxis": {
            "gridcolor": "white",
            "linecolor": "white",
            "ticks": ""
           }
          },
          "title": {
           "x": 0.05
          },
          "xaxis": {
           "automargin": true,
           "gridcolor": "white",
           "linecolor": "white",
           "ticks": "",
           "title": {
            "standoff": 15
           },
           "zerolinecolor": "white",
           "zerolinewidth": 2
          },
          "yaxis": {
           "automargin": true,
           "gridcolor": "white",
           "linecolor": "white",
           "ticks": "",
           "title": {
            "standoff": 15
           },
           "zerolinecolor": "white",
           "zerolinewidth": 2
          }
         }
        },
        "title": {
         "font": {
          "color": "#4D5663"
         },
         "text": "Top 20 bigrams in review after removing stop words"
        },
        "xaxis": {
         "gridcolor": "#E1E5ED",
         "linecolor": "black",
         "showgrid": true,
         "tickfont": {
          "color": "#4D5663"
         },
         "title": {
          "font": {
           "color": "#4D5663"
          },
          "text": ""
         },
         "zerolinecolor": "#E1E5ED"
        },
        "yaxis": {
         "gridcolor": "#E1E5ED",
         "linecolor": "black",
         "showgrid": true,
         "tickfont": {
          "color": "#4D5663"
         },
         "title": {
          "font": {
           "color": "#4D5663"
          },
          "text": "Count"
         },
         "zerolinecolor": "#E1E5ED"
        }
       }
      },
      "text/html": [
       "<div>                            <div id=\"4d681366-7e5b-4298-9b4b-d6f3068c6114\" class=\"plotly-graph-div\" style=\"height:525px; width:100%;\"></div>            <script type=\"text/javascript\">                require([\"plotly\"], function(Plotly) {                    window.PLOTLYENV=window.PLOTLYENV || {};\n",
       "                    window.PLOTLYENV.BASE_URL='https://plot.ly';                                    if (document.getElementById(\"4d681366-7e5b-4298-9b4b-d6f3068c6114\")) {                    Plotly.newPlot(                        \"4d681366-7e5b-4298-9b4b-d6f3068c6114\",                        [{\"marker\": {\"color\": \"rgba(255, 153, 51, 0.6)\", \"line\": {\"color\": \"rgba(255, 153, 51, 1.0)\", \"width\": 1}}, \"name\": \"count\", \"orientation\": \"v\", \"text\": \"\", \"type\": \"bar\", \"x\": [\"great view\", \"springs preserve\", \"good drinks\", \"divine cafe\", \"mac cheese\", \"kids mac\", \"happy hour\", \"great food\", \"good view\", \"good food\", \"food great\", \"monte cristo\", \"springs cafe\", \"friendly staff\", \"food good\", \"year old\", \"outdoor seating\", \"having lunch\", \"view great\", \"eaten cafe\"], \"y\": [12, 10, 7, 7, 6, 6, 6, 6, 6, 6, 5, 4, 4, 4, 4, 4, 3, 3, 3, 3]}],                        {\"legend\": {\"bgcolor\": \"#F5F6F9\", \"font\": {\"color\": \"#4D5663\"}}, \"paper_bgcolor\": \"#F5F6F9\", \"plot_bgcolor\": \"#F5F6F9\", \"template\": {\"data\": {\"bar\": [{\"error_x\": {\"color\": \"#2a3f5f\"}, \"error_y\": {\"color\": \"#2a3f5f\"}, \"marker\": {\"line\": {\"color\": \"#E5ECF6\", \"width\": 0.5}}, \"type\": \"bar\"}], \"barpolar\": [{\"marker\": {\"line\": {\"color\": \"#E5ECF6\", \"width\": 0.5}}, \"type\": \"barpolar\"}], \"carpet\": [{\"aaxis\": {\"endlinecolor\": \"#2a3f5f\", \"gridcolor\": \"white\", \"linecolor\": \"white\", \"minorgridcolor\": \"white\", \"startlinecolor\": \"#2a3f5f\"}, \"baxis\": {\"endlinecolor\": \"#2a3f5f\", \"gridcolor\": \"white\", \"linecolor\": \"white\", \"minorgridcolor\": \"white\", \"startlinecolor\": \"#2a3f5f\"}, \"type\": \"carpet\"}], \"choropleth\": [{\"colorbar\": {\"outlinewidth\": 0, \"ticks\": \"\"}, \"type\": \"choropleth\"}], \"contour\": [{\"colorbar\": {\"outlinewidth\": 0, \"ticks\": \"\"}, \"colorscale\": [[0.0, \"#0d0887\"], [0.1111111111111111, \"#46039f\"], [0.2222222222222222, \"#7201a8\"], [0.3333333333333333, \"#9c179e\"], [0.4444444444444444, \"#bd3786\"], [0.5555555555555556, \"#d8576b\"], [0.6666666666666666, \"#ed7953\"], [0.7777777777777778, \"#fb9f3a\"], [0.8888888888888888, \"#fdca26\"], [1.0, \"#f0f921\"]], \"type\": \"contour\"}], \"contourcarpet\": [{\"colorbar\": {\"outlinewidth\": 0, \"ticks\": \"\"}, \"type\": \"contourcarpet\"}], \"heatmap\": [{\"colorbar\": {\"outlinewidth\": 0, \"ticks\": \"\"}, \"colorscale\": [[0.0, \"#0d0887\"], [0.1111111111111111, \"#46039f\"], [0.2222222222222222, \"#7201a8\"], [0.3333333333333333, \"#9c179e\"], [0.4444444444444444, \"#bd3786\"], [0.5555555555555556, \"#d8576b\"], [0.6666666666666666, \"#ed7953\"], [0.7777777777777778, \"#fb9f3a\"], [0.8888888888888888, \"#fdca26\"], [1.0, \"#f0f921\"]], \"type\": \"heatmap\"}], \"heatmapgl\": [{\"colorbar\": {\"outlinewidth\": 0, \"ticks\": \"\"}, \"colorscale\": [[0.0, \"#0d0887\"], [0.1111111111111111, \"#46039f\"], [0.2222222222222222, \"#7201a8\"], [0.3333333333333333, \"#9c179e\"], [0.4444444444444444, \"#bd3786\"], [0.5555555555555556, \"#d8576b\"], [0.6666666666666666, \"#ed7953\"], [0.7777777777777778, \"#fb9f3a\"], [0.8888888888888888, \"#fdca26\"], [1.0, \"#f0f921\"]], \"type\": \"heatmapgl\"}], \"histogram\": [{\"marker\": {\"colorbar\": {\"outlinewidth\": 0, \"ticks\": \"\"}}, \"type\": \"histogram\"}], \"histogram2d\": [{\"colorbar\": {\"outlinewidth\": 0, \"ticks\": \"\"}, \"colorscale\": [[0.0, \"#0d0887\"], [0.1111111111111111, \"#46039f\"], [0.2222222222222222, \"#7201a8\"], [0.3333333333333333, \"#9c179e\"], [0.4444444444444444, \"#bd3786\"], [0.5555555555555556, \"#d8576b\"], [0.6666666666666666, \"#ed7953\"], [0.7777777777777778, \"#fb9f3a\"], [0.8888888888888888, \"#fdca26\"], [1.0, \"#f0f921\"]], \"type\": \"histogram2d\"}], \"histogram2dcontour\": [{\"colorbar\": {\"outlinewidth\": 0, \"ticks\": \"\"}, \"colorscale\": [[0.0, \"#0d0887\"], [0.1111111111111111, \"#46039f\"], [0.2222222222222222, \"#7201a8\"], [0.3333333333333333, \"#9c179e\"], [0.4444444444444444, \"#bd3786\"], [0.5555555555555556, \"#d8576b\"], [0.6666666666666666, \"#ed7953\"], [0.7777777777777778, \"#fb9f3a\"], [0.8888888888888888, \"#fdca26\"], [1.0, \"#f0f921\"]], \"type\": \"histogram2dcontour\"}], \"mesh3d\": [{\"colorbar\": {\"outlinewidth\": 0, \"ticks\": \"\"}, \"type\": \"mesh3d\"}], \"parcoords\": [{\"line\": {\"colorbar\": {\"outlinewidth\": 0, \"ticks\": \"\"}}, \"type\": \"parcoords\"}], \"pie\": [{\"automargin\": true, \"type\": \"pie\"}], \"scatter\": [{\"marker\": {\"colorbar\": {\"outlinewidth\": 0, \"ticks\": \"\"}}, \"type\": \"scatter\"}], \"scatter3d\": [{\"line\": {\"colorbar\": {\"outlinewidth\": 0, \"ticks\": \"\"}}, \"marker\": {\"colorbar\": {\"outlinewidth\": 0, \"ticks\": \"\"}}, \"type\": \"scatter3d\"}], \"scattercarpet\": [{\"marker\": {\"colorbar\": {\"outlinewidth\": 0, \"ticks\": \"\"}}, \"type\": \"scattercarpet\"}], \"scattergeo\": [{\"marker\": {\"colorbar\": {\"outlinewidth\": 0, \"ticks\": \"\"}}, \"type\": \"scattergeo\"}], \"scattergl\": [{\"marker\": {\"colorbar\": {\"outlinewidth\": 0, \"ticks\": \"\"}}, \"type\": \"scattergl\"}], \"scattermapbox\": [{\"marker\": {\"colorbar\": {\"outlinewidth\": 0, \"ticks\": \"\"}}, \"type\": \"scattermapbox\"}], \"scatterpolar\": [{\"marker\": {\"colorbar\": {\"outlinewidth\": 0, \"ticks\": \"\"}}, \"type\": \"scatterpolar\"}], \"scatterpolargl\": [{\"marker\": {\"colorbar\": {\"outlinewidth\": 0, \"ticks\": \"\"}}, \"type\": \"scatterpolargl\"}], \"scatterternary\": [{\"marker\": {\"colorbar\": {\"outlinewidth\": 0, \"ticks\": \"\"}}, \"type\": \"scatterternary\"}], \"surface\": [{\"colorbar\": {\"outlinewidth\": 0, \"ticks\": \"\"}, \"colorscale\": [[0.0, \"#0d0887\"], [0.1111111111111111, \"#46039f\"], [0.2222222222222222, \"#7201a8\"], [0.3333333333333333, \"#9c179e\"], [0.4444444444444444, \"#bd3786\"], [0.5555555555555556, \"#d8576b\"], [0.6666666666666666, \"#ed7953\"], [0.7777777777777778, \"#fb9f3a\"], [0.8888888888888888, \"#fdca26\"], [1.0, \"#f0f921\"]], \"type\": \"surface\"}], \"table\": [{\"cells\": {\"fill\": {\"color\": \"#EBF0F8\"}, \"line\": {\"color\": \"white\"}}, \"header\": {\"fill\": {\"color\": \"#C8D4E3\"}, \"line\": {\"color\": \"white\"}}, \"type\": \"table\"}]}, \"layout\": {\"annotationdefaults\": {\"arrowcolor\": \"#2a3f5f\", \"arrowhead\": 0, \"arrowwidth\": 1}, \"coloraxis\": {\"colorbar\": {\"outlinewidth\": 0, \"ticks\": \"\"}}, \"colorscale\": {\"diverging\": [[0, \"#8e0152\"], [0.1, \"#c51b7d\"], [0.2, \"#de77ae\"], [0.3, \"#f1b6da\"], [0.4, \"#fde0ef\"], [0.5, \"#f7f7f7\"], [0.6, \"#e6f5d0\"], [0.7, \"#b8e186\"], [0.8, \"#7fbc41\"], [0.9, \"#4d9221\"], [1, \"#276419\"]], \"sequential\": [[0.0, \"#0d0887\"], [0.1111111111111111, \"#46039f\"], [0.2222222222222222, \"#7201a8\"], [0.3333333333333333, \"#9c179e\"], [0.4444444444444444, \"#bd3786\"], [0.5555555555555556, \"#d8576b\"], [0.6666666666666666, \"#ed7953\"], [0.7777777777777778, \"#fb9f3a\"], [0.8888888888888888, \"#fdca26\"], [1.0, \"#f0f921\"]], \"sequentialminus\": [[0.0, \"#0d0887\"], [0.1111111111111111, \"#46039f\"], [0.2222222222222222, \"#7201a8\"], [0.3333333333333333, \"#9c179e\"], [0.4444444444444444, \"#bd3786\"], [0.5555555555555556, \"#d8576b\"], [0.6666666666666666, \"#ed7953\"], [0.7777777777777778, \"#fb9f3a\"], [0.8888888888888888, \"#fdca26\"], [1.0, \"#f0f921\"]]}, \"colorway\": [\"#636efa\", \"#EF553B\", \"#00cc96\", \"#ab63fa\", \"#FFA15A\", \"#19d3f3\", \"#FF6692\", \"#B6E880\", \"#FF97FF\", \"#FECB52\"], \"font\": {\"color\": \"#2a3f5f\"}, \"geo\": {\"bgcolor\": \"white\", \"lakecolor\": \"white\", \"landcolor\": \"#E5ECF6\", \"showlakes\": true, \"showland\": true, \"subunitcolor\": \"white\"}, \"hoverlabel\": {\"align\": \"left\"}, \"hovermode\": \"closest\", \"mapbox\": {\"style\": \"light\"}, \"paper_bgcolor\": \"white\", \"plot_bgcolor\": \"#E5ECF6\", \"polar\": {\"angularaxis\": {\"gridcolor\": \"white\", \"linecolor\": \"white\", \"ticks\": \"\"}, \"bgcolor\": \"#E5ECF6\", \"radialaxis\": {\"gridcolor\": \"white\", \"linecolor\": \"white\", \"ticks\": \"\"}}, \"scene\": {\"xaxis\": {\"backgroundcolor\": \"#E5ECF6\", \"gridcolor\": \"white\", \"gridwidth\": 2, \"linecolor\": \"white\", \"showbackground\": true, \"ticks\": \"\", \"zerolinecolor\": \"white\"}, \"yaxis\": {\"backgroundcolor\": \"#E5ECF6\", \"gridcolor\": \"white\", \"gridwidth\": 2, \"linecolor\": \"white\", \"showbackground\": true, \"ticks\": \"\", \"zerolinecolor\": \"white\"}, \"zaxis\": {\"backgroundcolor\": \"#E5ECF6\", \"gridcolor\": \"white\", \"gridwidth\": 2, \"linecolor\": \"white\", \"showbackground\": true, \"ticks\": \"\", \"zerolinecolor\": \"white\"}}, \"shapedefaults\": {\"line\": {\"color\": \"#2a3f5f\"}}, \"ternary\": {\"aaxis\": {\"gridcolor\": \"white\", \"linecolor\": \"white\", \"ticks\": \"\"}, \"baxis\": {\"gridcolor\": \"white\", \"linecolor\": \"white\", \"ticks\": \"\"}, \"bgcolor\": \"#E5ECF6\", \"caxis\": {\"gridcolor\": \"white\", \"linecolor\": \"white\", \"ticks\": \"\"}}, \"title\": {\"x\": 0.05}, \"xaxis\": {\"automargin\": true, \"gridcolor\": \"white\", \"linecolor\": \"white\", \"ticks\": \"\", \"title\": {\"standoff\": 15}, \"zerolinecolor\": \"white\", \"zerolinewidth\": 2}, \"yaxis\": {\"automargin\": true, \"gridcolor\": \"white\", \"linecolor\": \"white\", \"ticks\": \"\", \"title\": {\"standoff\": 15}, \"zerolinecolor\": \"white\", \"zerolinewidth\": 2}}}, \"title\": {\"font\": {\"color\": \"#4D5663\"}, \"text\": \"Top 20 bigrams in review after removing stop words\"}, \"xaxis\": {\"gridcolor\": \"#E1E5ED\", \"linecolor\": \"black\", \"showgrid\": true, \"tickfont\": {\"color\": \"#4D5663\"}, \"title\": {\"font\": {\"color\": \"#4D5663\"}, \"text\": \"\"}, \"zerolinecolor\": \"#E1E5ED\"}, \"yaxis\": {\"gridcolor\": \"#E1E5ED\", \"linecolor\": \"black\", \"showgrid\": true, \"tickfont\": {\"color\": \"#4D5663\"}, \"title\": {\"font\": {\"color\": \"#4D5663\"}, \"text\": \"Count\"}, \"zerolinecolor\": \"#E1E5ED\"}},                        {\"showLink\": true, \"linkText\": \"Export to plot.ly\", \"plotlyServerURL\": \"https://plot.ly\", \"responsive\": true}                    ).then(function(){\n",
       "                            \n",
       "var gd = document.getElementById('4d681366-7e5b-4298-9b4b-d6f3068c6114');\n",
       "var x = new MutationObserver(function (mutations, observer) {{\n",
       "        var display = window.getComputedStyle(gd).display;\n",
       "        if (!display || display === 'none') {{\n",
       "            console.log([gd, 'removed!']);\n",
       "            Plotly.purge(gd);\n",
       "            observer.disconnect();\n",
       "        }}\n",
       "}});\n",
       "\n",
       "// Listen for the removal of the full notebook cells\n",
       "var notebookContainer = gd.closest('#notebook-container');\n",
       "if (notebookContainer) {{\n",
       "    x.observe(notebookContainer, {childList: true});\n",
       "}}\n",
       "\n",
       "// Listen for the clearing of the current output cell\n",
       "var outputEl = gd.closest('.output');\n",
       "if (outputEl) {{\n",
       "    x.observe(outputEl, {childList: true});\n",
       "}}\n",
       "\n",
       "                        })                };                });            </script>        </div>"
      ]
     },
     "metadata": {},
     "output_type": "display_data"
    }
   ],
   "source": [
    "df4.groupby('resolved').sum()['count'].sort_values(ascending=False).iplot(\n",
    "    kind='bar', yTitle='Count', linecolor='black', title='Top 20 bigrams in review after removing stop words')"
   ]
  },
  {
   "cell_type": "markdown",
   "metadata": {},
   "source": [
    "#### Review POS tags for reviews"
   ]
  },
  {
   "cell_type": "code",
   "execution_count": 24,
   "metadata": {},
   "outputs": [
    {
     "data": {
      "application/vnd.plotly.v1+json": {
       "config": {
        "linkText": "Export to plot.ly",
        "plotlyServerURL": "https://plot.ly",
        "showLink": true
       },
       "data": [
        {
         "marker": {
          "color": "rgba(255, 153, 51, 0.6)",
          "line": {
           "color": "rgba(255, 153, 51, 1.0)",
           "width": 1
          }
         },
         "name": "pos",
         "orientation": "v",
         "text": "",
         "type": "bar",
         "x": [
          "NN",
          "CD",
          "NNP",
          "DT",
          "JJ",
          "IN",
          "RB",
          "PRP",
          "CC",
          "VBP",
          "NNS",
          "VBD",
          "VBZ",
          "VBN",
          "PRP$",
          "VBG",
          "VB",
          "MD",
          "JJS",
          "TO"
         ],
         "y": [
          61,
          37,
          36,
          31,
          20,
          14,
          12,
          12,
          11,
          10,
          10,
          9,
          8,
          8,
          6,
          5,
          4,
          2,
          2,
          1
         ]
        }
       ],
       "layout": {
        "legend": {
         "bgcolor": "#F5F6F9",
         "font": {
          "color": "#4D5663"
         }
        },
        "paper_bgcolor": "#F5F6F9",
        "plot_bgcolor": "#F5F6F9",
        "template": {
         "data": {
          "bar": [
           {
            "error_x": {
             "color": "#2a3f5f"
            },
            "error_y": {
             "color": "#2a3f5f"
            },
            "marker": {
             "line": {
              "color": "#E5ECF6",
              "width": 0.5
             }
            },
            "type": "bar"
           }
          ],
          "barpolar": [
           {
            "marker": {
             "line": {
              "color": "#E5ECF6",
              "width": 0.5
             }
            },
            "type": "barpolar"
           }
          ],
          "carpet": [
           {
            "aaxis": {
             "endlinecolor": "#2a3f5f",
             "gridcolor": "white",
             "linecolor": "white",
             "minorgridcolor": "white",
             "startlinecolor": "#2a3f5f"
            },
            "baxis": {
             "endlinecolor": "#2a3f5f",
             "gridcolor": "white",
             "linecolor": "white",
             "minorgridcolor": "white",
             "startlinecolor": "#2a3f5f"
            },
            "type": "carpet"
           }
          ],
          "choropleth": [
           {
            "colorbar": {
             "outlinewidth": 0,
             "ticks": ""
            },
            "type": "choropleth"
           }
          ],
          "contour": [
           {
            "colorbar": {
             "outlinewidth": 0,
             "ticks": ""
            },
            "colorscale": [
             [
              0,
              "#0d0887"
             ],
             [
              0.1111111111111111,
              "#46039f"
             ],
             [
              0.2222222222222222,
              "#7201a8"
             ],
             [
              0.3333333333333333,
              "#9c179e"
             ],
             [
              0.4444444444444444,
              "#bd3786"
             ],
             [
              0.5555555555555556,
              "#d8576b"
             ],
             [
              0.6666666666666666,
              "#ed7953"
             ],
             [
              0.7777777777777778,
              "#fb9f3a"
             ],
             [
              0.8888888888888888,
              "#fdca26"
             ],
             [
              1,
              "#f0f921"
             ]
            ],
            "type": "contour"
           }
          ],
          "contourcarpet": [
           {
            "colorbar": {
             "outlinewidth": 0,
             "ticks": ""
            },
            "type": "contourcarpet"
           }
          ],
          "heatmap": [
           {
            "colorbar": {
             "outlinewidth": 0,
             "ticks": ""
            },
            "colorscale": [
             [
              0,
              "#0d0887"
             ],
             [
              0.1111111111111111,
              "#46039f"
             ],
             [
              0.2222222222222222,
              "#7201a8"
             ],
             [
              0.3333333333333333,
              "#9c179e"
             ],
             [
              0.4444444444444444,
              "#bd3786"
             ],
             [
              0.5555555555555556,
              "#d8576b"
             ],
             [
              0.6666666666666666,
              "#ed7953"
             ],
             [
              0.7777777777777778,
              "#fb9f3a"
             ],
             [
              0.8888888888888888,
              "#fdca26"
             ],
             [
              1,
              "#f0f921"
             ]
            ],
            "type": "heatmap"
           }
          ],
          "heatmapgl": [
           {
            "colorbar": {
             "outlinewidth": 0,
             "ticks": ""
            },
            "colorscale": [
             [
              0,
              "#0d0887"
             ],
             [
              0.1111111111111111,
              "#46039f"
             ],
             [
              0.2222222222222222,
              "#7201a8"
             ],
             [
              0.3333333333333333,
              "#9c179e"
             ],
             [
              0.4444444444444444,
              "#bd3786"
             ],
             [
              0.5555555555555556,
              "#d8576b"
             ],
             [
              0.6666666666666666,
              "#ed7953"
             ],
             [
              0.7777777777777778,
              "#fb9f3a"
             ],
             [
              0.8888888888888888,
              "#fdca26"
             ],
             [
              1,
              "#f0f921"
             ]
            ],
            "type": "heatmapgl"
           }
          ],
          "histogram": [
           {
            "marker": {
             "colorbar": {
              "outlinewidth": 0,
              "ticks": ""
             }
            },
            "type": "histogram"
           }
          ],
          "histogram2d": [
           {
            "colorbar": {
             "outlinewidth": 0,
             "ticks": ""
            },
            "colorscale": [
             [
              0,
              "#0d0887"
             ],
             [
              0.1111111111111111,
              "#46039f"
             ],
             [
              0.2222222222222222,
              "#7201a8"
             ],
             [
              0.3333333333333333,
              "#9c179e"
             ],
             [
              0.4444444444444444,
              "#bd3786"
             ],
             [
              0.5555555555555556,
              "#d8576b"
             ],
             [
              0.6666666666666666,
              "#ed7953"
             ],
             [
              0.7777777777777778,
              "#fb9f3a"
             ],
             [
              0.8888888888888888,
              "#fdca26"
             ],
             [
              1,
              "#f0f921"
             ]
            ],
            "type": "histogram2d"
           }
          ],
          "histogram2dcontour": [
           {
            "colorbar": {
             "outlinewidth": 0,
             "ticks": ""
            },
            "colorscale": [
             [
              0,
              "#0d0887"
             ],
             [
              0.1111111111111111,
              "#46039f"
             ],
             [
              0.2222222222222222,
              "#7201a8"
             ],
             [
              0.3333333333333333,
              "#9c179e"
             ],
             [
              0.4444444444444444,
              "#bd3786"
             ],
             [
              0.5555555555555556,
              "#d8576b"
             ],
             [
              0.6666666666666666,
              "#ed7953"
             ],
             [
              0.7777777777777778,
              "#fb9f3a"
             ],
             [
              0.8888888888888888,
              "#fdca26"
             ],
             [
              1,
              "#f0f921"
             ]
            ],
            "type": "histogram2dcontour"
           }
          ],
          "mesh3d": [
           {
            "colorbar": {
             "outlinewidth": 0,
             "ticks": ""
            },
            "type": "mesh3d"
           }
          ],
          "parcoords": [
           {
            "line": {
             "colorbar": {
              "outlinewidth": 0,
              "ticks": ""
             }
            },
            "type": "parcoords"
           }
          ],
          "pie": [
           {
            "automargin": true,
            "type": "pie"
           }
          ],
          "scatter": [
           {
            "marker": {
             "colorbar": {
              "outlinewidth": 0,
              "ticks": ""
             }
            },
            "type": "scatter"
           }
          ],
          "scatter3d": [
           {
            "line": {
             "colorbar": {
              "outlinewidth": 0,
              "ticks": ""
             }
            },
            "marker": {
             "colorbar": {
              "outlinewidth": 0,
              "ticks": ""
             }
            },
            "type": "scatter3d"
           }
          ],
          "scattercarpet": [
           {
            "marker": {
             "colorbar": {
              "outlinewidth": 0,
              "ticks": ""
             }
            },
            "type": "scattercarpet"
           }
          ],
          "scattergeo": [
           {
            "marker": {
             "colorbar": {
              "outlinewidth": 0,
              "ticks": ""
             }
            },
            "type": "scattergeo"
           }
          ],
          "scattergl": [
           {
            "marker": {
             "colorbar": {
              "outlinewidth": 0,
              "ticks": ""
             }
            },
            "type": "scattergl"
           }
          ],
          "scattermapbox": [
           {
            "marker": {
             "colorbar": {
              "outlinewidth": 0,
              "ticks": ""
             }
            },
            "type": "scattermapbox"
           }
          ],
          "scatterpolar": [
           {
            "marker": {
             "colorbar": {
              "outlinewidth": 0,
              "ticks": ""
             }
            },
            "type": "scatterpolar"
           }
          ],
          "scatterpolargl": [
           {
            "marker": {
             "colorbar": {
              "outlinewidth": 0,
              "ticks": ""
             }
            },
            "type": "scatterpolargl"
           }
          ],
          "scatterternary": [
           {
            "marker": {
             "colorbar": {
              "outlinewidth": 0,
              "ticks": ""
             }
            },
            "type": "scatterternary"
           }
          ],
          "surface": [
           {
            "colorbar": {
             "outlinewidth": 0,
             "ticks": ""
            },
            "colorscale": [
             [
              0,
              "#0d0887"
             ],
             [
              0.1111111111111111,
              "#46039f"
             ],
             [
              0.2222222222222222,
              "#7201a8"
             ],
             [
              0.3333333333333333,
              "#9c179e"
             ],
             [
              0.4444444444444444,
              "#bd3786"
             ],
             [
              0.5555555555555556,
              "#d8576b"
             ],
             [
              0.6666666666666666,
              "#ed7953"
             ],
             [
              0.7777777777777778,
              "#fb9f3a"
             ],
             [
              0.8888888888888888,
              "#fdca26"
             ],
             [
              1,
              "#f0f921"
             ]
            ],
            "type": "surface"
           }
          ],
          "table": [
           {
            "cells": {
             "fill": {
              "color": "#EBF0F8"
             },
             "line": {
              "color": "white"
             }
            },
            "header": {
             "fill": {
              "color": "#C8D4E3"
             },
             "line": {
              "color": "white"
             }
            },
            "type": "table"
           }
          ]
         },
         "layout": {
          "annotationdefaults": {
           "arrowcolor": "#2a3f5f",
           "arrowhead": 0,
           "arrowwidth": 1
          },
          "coloraxis": {
           "colorbar": {
            "outlinewidth": 0,
            "ticks": ""
           }
          },
          "colorscale": {
           "diverging": [
            [
             0,
             "#8e0152"
            ],
            [
             0.1,
             "#c51b7d"
            ],
            [
             0.2,
             "#de77ae"
            ],
            [
             0.3,
             "#f1b6da"
            ],
            [
             0.4,
             "#fde0ef"
            ],
            [
             0.5,
             "#f7f7f7"
            ],
            [
             0.6,
             "#e6f5d0"
            ],
            [
             0.7,
             "#b8e186"
            ],
            [
             0.8,
             "#7fbc41"
            ],
            [
             0.9,
             "#4d9221"
            ],
            [
             1,
             "#276419"
            ]
           ],
           "sequential": [
            [
             0,
             "#0d0887"
            ],
            [
             0.1111111111111111,
             "#46039f"
            ],
            [
             0.2222222222222222,
             "#7201a8"
            ],
            [
             0.3333333333333333,
             "#9c179e"
            ],
            [
             0.4444444444444444,
             "#bd3786"
            ],
            [
             0.5555555555555556,
             "#d8576b"
            ],
            [
             0.6666666666666666,
             "#ed7953"
            ],
            [
             0.7777777777777778,
             "#fb9f3a"
            ],
            [
             0.8888888888888888,
             "#fdca26"
            ],
            [
             1,
             "#f0f921"
            ]
           ],
           "sequentialminus": [
            [
             0,
             "#0d0887"
            ],
            [
             0.1111111111111111,
             "#46039f"
            ],
            [
             0.2222222222222222,
             "#7201a8"
            ],
            [
             0.3333333333333333,
             "#9c179e"
            ],
            [
             0.4444444444444444,
             "#bd3786"
            ],
            [
             0.5555555555555556,
             "#d8576b"
            ],
            [
             0.6666666666666666,
             "#ed7953"
            ],
            [
             0.7777777777777778,
             "#fb9f3a"
            ],
            [
             0.8888888888888888,
             "#fdca26"
            ],
            [
             1,
             "#f0f921"
            ]
           ]
          },
          "colorway": [
           "#636efa",
           "#EF553B",
           "#00cc96",
           "#ab63fa",
           "#FFA15A",
           "#19d3f3",
           "#FF6692",
           "#B6E880",
           "#FF97FF",
           "#FECB52"
          ],
          "font": {
           "color": "#2a3f5f"
          },
          "geo": {
           "bgcolor": "white",
           "lakecolor": "white",
           "landcolor": "#E5ECF6",
           "showlakes": true,
           "showland": true,
           "subunitcolor": "white"
          },
          "hoverlabel": {
           "align": "left"
          },
          "hovermode": "closest",
          "mapbox": {
           "style": "light"
          },
          "paper_bgcolor": "white",
          "plot_bgcolor": "#E5ECF6",
          "polar": {
           "angularaxis": {
            "gridcolor": "white",
            "linecolor": "white",
            "ticks": ""
           },
           "bgcolor": "#E5ECF6",
           "radialaxis": {
            "gridcolor": "white",
            "linecolor": "white",
            "ticks": ""
           }
          },
          "scene": {
           "xaxis": {
            "backgroundcolor": "#E5ECF6",
            "gridcolor": "white",
            "gridwidth": 2,
            "linecolor": "white",
            "showbackground": true,
            "ticks": "",
            "zerolinecolor": "white"
           },
           "yaxis": {
            "backgroundcolor": "#E5ECF6",
            "gridcolor": "white",
            "gridwidth": 2,
            "linecolor": "white",
            "showbackground": true,
            "ticks": "",
            "zerolinecolor": "white"
           },
           "zaxis": {
            "backgroundcolor": "#E5ECF6",
            "gridcolor": "white",
            "gridwidth": 2,
            "linecolor": "white",
            "showbackground": true,
            "ticks": "",
            "zerolinecolor": "white"
           }
          },
          "shapedefaults": {
           "line": {
            "color": "#2a3f5f"
           }
          },
          "ternary": {
           "aaxis": {
            "gridcolor": "white",
            "linecolor": "white",
            "ticks": ""
           },
           "baxis": {
            "gridcolor": "white",
            "linecolor": "white",
            "ticks": ""
           },
           "bgcolor": "#E5ECF6",
           "caxis": {
            "gridcolor": "white",
            "linecolor": "white",
            "ticks": ""
           }
          },
          "title": {
           "x": 0.05
          },
          "xaxis": {
           "automargin": true,
           "gridcolor": "white",
           "linecolor": "white",
           "ticks": "",
           "title": {
            "standoff": 15
           },
           "zerolinecolor": "white",
           "zerolinewidth": 2
          },
          "yaxis": {
           "automargin": true,
           "gridcolor": "white",
           "linecolor": "white",
           "ticks": "",
           "title": {
            "standoff": 15
           },
           "zerolinecolor": "white",
           "zerolinewidth": 2
          }
         }
        },
        "title": {
         "font": {
          "color": "#4D5663"
         },
         "text": "Top 20 Part-of-speech tagging for review corpus"
        },
        "xaxis": {
         "gridcolor": "#E1E5ED",
         "showgrid": true,
         "tickfont": {
          "color": "#4D5663"
         },
         "title": {
          "font": {
           "color": "#4D5663"
          },
          "text": "POS"
         },
         "zerolinecolor": "#E1E5ED"
        },
        "yaxis": {
         "gridcolor": "#E1E5ED",
         "showgrid": true,
         "tickfont": {
          "color": "#4D5663"
         },
         "title": {
          "font": {
           "color": "#4D5663"
          },
          "text": "count"
         },
         "zerolinecolor": "#E1E5ED"
        }
       }
      },
      "text/html": [
       "<div>                            <div id=\"d8070d5b-7677-4095-9d13-9b67e6a45004\" class=\"plotly-graph-div\" style=\"height:525px; width:100%;\"></div>            <script type=\"text/javascript\">                require([\"plotly\"], function(Plotly) {                    window.PLOTLYENV=window.PLOTLYENV || {};\n",
       "                    window.PLOTLYENV.BASE_URL='https://plot.ly';                                    if (document.getElementById(\"d8070d5b-7677-4095-9d13-9b67e6a45004\")) {                    Plotly.newPlot(                        \"d8070d5b-7677-4095-9d13-9b67e6a45004\",                        [{\"marker\": {\"color\": \"rgba(255, 153, 51, 0.6)\", \"line\": {\"color\": \"rgba(255, 153, 51, 1.0)\", \"width\": 1}}, \"name\": \"pos\", \"orientation\": \"v\", \"text\": \"\", \"type\": \"bar\", \"x\": [\"NN\", \"CD\", \"NNP\", \"DT\", \"JJ\", \"IN\", \"RB\", \"PRP\", \"CC\", \"VBP\", \"NNS\", \"VBD\", \"VBZ\", \"VBN\", \"PRP$\", \"VBG\", \"VB\", \"MD\", \"JJS\", \"TO\"], \"y\": [61, 37, 36, 31, 20, 14, 12, 12, 11, 10, 10, 9, 8, 8, 6, 5, 4, 2, 2, 1]}],                        {\"legend\": {\"bgcolor\": \"#F5F6F9\", \"font\": {\"color\": \"#4D5663\"}}, \"paper_bgcolor\": \"#F5F6F9\", \"plot_bgcolor\": \"#F5F6F9\", \"template\": {\"data\": {\"bar\": [{\"error_x\": {\"color\": \"#2a3f5f\"}, \"error_y\": {\"color\": \"#2a3f5f\"}, \"marker\": {\"line\": {\"color\": \"#E5ECF6\", \"width\": 0.5}}, \"type\": \"bar\"}], \"barpolar\": [{\"marker\": {\"line\": {\"color\": \"#E5ECF6\", \"width\": 0.5}}, \"type\": \"barpolar\"}], \"carpet\": [{\"aaxis\": {\"endlinecolor\": \"#2a3f5f\", \"gridcolor\": \"white\", \"linecolor\": \"white\", \"minorgridcolor\": \"white\", \"startlinecolor\": \"#2a3f5f\"}, \"baxis\": {\"endlinecolor\": \"#2a3f5f\", \"gridcolor\": \"white\", \"linecolor\": \"white\", \"minorgridcolor\": \"white\", \"startlinecolor\": \"#2a3f5f\"}, \"type\": \"carpet\"}], \"choropleth\": [{\"colorbar\": {\"outlinewidth\": 0, \"ticks\": \"\"}, \"type\": \"choropleth\"}], \"contour\": [{\"colorbar\": {\"outlinewidth\": 0, \"ticks\": \"\"}, \"colorscale\": [[0.0, \"#0d0887\"], [0.1111111111111111, \"#46039f\"], [0.2222222222222222, \"#7201a8\"], [0.3333333333333333, \"#9c179e\"], [0.4444444444444444, \"#bd3786\"], [0.5555555555555556, \"#d8576b\"], [0.6666666666666666, \"#ed7953\"], [0.7777777777777778, \"#fb9f3a\"], [0.8888888888888888, \"#fdca26\"], [1.0, \"#f0f921\"]], \"type\": \"contour\"}], \"contourcarpet\": [{\"colorbar\": {\"outlinewidth\": 0, \"ticks\": \"\"}, \"type\": \"contourcarpet\"}], \"heatmap\": [{\"colorbar\": {\"outlinewidth\": 0, \"ticks\": \"\"}, \"colorscale\": [[0.0, \"#0d0887\"], [0.1111111111111111, \"#46039f\"], [0.2222222222222222, \"#7201a8\"], [0.3333333333333333, \"#9c179e\"], [0.4444444444444444, \"#bd3786\"], [0.5555555555555556, \"#d8576b\"], [0.6666666666666666, \"#ed7953\"], [0.7777777777777778, \"#fb9f3a\"], [0.8888888888888888, \"#fdca26\"], [1.0, \"#f0f921\"]], \"type\": \"heatmap\"}], \"heatmapgl\": [{\"colorbar\": {\"outlinewidth\": 0, \"ticks\": \"\"}, \"colorscale\": [[0.0, \"#0d0887\"], [0.1111111111111111, \"#46039f\"], [0.2222222222222222, \"#7201a8\"], [0.3333333333333333, \"#9c179e\"], [0.4444444444444444, \"#bd3786\"], [0.5555555555555556, \"#d8576b\"], [0.6666666666666666, \"#ed7953\"], [0.7777777777777778, \"#fb9f3a\"], [0.8888888888888888, \"#fdca26\"], [1.0, \"#f0f921\"]], \"type\": \"heatmapgl\"}], \"histogram\": [{\"marker\": {\"colorbar\": {\"outlinewidth\": 0, \"ticks\": \"\"}}, \"type\": \"histogram\"}], \"histogram2d\": [{\"colorbar\": {\"outlinewidth\": 0, \"ticks\": \"\"}, \"colorscale\": [[0.0, \"#0d0887\"], [0.1111111111111111, \"#46039f\"], [0.2222222222222222, \"#7201a8\"], [0.3333333333333333, \"#9c179e\"], [0.4444444444444444, \"#bd3786\"], [0.5555555555555556, \"#d8576b\"], [0.6666666666666666, \"#ed7953\"], [0.7777777777777778, \"#fb9f3a\"], [0.8888888888888888, \"#fdca26\"], [1.0, \"#f0f921\"]], \"type\": \"histogram2d\"}], \"histogram2dcontour\": [{\"colorbar\": {\"outlinewidth\": 0, \"ticks\": \"\"}, \"colorscale\": [[0.0, \"#0d0887\"], [0.1111111111111111, \"#46039f\"], [0.2222222222222222, \"#7201a8\"], [0.3333333333333333, \"#9c179e\"], [0.4444444444444444, \"#bd3786\"], [0.5555555555555556, \"#d8576b\"], [0.6666666666666666, \"#ed7953\"], [0.7777777777777778, \"#fb9f3a\"], [0.8888888888888888, \"#fdca26\"], [1.0, \"#f0f921\"]], \"type\": \"histogram2dcontour\"}], \"mesh3d\": [{\"colorbar\": {\"outlinewidth\": 0, \"ticks\": \"\"}, \"type\": \"mesh3d\"}], \"parcoords\": [{\"line\": {\"colorbar\": {\"outlinewidth\": 0, \"ticks\": \"\"}}, \"type\": \"parcoords\"}], \"pie\": [{\"automargin\": true, \"type\": \"pie\"}], \"scatter\": [{\"marker\": {\"colorbar\": {\"outlinewidth\": 0, \"ticks\": \"\"}}, \"type\": \"scatter\"}], \"scatter3d\": [{\"line\": {\"colorbar\": {\"outlinewidth\": 0, \"ticks\": \"\"}}, \"marker\": {\"colorbar\": {\"outlinewidth\": 0, \"ticks\": \"\"}}, \"type\": \"scatter3d\"}], \"scattercarpet\": [{\"marker\": {\"colorbar\": {\"outlinewidth\": 0, \"ticks\": \"\"}}, \"type\": \"scattercarpet\"}], \"scattergeo\": [{\"marker\": {\"colorbar\": {\"outlinewidth\": 0, \"ticks\": \"\"}}, \"type\": \"scattergeo\"}], \"scattergl\": [{\"marker\": {\"colorbar\": {\"outlinewidth\": 0, \"ticks\": \"\"}}, \"type\": \"scattergl\"}], \"scattermapbox\": [{\"marker\": {\"colorbar\": {\"outlinewidth\": 0, \"ticks\": \"\"}}, \"type\": \"scattermapbox\"}], \"scatterpolar\": [{\"marker\": {\"colorbar\": {\"outlinewidth\": 0, \"ticks\": \"\"}}, \"type\": \"scatterpolar\"}], \"scatterpolargl\": [{\"marker\": {\"colorbar\": {\"outlinewidth\": 0, \"ticks\": \"\"}}, \"type\": \"scatterpolargl\"}], \"scatterternary\": [{\"marker\": {\"colorbar\": {\"outlinewidth\": 0, \"ticks\": \"\"}}, \"type\": \"scatterternary\"}], \"surface\": [{\"colorbar\": {\"outlinewidth\": 0, \"ticks\": \"\"}, \"colorscale\": [[0.0, \"#0d0887\"], [0.1111111111111111, \"#46039f\"], [0.2222222222222222, \"#7201a8\"], [0.3333333333333333, \"#9c179e\"], [0.4444444444444444, \"#bd3786\"], [0.5555555555555556, \"#d8576b\"], [0.6666666666666666, \"#ed7953\"], [0.7777777777777778, \"#fb9f3a\"], [0.8888888888888888, \"#fdca26\"], [1.0, \"#f0f921\"]], \"type\": \"surface\"}], \"table\": [{\"cells\": {\"fill\": {\"color\": \"#EBF0F8\"}, \"line\": {\"color\": \"white\"}}, \"header\": {\"fill\": {\"color\": \"#C8D4E3\"}, \"line\": {\"color\": \"white\"}}, \"type\": \"table\"}]}, \"layout\": {\"annotationdefaults\": {\"arrowcolor\": \"#2a3f5f\", \"arrowhead\": 0, \"arrowwidth\": 1}, \"coloraxis\": {\"colorbar\": {\"outlinewidth\": 0, \"ticks\": \"\"}}, \"colorscale\": {\"diverging\": [[0, \"#8e0152\"], [0.1, \"#c51b7d\"], [0.2, \"#de77ae\"], [0.3, \"#f1b6da\"], [0.4, \"#fde0ef\"], [0.5, \"#f7f7f7\"], [0.6, \"#e6f5d0\"], [0.7, \"#b8e186\"], [0.8, \"#7fbc41\"], [0.9, \"#4d9221\"], [1, \"#276419\"]], \"sequential\": [[0.0, \"#0d0887\"], [0.1111111111111111, \"#46039f\"], [0.2222222222222222, \"#7201a8\"], [0.3333333333333333, \"#9c179e\"], [0.4444444444444444, \"#bd3786\"], [0.5555555555555556, \"#d8576b\"], [0.6666666666666666, \"#ed7953\"], [0.7777777777777778, \"#fb9f3a\"], [0.8888888888888888, \"#fdca26\"], [1.0, \"#f0f921\"]], \"sequentialminus\": [[0.0, \"#0d0887\"], [0.1111111111111111, \"#46039f\"], [0.2222222222222222, \"#7201a8\"], [0.3333333333333333, \"#9c179e\"], [0.4444444444444444, \"#bd3786\"], [0.5555555555555556, \"#d8576b\"], [0.6666666666666666, \"#ed7953\"], [0.7777777777777778, \"#fb9f3a\"], [0.8888888888888888, \"#fdca26\"], [1.0, \"#f0f921\"]]}, \"colorway\": [\"#636efa\", \"#EF553B\", \"#00cc96\", \"#ab63fa\", \"#FFA15A\", \"#19d3f3\", \"#FF6692\", \"#B6E880\", \"#FF97FF\", \"#FECB52\"], \"font\": {\"color\": \"#2a3f5f\"}, \"geo\": {\"bgcolor\": \"white\", \"lakecolor\": \"white\", \"landcolor\": \"#E5ECF6\", \"showlakes\": true, \"showland\": true, \"subunitcolor\": \"white\"}, \"hoverlabel\": {\"align\": \"left\"}, \"hovermode\": \"closest\", \"mapbox\": {\"style\": \"light\"}, \"paper_bgcolor\": \"white\", \"plot_bgcolor\": \"#E5ECF6\", \"polar\": {\"angularaxis\": {\"gridcolor\": \"white\", \"linecolor\": \"white\", \"ticks\": \"\"}, \"bgcolor\": \"#E5ECF6\", \"radialaxis\": {\"gridcolor\": \"white\", \"linecolor\": \"white\", \"ticks\": \"\"}}, \"scene\": {\"xaxis\": {\"backgroundcolor\": \"#E5ECF6\", \"gridcolor\": \"white\", \"gridwidth\": 2, \"linecolor\": \"white\", \"showbackground\": true, \"ticks\": \"\", \"zerolinecolor\": \"white\"}, \"yaxis\": {\"backgroundcolor\": \"#E5ECF6\", \"gridcolor\": \"white\", \"gridwidth\": 2, \"linecolor\": \"white\", \"showbackground\": true, \"ticks\": \"\", \"zerolinecolor\": \"white\"}, \"zaxis\": {\"backgroundcolor\": \"#E5ECF6\", \"gridcolor\": \"white\", \"gridwidth\": 2, \"linecolor\": \"white\", \"showbackground\": true, \"ticks\": \"\", \"zerolinecolor\": \"white\"}}, \"shapedefaults\": {\"line\": {\"color\": \"#2a3f5f\"}}, \"ternary\": {\"aaxis\": {\"gridcolor\": \"white\", \"linecolor\": \"white\", \"ticks\": \"\"}, \"baxis\": {\"gridcolor\": \"white\", \"linecolor\": \"white\", \"ticks\": \"\"}, \"bgcolor\": \"#E5ECF6\", \"caxis\": {\"gridcolor\": \"white\", \"linecolor\": \"white\", \"ticks\": \"\"}}, \"title\": {\"x\": 0.05}, \"xaxis\": {\"automargin\": true, \"gridcolor\": \"white\", \"linecolor\": \"white\", \"ticks\": \"\", \"title\": {\"standoff\": 15}, \"zerolinecolor\": \"white\", \"zerolinewidth\": 2}, \"yaxis\": {\"automargin\": true, \"gridcolor\": \"white\", \"linecolor\": \"white\", \"ticks\": \"\", \"title\": {\"standoff\": 15}, \"zerolinecolor\": \"white\", \"zerolinewidth\": 2}}}, \"title\": {\"font\": {\"color\": \"#4D5663\"}, \"text\": \"Top 20 Part-of-speech tagging for review corpus\"}, \"xaxis\": {\"gridcolor\": \"#E1E5ED\", \"showgrid\": true, \"tickfont\": {\"color\": \"#4D5663\"}, \"title\": {\"font\": {\"color\": \"#4D5663\"}, \"text\": \"POS\"}, \"zerolinecolor\": \"#E1E5ED\"}, \"yaxis\": {\"gridcolor\": \"#E1E5ED\", \"showgrid\": true, \"tickfont\": {\"color\": \"#4D5663\"}, \"title\": {\"font\": {\"color\": \"#4D5663\"}, \"text\": \"count\"}, \"zerolinecolor\": \"#E1E5ED\"}},                        {\"showLink\": true, \"linkText\": \"Export to plot.ly\", \"plotlyServerURL\": \"https://plot.ly\", \"responsive\": true}                    ).then(function(){\n",
       "                            \n",
       "var gd = document.getElementById('d8070d5b-7677-4095-9d13-9b67e6a45004');\n",
       "var x = new MutationObserver(function (mutations, observer) {{\n",
       "        var display = window.getComputedStyle(gd).display;\n",
       "        if (!display || display === 'none') {{\n",
       "            console.log([gd, 'removed!']);\n",
       "            Plotly.purge(gd);\n",
       "            observer.disconnect();\n",
       "        }}\n",
       "}});\n",
       "\n",
       "// Listen for the removal of the full notebook cells\n",
       "var notebookContainer = gd.closest('#notebook-container');\n",
       "if (notebookContainer) {{\n",
       "    x.observe(notebookContainer, {childList: true});\n",
       "}}\n",
       "\n",
       "// Listen for the clearing of the current output cell\n",
       "var outputEl = gd.closest('.output');\n",
       "if (outputEl) {{\n",
       "    x.observe(outputEl, {childList: true});\n",
       "}}\n",
       "\n",
       "                        })                };                });            </script>        </div>"
      ]
     },
     "metadata": {},
     "output_type": "display_data"
    }
   ],
   "source": [
    "blob = TextBlob(str(df['resolved']))\n",
    "pos_df = pd.DataFrame(blob.tags, columns = ['word' , 'pos'])\n",
    "pos_df = pos_df.pos.value_counts()[:20]\n",
    "pos_df.iplot(\n",
    "    kind='bar',\n",
    "    xTitle='POS',\n",
    "    yTitle='count', \n",
    "    title='Top 20 Part-of-speech tagging for review corpus')"
   ]
  },
  {
   "cell_type": "markdown",
   "metadata": {},
   "source": [
    "#### After summarizing the text, the word cloud consists of the most significant keywords that appear in the reviews with positive sentiment"
   ]
  },
  {
   "cell_type": "code",
   "execution_count": 29,
   "metadata": {},
   "outputs": [
    {
     "data": {
      "image/png": "[encoded data removed]",
      "image/svg+xml": [
       "<?xml version=\"1.0\" encoding=\"utf-8\" standalone=\"no\"?>\n",
       "<!DOCTYPE svg PUBLIC \"-//W3C//DTD SVG 1.1//EN\"\n",
       "  \"http://www.w3.org/Graphics/SVG/1.1/DTD/svg11.dtd\">\n",
       "<!-- Created with matplotlib (https://matplotlib.org/) -->\n",
       "<svg height=\"181.8pt\" version=\"1.1\" viewBox=\"0 0 349.2 181.8\" width=\"349.2pt\" xmlns=\"http://www.w3.org/2000/svg\" xmlns:xlink=\"http://www.w3.org/1999/xlink\">\n",
       " <defs>\n",
       "  <style type=\"text/css\">\n",
       "*{stroke-linecap:butt;stroke-linejoin:round;}\n",
       "  </style>\n",
       " </defs>\n",
       " <g id=\"figure_1\">\n",
       "  <g id=\"patch_1\">\n",
       "   <path d=\"M 0 181.8 \n",
       "L 349.2 181.8 \n",
       "L 349.2 0 \n",
       "L 0 0 \n",
       "z\n",
       "\" style=\"fill:none;\"/>\n",
       "  </g>\n",
       "  <g id=\"axes_1\">\n",
       "   <g clip-path=\"url(#p77dc297eac)\">\n",
       "    <image height=\"168\" id=\"imageb9efec137b\" transform=\"scale(1 -1)translate(0 -168)\" width=\"335\" x=\"7.2\" xlink:href=\"data:image/png;base64,\n",
       "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\" y=\"-6.6\"/>\n",
       "   </g>\n",
       "  </g>\n",
       " </g>\n",
       " <defs>\n",
       "  <clipPath id=\"p77dc297eac\">\n",
       "   <rect height=\"167.4\" width=\"334.8\" x=\"7.2\" y=\"7.2\"/>\n",
       "  </clipPath>\n",
       " </defs>\n",
       "</svg>\n"
      ],
      "text/plain": [
       "<Figure size 432x288 with 1 Axes>"
      ]
     },
     "metadata": {
      "needs_background": "light"
     },
     "output_type": "display_data"
    }
   ],
   "source": [
    "text = df['resolved']\n",
    "\n",
    "for i in range(len(text)):\n",
    "    if df['polarity'][i] > 0:\n",
    "        wordcloud_pos = WordCloud(max_font_size=50, max_words=100, background_color=\"white\").generate(text[i])\n",
    "    else:\n",
    "        wordcloud_neg = WordCloud(max_font_size=50, max_words=100, background_color=\"white\").generate(text[i])\n",
    "\n",
    "plt.figure()\n",
    "plt.imshow(wordcloud_pos, interpolation=\"bilinear\")\n",
    "plt.axis(\"off\")\n",
    "plt.show()"
   ]
  },
  {
   "cell_type": "markdown",
   "metadata": {},
   "source": [
    "#### After summarizing the text, the word cloud consists of the most significant keywords that appear in the reviews with negative sentiment"
   ]
  },
  {
   "cell_type": "code",
   "execution_count": 30,
   "metadata": {},
   "outputs": [
    {
     "data": {
      "image/png": "[encoded data removed]",
      "image/svg+xml": [
       "<?xml version=\"1.0\" encoding=\"utf-8\" standalone=\"no\"?>\n",
       "<!DOCTYPE svg PUBLIC \"-//W3C//DTD SVG 1.1//EN\"\n",
       "  \"http://www.w3.org/Graphics/SVG/1.1/DTD/svg11.dtd\">\n",
       "<!-- Created with matplotlib (https://matplotlib.org/) -->\n",
       "<svg height=\"181.8pt\" version=\"1.1\" viewBox=\"0 0 349.2 181.8\" width=\"349.2pt\" xmlns=\"http://www.w3.org/2000/svg\" xmlns:xlink=\"http://www.w3.org/1999/xlink\">\n",
       " <defs>\n",
       "  <style type=\"text/css\">\n",
       "*{stroke-linecap:butt;stroke-linejoin:round;}\n",
       "  </style>\n",
       " </defs>\n",
       " <g id=\"figure_1\">\n",
       "  <g id=\"patch_1\">\n",
       "   <path d=\"M 0 181.8 \n",
       "L 349.2 181.8 \n",
       "L 349.2 0 \n",
       "L 0 0 \n",
       "z\n",
       "\" style=\"fill:none;\"/>\n",
       "  </g>\n",
       "  <g id=\"axes_1\">\n",
       "   <g clip-path=\"url(#pc214de19c7)\">\n",
       "    <image height=\"168\" id=\"imagea763d0cf74\" transform=\"scale(1 -1)translate(0 -168)\" width=\"335\" x=\"7.2\" xlink:href=\"data:image/png;base64,\n",
       "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\" y=\"-6.6\"/>\n",
       "   </g>\n",
       "  </g>\n",
       " </g>\n",
       " <defs>\n",
       "  <clipPath id=\"pc214de19c7\">\n",
       "   <rect height=\"167.4\" width=\"334.8\" x=\"7.2\" y=\"7.2\"/>\n",
       "  </clipPath>\n",
       " </defs>\n",
       "</svg>\n"
      ],
      "text/plain": [
       "<Figure size 432x288 with 1 Axes>"
      ]
     },
     "metadata": {
      "needs_background": "light"
     },
     "output_type": "display_data"
    }
   ],
   "source": [
    "plt.figure()\n",
    "plt.imshow(wordcloud_neg, interpolation=\"bilinear\")\n",
    "plt.axis(\"off\")\n",
    "plt.show()"
   ]
  },
  {
   "cell_type": "code",
   "execution_count": null,
   "metadata": {},
   "outputs": [],
   "source": []
  }
 ],
 "metadata": {
  "kernelspec": {
   "display_name": "Python 3.7.3 64-bit",
   "language": "python",
   "name": "python37364bit7710b3c720c44ef39c027a7b2be52491"
  },
  "language_info": {
   "codemirror_mode": {
    "name": "ipython",
    "version": 3
   },
   "file_extension": ".py",
   "mimetype": "text/x-python",
   "name": "python",
   "nbconvert_exporter": "python",
   "pygments_lexer": "ipython3",
   "version": "3.7.3"
  }
 },
 "nbformat": 4,
 "nbformat_minor": 2
}